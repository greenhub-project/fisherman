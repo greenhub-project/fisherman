{
 "cells": [
  {
   "cell_type": "markdown",
   "metadata": {},
   "source": [
    "# Samples Exploratory Data Analysis"
   ]
  },
  {
   "cell_type": "code",
   "execution_count": 1,
   "metadata": {
    "ExecuteTime": {
     "end_time": "2020-08-05T18:19:47.427110Z",
     "start_time": "2020-08-05T18:19:47.423304Z"
    }
   },
   "outputs": [],
   "source": [
    "import sys\n",
    "\n",
    "sys.path.append('..')"
   ]
  },
  {
   "cell_type": "code",
   "execution_count": 2,
   "metadata": {
    "ExecuteTime": {
     "end_time": "2020-08-05T18:19:49.250176Z",
     "start_time": "2020-08-05T18:19:47.430309Z"
    }
   },
   "outputs": [],
   "source": [
    "import os\n",
    "import yaml\n",
    "import requests\n",
    "import numpy as np\n",
    "import pandas as pd\n",
    "import matplotlib.pyplot as plt\n",
    "import seaborn as sns\n",
    "import dask.dataframe as dd\n",
    "\n",
    "from dask.distributed import Client\n",
    "from pymongo import MongoClient\n",
    "from utils import optimize_dtypes"
   ]
  },
  {
   "cell_type": "code",
   "execution_count": 3,
   "metadata": {
    "ExecuteTime": {
     "end_time": "2020-08-05T18:19:49.262541Z",
     "start_time": "2020-08-05T18:19:49.252797Z"
    }
   },
   "outputs": [],
   "source": [
    "BASE_PATH = '../../'\n",
    "\n",
    "CONFIG_DIR = os.path.join(BASE_PATH, 'config')\n",
    "STORAGE_DIR = os.path.join(BASE_PATH, 'storage')\n",
    "DATA_DIR = os.path.join(BASE_PATH, 'data')\n",
    "\n",
    "config = yaml.load(open(os.path.join(CONFIG_DIR, 'env.yml')),\n",
    "                   Loader=yaml.FullLoader)"
   ]
  },
  {
   "cell_type": "code",
   "execution_count": 4,
   "metadata": {
    "ExecuteTime": {
     "end_time": "2020-08-05T18:19:49.280661Z",
     "start_time": "2020-08-05T18:19:49.264669Z"
    }
   },
   "outputs": [],
   "source": [
    "model = 'samples'\n",
    "model_storage = os.path.join(STORAGE_DIR, model)\n",
    "\n",
    "client = MongoClient('mongodb://{}:{}@{}:{}'.format(config['MONGO_USERNAME'], config['MONGO_PASSWORD'],\n",
    "                                                    config['MONGO_HOST'], config['MONGO_PORT']))\n",
    "metadata_db = client[config['MONGO_DATABASE']]\n",
    "\n",
    "model_metadata = metadata_db[model]"
   ]
  },
  {
   "cell_type": "code",
   "execution_count": 5,
   "metadata": {
    "ExecuteTime": {
     "end_time": "2020-08-05T18:19:49.319177Z",
     "start_time": "2020-08-05T18:19:49.285095Z"
    }
   },
   "outputs": [],
   "source": [
    "mappings = model_metadata.find({}, {'mappings': 1}).next()['mappings']"
   ]
  },
  {
   "cell_type": "code",
   "execution_count": 6,
   "metadata": {
    "ExecuteTime": {
     "end_time": "2020-08-05T18:19:50.799540Z",
     "start_time": "2020-08-05T18:19:49.320990Z"
    }
   },
   "outputs": [],
   "source": [
    "client = Client(n_workers=4)"
   ]
  },
  {
   "cell_type": "code",
   "execution_count": 7,
   "metadata": {
    "ExecuteTime": {
     "end_time": "2020-08-05T18:19:50.816781Z",
     "start_time": "2020-08-05T18:19:50.804066Z"
    }
   },
   "outputs": [],
   "source": [
    "files = os.path.join(model_storage, 'samples.*.parquet')"
   ]
  },
  {
   "cell_type": "code",
   "execution_count": 8,
   "metadata": {
    "ExecuteTime": {
     "end_time": "2020-08-05T18:19:51.170462Z",
     "start_time": "2020-08-05T18:19:50.820211Z"
    }
   },
   "outputs": [
    {
     "name": "stderr",
     "output_type": "stream",
     "text": [
      "/opt/conda/lib/python3.8/site-packages/pyarrow/compat.py:24: FutureWarning: pyarrow.compat has been deprecated and will be removed in a future release\n",
      "  warnings.warn(\"pyarrow.compat has been deprecated and will be removed in a \"\n"
     ]
    },
    {
     "ename": "ValueError",
     "evalue": "Schema in /home/jovyan/storage/samples/samples.3.parquet was different. \nid: int64\n  -- field metadata --\n  PARQUET:field_id: '1'\ndevice_id: int64\n  -- field metadata --\n  PARQUET:field_id: '2'\ntimestamp: timestamp[ms]\n  -- field metadata --\n  PARQUET:field_id: '3'\nbattery_state: dictionary<values=string, indices=int32, ordered=0>\n  -- field metadata --\n  PARQUET:field_id: '4'\nbattery_level: uint8\n  -- field metadata --\n  PARQUET:field_id: '5'\ntimezone: string\n  -- field metadata --\n  PARQUET:field_id: '6'\ncharger: dictionary<values=string, indices=int32, ordered=0>\n  -- field metadata --\n  PARQUET:field_id: '7'\nhealth: string\n  -- field metadata --\n  PARQUET:field_id: '8'\nvoltage: double\n  -- field metadata --\n  PARQUET:field_id: '9'\ntemperature: double\n  -- field metadata --\n  PARQUET:field_id: '10'\nusage: uint8\n  -- field metadata --\n  PARQUET:field_id: '11'\nup_time: double\n  -- field metadata --\n  PARQUET:field_id: '12'\nsleep_time: double\n  -- field metadata --\n  PARQUET:field_id: '13'\nnetwork_status: string\n  -- field metadata --\n  PARQUET:field_id: '14'\nmobile_data_status: dictionary<values=string, indices=int32, ordered=0>\n  -- field metadata --\n  PARQUET:field_id: '15'\nmobile_data_activity: dictionary<values=string, indices=int32, ordered=0>\n  -- field metadata --\n  PARQUET:field_id: '16'\nwifi_status: string\n  -- field metadata --\n  PARQUET:field_id: '17'\nwifi_signal_strength: int16\n  -- field metadata --\n  PARQUET:field_id: '18'\nwifi_link_speed: int16\n  -- field metadata --\n  PARQUET:field_id: '19'\nscreen_on: bool\n  -- field metadata --\n  PARQUET:field_id: '20'\nscreen_brightness: int16\n  -- field metadata --\n  PARQUET:field_id: '21'\nroaming_enabled: bool\n  -- field metadata --\n  PARQUET:field_id: '22'\nbluetooth_enabled: bool\n  -- field metadata --\n  PARQUET:field_id: '23'\nlocation_enabled: bool\n  -- field metadata --\n  PARQUET:field_id: '24'\npower_saver_enabled: bool\n  -- field metadata --\n  PARQUET:field_id: '25'\nnfc_enabled: bool\n  -- field metadata --\n  PARQUET:field_id: '26'\ndeveloper_mode: bool\n  -- field metadata --\n  PARQUET:field_id: '27'\nfree: int64\n  -- field metadata --\n  PARQUET:field_id: '28'\ntotal: int64\n  -- field metadata --\n  PARQUET:field_id: '29'\nfree_system: int64\n  -- field metadata --\n  PARQUET:field_id: '30'\ntotal_system: int64\n  -- field metadata --\n  PARQUET:field_id: '31'\n-- schema metadata --\npandas: '{\"index_columns\": [{\"kind\": \"range\", \"name\": null, \"start\": 0, \"' + 4179\n\nvs\n\nid: int64\n  -- field metadata --\n  PARQUET:field_id: '1'\ndevice_id: int64\n  -- field metadata --\n  PARQUET:field_id: '2'\ntimestamp: timestamp[ms]\n  -- field metadata --\n  PARQUET:field_id: '3'\nbattery_state: dictionary<values=string, indices=int32, ordered=0>\n  -- field metadata --\n  PARQUET:field_id: '4'\nbattery_level: uint8\n  -- field metadata --\n  PARQUET:field_id: '5'\ntimezone: string\n  -- field metadata --\n  PARQUET:field_id: '6'\ncharger: dictionary<values=string, indices=int32, ordered=0>\n  -- field metadata --\n  PARQUET:field_id: '7'\nhealth: string\n  -- field metadata --\n  PARQUET:field_id: '8'\nvoltage: double\n  -- field metadata --\n  PARQUET:field_id: '9'\ntemperature: double\n  -- field metadata --\n  PARQUET:field_id: '10'\nusage: uint8\n  -- field metadata --\n  PARQUET:field_id: '11'\nup_time: int64\n  -- field metadata --\n  PARQUET:field_id: '12'\nsleep_time: int64\n  -- field metadata --\n  PARQUET:field_id: '13'\nnetwork_status: string\n  -- field metadata --\n  PARQUET:field_id: '14'\nmobile_data_status: dictionary<values=string, indices=int32, ordered=0>\n  -- field metadata --\n  PARQUET:field_id: '15'\nmobile_data_activity: dictionary<values=string, indices=int32, ordered=0>\n  -- field metadata --\n  PARQUET:field_id: '16'\nwifi_status: string\n  -- field metadata --\n  PARQUET:field_id: '17'\nwifi_signal_strength: int16\n  -- field metadata --\n  PARQUET:field_id: '18'\nwifi_link_speed: int16\n  -- field metadata --\n  PARQUET:field_id: '19'\nscreen_on: bool\n  -- field metadata --\n  PARQUET:field_id: '20'\nscreen_brightness: int16\n  -- field metadata --\n  PARQUET:field_id: '21'\nroaming_enabled: bool\n  -- field metadata --\n  PARQUET:field_id: '22'\nbluetooth_enabled: bool\n  -- field metadata --\n  PARQUET:field_id: '23'\nlocation_enabled: bool\n  -- field metadata --\n  PARQUET:field_id: '24'\npower_saver_enabled: bool\n  -- field metadata --\n  PARQUET:field_id: '25'\nnfc_enabled: bool\n  -- field metadata --\n  PARQUET:field_id: '26'\ndeveloper_mode: bool\n  -- field metadata --\n  PARQUET:field_id: '27'\nfree: int64\n  -- field metadata --\n  PARQUET:field_id: '28'\ntotal: int64\n  -- field metadata --\n  PARQUET:field_id: '29'\nfree_system: int64\n  -- field metadata --\n  PARQUET:field_id: '30'\ntotal_system: int64\n  -- field metadata --\n  PARQUET:field_id: '31'\n-- schema metadata --\npandas: '{\"index_columns\": [{\"kind\": \"range\", \"name\": null, \"start\": 0, \"' + 4171",
     "output_type": "error",
     "traceback": [
      "\u001b[0;31m---------------------------------------------------------------------------\u001b[0m",
      "\u001b[0;31mValueError\u001b[0m                                Traceback (most recent call last)",
      "\u001b[0;32m<ipython-input-8-a543807d8d9c>\u001b[0m in \u001b[0;36m<module>\u001b[0;34m\u001b[0m\n\u001b[0;32m----> 1\u001b[0;31m \u001b[0mdf\u001b[0m \u001b[0;34m=\u001b[0m \u001b[0mdd\u001b[0m\u001b[0;34m.\u001b[0m\u001b[0mread_parquet\u001b[0m\u001b[0;34m(\u001b[0m\u001b[0mfiles\u001b[0m\u001b[0;34m)\u001b[0m\u001b[0;34m\u001b[0m\u001b[0;34m\u001b[0m\u001b[0m\n\u001b[0m",
      "\u001b[0;32m/opt/conda/lib/python3.8/site-packages/dask/dataframe/io/parquet/core.py\u001b[0m in \u001b[0;36mread_parquet\u001b[0;34m(path, columns, filters, categories, index, storage_options, engine, gather_statistics, split_row_groups, chunksize, **kwargs)\u001b[0m\n\u001b[1;32m    226\u001b[0m         \u001b[0mindex\u001b[0m \u001b[0;34m=\u001b[0m \u001b[0;34m[\u001b[0m\u001b[0mindex\u001b[0m\u001b[0;34m]\u001b[0m\u001b[0;34m\u001b[0m\u001b[0;34m\u001b[0m\u001b[0m\n\u001b[1;32m    227\u001b[0m \u001b[0;34m\u001b[0m\u001b[0m\n\u001b[0;32m--> 228\u001b[0;31m     meta, statistics, parts, index = engine.read_metadata(\n\u001b[0m\u001b[1;32m    229\u001b[0m         \u001b[0mfs\u001b[0m\u001b[0;34m,\u001b[0m\u001b[0;34m\u001b[0m\u001b[0;34m\u001b[0m\u001b[0m\n\u001b[1;32m    230\u001b[0m         \u001b[0mpaths\u001b[0m\u001b[0;34m,\u001b[0m\u001b[0;34m\u001b[0m\u001b[0;34m\u001b[0m\u001b[0m\n",
      "\u001b[0;32m/opt/conda/lib/python3.8/site-packages/dask/dataframe/io/parquet/arrow.py\u001b[0m in \u001b[0;36mread_metadata\u001b[0;34m(cls, fs, paths, categories, index, gather_statistics, filters, split_row_groups, **kwargs)\u001b[0m\n\u001b[1;32m    283\u001b[0m         \u001b[0;31m# then each part will correspond to a file.  Otherwise, each part will\u001b[0m\u001b[0;34m\u001b[0m\u001b[0;34m\u001b[0m\u001b[0;34m\u001b[0m\u001b[0m\n\u001b[1;32m    284\u001b[0m         \u001b[0;31m# correspond to a row group (populated below)\u001b[0m\u001b[0;34m\u001b[0m\u001b[0;34m\u001b[0m\u001b[0;34m\u001b[0m\u001b[0m\n\u001b[0;32m--> 285\u001b[0;31m         parts, dataset = _determine_dataset_parts(\n\u001b[0m\u001b[1;32m    286\u001b[0m             \u001b[0mfs\u001b[0m\u001b[0;34m,\u001b[0m \u001b[0mpaths\u001b[0m\u001b[0;34m,\u001b[0m \u001b[0mgather_statistics\u001b[0m\u001b[0;34m,\u001b[0m \u001b[0mfilters\u001b[0m\u001b[0;34m,\u001b[0m \u001b[0mkwargs\u001b[0m\u001b[0;34m.\u001b[0m\u001b[0mget\u001b[0m\u001b[0;34m(\u001b[0m\u001b[0;34m\"dataset\"\u001b[0m\u001b[0;34m,\u001b[0m \u001b[0;34m{\u001b[0m\u001b[0;34m}\u001b[0m\u001b[0;34m)\u001b[0m\u001b[0;34m\u001b[0m\u001b[0;34m\u001b[0m\u001b[0m\n\u001b[1;32m    287\u001b[0m         )\n",
      "\u001b[0;32m/opt/conda/lib/python3.8/site-packages/dask/dataframe/io/parquet/arrow.py\u001b[0m in \u001b[0;36m_determine_dataset_parts\u001b[0;34m(fs, paths, gather_statistics, filters, dataset_kwargs)\u001b[0m\n\u001b[1;32m    145\u001b[0m         \u001b[0;32mif\u001b[0m \u001b[0mgather_statistics\u001b[0m \u001b[0;32mis\u001b[0m \u001b[0;32mnot\u001b[0m \u001b[0;32mFalse\u001b[0m\u001b[0;34m:\u001b[0m\u001b[0;34m\u001b[0m\u001b[0;34m\u001b[0m\u001b[0m\n\u001b[1;32m    146\u001b[0m             \u001b[0;31m# This scans all the files\u001b[0m\u001b[0;34m\u001b[0m\u001b[0;34m\u001b[0m\u001b[0;34m\u001b[0m\u001b[0m\n\u001b[0;32m--> 147\u001b[0;31m             dataset = pq.ParquetDataset(\n\u001b[0m\u001b[1;32m    148\u001b[0m                 \u001b[0mpaths\u001b[0m\u001b[0;34m,\u001b[0m \u001b[0mfilesystem\u001b[0m\u001b[0;34m=\u001b[0m\u001b[0mfs\u001b[0m\u001b[0;34m,\u001b[0m \u001b[0mfilters\u001b[0m\u001b[0;34m=\u001b[0m\u001b[0mfilters\u001b[0m\u001b[0;34m,\u001b[0m \u001b[0;34m**\u001b[0m\u001b[0mdataset_kwargs\u001b[0m\u001b[0;34m\u001b[0m\u001b[0;34m\u001b[0m\u001b[0m\n\u001b[1;32m    149\u001b[0m             )\n",
      "\u001b[0;32m/opt/conda/lib/python3.8/site-packages/pyarrow/parquet.py\u001b[0m in \u001b[0;36m__init__\u001b[0;34m(self, path_or_paths, filesystem, schema, metadata, split_row_groups, validate_schema, filters, metadata_nthreads, read_dictionary, memory_map, buffer_size, partitioning, use_legacy_dataset)\u001b[0m\n\u001b[1;32m   1198\u001b[0m \u001b[0;34m\u001b[0m\u001b[0m\n\u001b[1;32m   1199\u001b[0m         \u001b[0;32mif\u001b[0m \u001b[0mvalidate_schema\u001b[0m\u001b[0;34m:\u001b[0m\u001b[0;34m\u001b[0m\u001b[0;34m\u001b[0m\u001b[0m\n\u001b[0;32m-> 1200\u001b[0;31m             \u001b[0mself\u001b[0m\u001b[0;34m.\u001b[0m\u001b[0mvalidate_schemas\u001b[0m\u001b[0;34m(\u001b[0m\u001b[0;34m)\u001b[0m\u001b[0;34m\u001b[0m\u001b[0;34m\u001b[0m\u001b[0m\n\u001b[0m\u001b[1;32m   1201\u001b[0m \u001b[0;34m\u001b[0m\u001b[0m\n\u001b[1;32m   1202\u001b[0m     \u001b[0;32mdef\u001b[0m \u001b[0mequals\u001b[0m\u001b[0;34m(\u001b[0m\u001b[0mself\u001b[0m\u001b[0;34m,\u001b[0m \u001b[0mother\u001b[0m\u001b[0;34m)\u001b[0m\u001b[0;34m:\u001b[0m\u001b[0;34m\u001b[0m\u001b[0;34m\u001b[0m\u001b[0m\n",
      "\u001b[0;32m/opt/conda/lib/python3.8/site-packages/pyarrow/parquet.py\u001b[0m in \u001b[0;36mvalidate_schemas\u001b[0;34m(self)\u001b[0m\n\u001b[1;32m   1244\u001b[0m             \u001b[0mfile_schema\u001b[0m \u001b[0;34m=\u001b[0m \u001b[0mfile_metadata\u001b[0m\u001b[0;34m.\u001b[0m\u001b[0mschema\u001b[0m\u001b[0;34m.\u001b[0m\u001b[0mto_arrow_schema\u001b[0m\u001b[0;34m(\u001b[0m\u001b[0;34m)\u001b[0m\u001b[0;34m\u001b[0m\u001b[0;34m\u001b[0m\u001b[0m\n\u001b[1;32m   1245\u001b[0m             \u001b[0;32mif\u001b[0m \u001b[0;32mnot\u001b[0m \u001b[0mdataset_schema\u001b[0m\u001b[0;34m.\u001b[0m\u001b[0mequals\u001b[0m\u001b[0;34m(\u001b[0m\u001b[0mfile_schema\u001b[0m\u001b[0;34m,\u001b[0m \u001b[0mcheck_metadata\u001b[0m\u001b[0;34m=\u001b[0m\u001b[0;32mFalse\u001b[0m\u001b[0;34m)\u001b[0m\u001b[0;34m:\u001b[0m\u001b[0;34m\u001b[0m\u001b[0;34m\u001b[0m\u001b[0m\n\u001b[0;32m-> 1246\u001b[0;31m                 raise ValueError('Schema in {!s} was different. \\n'\n\u001b[0m\u001b[1;32m   1247\u001b[0m                                  \u001b[0;34m'{!s}\\n\\nvs\\n\\n{!s}'\u001b[0m\u001b[0;34m\u001b[0m\u001b[0;34m\u001b[0m\u001b[0m\n\u001b[1;32m   1248\u001b[0m                                  .format(piece, file_schema,\n",
      "\u001b[0;31mValueError\u001b[0m: Schema in /home/jovyan/storage/samples/samples.3.parquet was different. \nid: int64\n  -- field metadata --\n  PARQUET:field_id: '1'\ndevice_id: int64\n  -- field metadata --\n  PARQUET:field_id: '2'\ntimestamp: timestamp[ms]\n  -- field metadata --\n  PARQUET:field_id: '3'\nbattery_state: dictionary<values=string, indices=int32, ordered=0>\n  -- field metadata --\n  PARQUET:field_id: '4'\nbattery_level: uint8\n  -- field metadata --\n  PARQUET:field_id: '5'\ntimezone: string\n  -- field metadata --\n  PARQUET:field_id: '6'\ncharger: dictionary<values=string, indices=int32, ordered=0>\n  -- field metadata --\n  PARQUET:field_id: '7'\nhealth: string\n  -- field metadata --\n  PARQUET:field_id: '8'\nvoltage: double\n  -- field metadata --\n  PARQUET:field_id: '9'\ntemperature: double\n  -- field metadata --\n  PARQUET:field_id: '10'\nusage: uint8\n  -- field metadata --\n  PARQUET:field_id: '11'\nup_time: double\n  -- field metadata --\n  PARQUET:field_id: '12'\nsleep_time: double\n  -- field metadata --\n  PARQUET:field_id: '13'\nnetwork_status: string\n  -- field metadata --\n  PARQUET:field_id: '14'\nmobile_data_status: dictionary<values=string, indices=int32, ordered=0>\n  -- field metadata --\n  PARQUET:field_id: '15'\nmobile_data_activity: dictionary<values=string, indices=int32, ordered=0>\n  -- field metadata --\n  PARQUET:field_id: '16'\nwifi_status: string\n  -- field metadata --\n  PARQUET:field_id: '17'\nwifi_signal_strength: int16\n  -- field metadata --\n  PARQUET:field_id: '18'\nwifi_link_speed: int16\n  -- field metadata --\n  PARQUET:field_id: '19'\nscreen_on: bool\n  -- field metadata --\n  PARQUET:field_id: '20'\nscreen_brightness: int16\n  -- field metadata --\n  PARQUET:field_id: '21'\nroaming_enabled: bool\n  -- field metadata --\n  PARQUET:field_id: '22'\nbluetooth_enabled: bool\n  -- field metadata --\n  PARQUET:field_id: '23'\nlocation_enabled: bool\n  -- field metadata --\n  PARQUET:field_id: '24'\npower_saver_enabled: bool\n  -- field metadata --\n  PARQUET:field_id: '25'\nnfc_enabled: bool\n  -- field metadata --\n  PARQUET:field_id: '26'\ndeveloper_mode: bool\n  -- field metadata --\n  PARQUET:field_id: '27'\nfree: int64\n  -- field metadata --\n  PARQUET:field_id: '28'\ntotal: int64\n  -- field metadata --\n  PARQUET:field_id: '29'\nfree_system: int64\n  -- field metadata --\n  PARQUET:field_id: '30'\ntotal_system: int64\n  -- field metadata --\n  PARQUET:field_id: '31'\n-- schema metadata --\npandas: '{\"index_columns\": [{\"kind\": \"range\", \"name\": null, \"start\": 0, \"' + 4179\n\nvs\n\nid: int64\n  -- field metadata --\n  PARQUET:field_id: '1'\ndevice_id: int64\n  -- field metadata --\n  PARQUET:field_id: '2'\ntimestamp: timestamp[ms]\n  -- field metadata --\n  PARQUET:field_id: '3'\nbattery_state: dictionary<values=string, indices=int32, ordered=0>\n  -- field metadata --\n  PARQUET:field_id: '4'\nbattery_level: uint8\n  -- field metadata --\n  PARQUET:field_id: '5'\ntimezone: string\n  -- field metadata --\n  PARQUET:field_id: '6'\ncharger: dictionary<values=string, indices=int32, ordered=0>\n  -- field metadata --\n  PARQUET:field_id: '7'\nhealth: string\n  -- field metadata --\n  PARQUET:field_id: '8'\nvoltage: double\n  -- field metadata --\n  PARQUET:field_id: '9'\ntemperature: double\n  -- field metadata --\n  PARQUET:field_id: '10'\nusage: uint8\n  -- field metadata --\n  PARQUET:field_id: '11'\nup_time: int64\n  -- field metadata --\n  PARQUET:field_id: '12'\nsleep_time: int64\n  -- field metadata --\n  PARQUET:field_id: '13'\nnetwork_status: string\n  -- field metadata --\n  PARQUET:field_id: '14'\nmobile_data_status: dictionary<values=string, indices=int32, ordered=0>\n  -- field metadata --\n  PARQUET:field_id: '15'\nmobile_data_activity: dictionary<values=string, indices=int32, ordered=0>\n  -- field metadata --\n  PARQUET:field_id: '16'\nwifi_status: string\n  -- field metadata --\n  PARQUET:field_id: '17'\nwifi_signal_strength: int16\n  -- field metadata --\n  PARQUET:field_id: '18'\nwifi_link_speed: int16\n  -- field metadata --\n  PARQUET:field_id: '19'\nscreen_on: bool\n  -- field metadata --\n  PARQUET:field_id: '20'\nscreen_brightness: int16\n  -- field metadata --\n  PARQUET:field_id: '21'\nroaming_enabled: bool\n  -- field metadata --\n  PARQUET:field_id: '22'\nbluetooth_enabled: bool\n  -- field metadata --\n  PARQUET:field_id: '23'\nlocation_enabled: bool\n  -- field metadata --\n  PARQUET:field_id: '24'\npower_saver_enabled: bool\n  -- field metadata --\n  PARQUET:field_id: '25'\nnfc_enabled: bool\n  -- field metadata --\n  PARQUET:field_id: '26'\ndeveloper_mode: bool\n  -- field metadata --\n  PARQUET:field_id: '27'\nfree: int64\n  -- field metadata --\n  PARQUET:field_id: '28'\ntotal: int64\n  -- field metadata --\n  PARQUET:field_id: '29'\nfree_system: int64\n  -- field metadata --\n  PARQUET:field_id: '30'\ntotal_system: int64\n  -- field metadata --\n  PARQUET:field_id: '31'\n-- schema metadata --\npandas: '{\"index_columns\": [{\"kind\": \"range\", \"name\": null, \"start\": 0, \"' + 4171"
     ]
    }
   ],
   "source": [
    "df = dd.read_parquet(files)"
   ]
  },
  {
   "cell_type": "code",
   "execution_count": null,
   "metadata": {
    "ExecuteTime": {
     "end_time": "2020-08-05T18:19:51.176361Z",
     "start_time": "2020-08-05T18:19:47.441Z"
    }
   },
   "outputs": [],
   "source": [
    "len(df)"
   ]
  },
  {
   "cell_type": "code",
   "execution_count": null,
   "metadata": {
    "ExecuteTime": {
     "end_time": "2020-08-05T18:19:51.178021Z",
     "start_time": "2020-08-05T18:19:47.446Z"
    }
   },
   "outputs": [],
   "source": [
    "client.close()"
   ]
  }
 ],
 "metadata": {
  "kernelspec": {
   "display_name": "Python 3",
   "language": "python",
   "name": "python3"
  },
  "language_info": {
   "codemirror_mode": {
    "name": "ipython",
    "version": 3
   },
   "file_extension": ".py",
   "mimetype": "text/x-python",
   "name": "python",
   "nbconvert_exporter": "python",
   "pygments_lexer": "ipython3",
   "version": "3.8.4"
  },
  "toc": {
   "base_numbering": 1,
   "nav_menu": {},
   "number_sections": true,
   "sideBar": true,
   "skip_h1_title": false,
   "title_cell": "Table of Contents",
   "title_sidebar": "Contents",
   "toc_cell": false,
   "toc_position": {},
   "toc_section_display": true,
   "toc_window_display": false
  }
 },
 "nbformat": 4,
 "nbformat_minor": 4
}
