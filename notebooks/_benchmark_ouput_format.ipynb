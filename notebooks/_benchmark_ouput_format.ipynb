{
 "cells": [
  {
   "cell_type": "code",
   "execution_count": 1,
   "metadata": {
    "ExecuteTime": {
     "end_time": "2020-08-02T20:49:24.577455Z",
     "start_time": "2020-08-02T20:49:23.995473Z"
    }
   },
   "outputs": [],
   "source": [
    "import os\n",
    "import yaml\n",
    "import requests\n",
    "import numpy as np\n",
    "import pandas as pd\n",
    "\n",
    "from pymongo import MongoClient\n",
    "\n",
    "from utils import get_csv_files, memory_usage"
   ]
  },
  {
   "cell_type": "code",
   "execution_count": 2,
   "metadata": {
    "ExecuteTime": {
     "end_time": "2020-08-02T20:49:24.587304Z",
     "start_time": "2020-08-02T20:49:24.580818Z"
    }
   },
   "outputs": [],
   "source": [
    "BASE_PATH = '../'\n",
    "\n",
    "CONFIG_DIR = os.path.join(BASE_PATH, 'config')\n",
    "DATA_DIR = os.path.join(BASE_PATH, 'data')\n",
    "\n",
    "config = yaml.load(open(os.path.join(CONFIG_DIR, 'env.yml')),\n",
    "                   Loader=yaml.FullLoader)"
   ]
  },
  {
   "cell_type": "code",
   "execution_count": 3,
   "metadata": {
    "ExecuteTime": {
     "end_time": "2020-08-02T20:49:24.615148Z",
     "start_time": "2020-08-02T20:49:24.589446Z"
    }
   },
   "outputs": [],
   "source": [
    "model = 'devices'\n",
    "\n",
    "csv_files = get_csv_files(os.path.join(DATA_DIR, 'raw', model, '*.csv'))"
   ]
  },
  {
   "cell_type": "code",
   "execution_count": 4,
   "metadata": {
    "ExecuteTime": {
     "end_time": "2020-08-02T20:49:25.041776Z",
     "start_time": "2020-08-02T20:49:24.617188Z"
    }
   },
   "outputs": [
    {
     "name": "stdout",
     "output_type": "stream",
     "text": [
      "<class 'pandas.core.frame.DataFrame'>\n",
      "RangeIndex: 300000 entries, 0 to 299999\n",
      "Data columns (total 6 columns):\n",
      " #   Column        Non-Null Count   Dtype \n",
      "---  ------        --------------   ----- \n",
      " 0   id            300000 non-null  int64 \n",
      " 1   model         299999 non-null  object\n",
      " 2   manufacturer  300000 non-null  object\n",
      " 3   brand         300000 non-null  object\n",
      " 4   os_version    300000 non-null  object\n",
      " 5   is_root       300000 non-null  int64 \n",
      "dtypes: int64(2), object(4)\n",
      "memory usage: 13.7+ MB\n"
     ]
    }
   ],
   "source": [
    "df = pd.read_csv(csv_files[0], sep=';')\n",
    "df.info()"
   ]
  },
  {
   "cell_type": "code",
   "execution_count": 5,
   "metadata": {
    "ExecuteTime": {
     "end_time": "2020-08-02T20:49:25.199954Z",
     "start_time": "2020-08-02T20:49:25.044087Z"
    }
   },
   "outputs": [],
   "source": [
    "df = df.dropna()"
   ]
  },
  {
   "cell_type": "code",
   "execution_count": 6,
   "metadata": {
    "ExecuteTime": {
     "end_time": "2020-08-02T20:49:25.227508Z",
     "start_time": "2020-08-02T20:49:25.202232Z"
    }
   },
   "outputs": [],
   "source": [
    "string_columns = df.select_dtypes(include='object').columns.to_list()"
   ]
  },
  {
   "cell_type": "code",
   "execution_count": 27,
   "metadata": {
    "ExecuteTime": {
     "end_time": "2020-08-02T21:13:19.614086Z",
     "start_time": "2020-08-02T21:13:19.607938Z"
    }
   },
   "outputs": [],
   "source": [
    "from multiprocessing import Pool\n",
    "\n",
    "\n",
    "def string_op(series):\n",
    "    return [x.lower().strip() for x in series.tolist()]\n",
    "\n",
    "\n",
    "def parallelize_dataframe(data, func):\n",
    "    pool = Pool(4)\n",
    "    result = pool.map(func, data)\n",
    "    pool.close()\n",
    "    pool.join()\n",
    "    return result\n",
    "\n",
    "series = [df[x] for x in string_columns]"
   ]
  },
  {
   "cell_type": "code",
   "execution_count": 32,
   "metadata": {
    "ExecuteTime": {
     "end_time": "2020-08-02T21:18:53.879054Z",
     "start_time": "2020-08-02T21:18:44.912832Z"
    }
   },
   "outputs": [
    {
     "name": "stdout",
     "output_type": "stream",
     "text": [
      "1.1 s ± 10.6 ms per loop (mean ± std. dev. of 7 runs, 1 loop each)\n"
     ]
    }
   ],
   "source": [
    "%%timeit\n",
    "result = parallelize_dataframe(series, string_op)\n",
    "for i, column in enumerate(string_columns):\n",
    "    df.loc[:, column] = result[i]"
   ]
  },
  {
   "cell_type": "code",
   "execution_count": 33,
   "metadata": {
    "ExecuteTime": {
     "end_time": "2020-08-02T21:19:00.141546Z",
     "start_time": "2020-08-02T21:18:53.883556Z"
    }
   },
   "outputs": [
    {
     "name": "stdout",
     "output_type": "stream",
     "text": [
      "774 ms ± 2.95 ms per loop (mean ± std. dev. of 7 runs, 1 loop each)\n"
     ]
    }
   ],
   "source": [
    "%%timeit\n",
    "for column in string_columns:\n",
    "    df.loc[:, column] = [x.lower().strip() for x in df[column].tolist()]"
   ]
  },
  {
   "cell_type": "code",
   "execution_count": 8,
   "metadata": {
    "ExecuteTime": {
     "end_time": "2020-08-02T20:49:31.871719Z",
     "start_time": "2020-08-02T20:49:31.867924Z"
    }
   },
   "outputs": [],
   "source": [
    "mappings = {'id':'uint32', 'model':'category', 'manufacturer':'category',\n",
    "            'brand':'category', 'os_version':'category', 'is_root': 'bool'}"
   ]
  },
  {
   "cell_type": "code",
   "execution_count": 9,
   "metadata": {
    "ExecuteTime": {
     "end_time": "2020-08-02T20:49:32.112639Z",
     "start_time": "2020-08-02T20:49:31.873715Z"
    }
   },
   "outputs": [
    {
     "name": "stdout",
     "output_type": "stream",
     "text": [
      "<class 'pandas.core.frame.DataFrame'>\n",
      "Int64Index: 299999 entries, 0 to 299999\n",
      "Data columns (total 6 columns):\n",
      " #   Column        Non-Null Count   Dtype   \n",
      "---  ------        --------------   -----   \n",
      " 0   id            299999 non-null  uint32  \n",
      " 1   model         299999 non-null  category\n",
      " 2   manufacturer  299999 non-null  category\n",
      " 3   brand         299999 non-null  category\n",
      " 4   os_version    299999 non-null  category\n",
      " 5   is_root       299999 non-null  bool    \n",
      "dtypes: bool(1), category(4), uint32(1)\n",
      "memory usage: 6.7 MB\n"
     ]
    }
   ],
   "source": [
    "df = df.astype(mappings)\n",
    "df.info()"
   ]
  },
  {
   "cell_type": "code",
   "execution_count": null,
   "metadata": {},
   "outputs": [],
   "source": []
  }
 ],
 "metadata": {
  "kernelspec": {
   "display_name": "Python 3",
   "language": "python",
   "name": "python3"
  },
  "language_info": {
   "codemirror_mode": {
    "name": "ipython",
    "version": 3
   },
   "file_extension": ".py",
   "mimetype": "text/x-python",
   "name": "python",
   "nbconvert_exporter": "python",
   "pygments_lexer": "ipython3",
   "version": "3.8.4"
  },
  "toc": {
   "base_numbering": 1,
   "nav_menu": {},
   "number_sections": true,
   "sideBar": true,
   "skip_h1_title": false,
   "title_cell": "Table of Contents",
   "title_sidebar": "Contents",
   "toc_cell": false,
   "toc_position": {},
   "toc_section_display": true,
   "toc_window_display": false
  }
 },
 "nbformat": 4,
 "nbformat_minor": 4
}
