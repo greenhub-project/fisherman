{
 "cells": [
  {
   "cell_type": "markdown",
   "metadata": {},
   "source": [
    "# 1. Data fetching\n",
    "\n",
    "This task will fetch the raw data from the remote database given a SQL query file."
   ]
  },
  {
   "cell_type": "markdown",
   "metadata": {},
   "source": [
    "## 1.1 Install dependencies"
   ]
  },
  {
   "cell_type": "code",
   "execution_count": 1,
   "metadata": {
    "scrolled": true
   },
   "outputs": [
    {
     "name": "stdout",
     "output_type": "stream",
     "text": [
      "Requirement already satisfied: python-dotenv in /opt/conda/lib/python3.8/site-packages (from -r requirements.txt (line 1)) (0.14.0)\r\n",
      "Requirement already satisfied: sqlalchemy in /opt/conda/lib/python3.8/site-packages (from -r requirements.txt (line 2)) (1.3.18)\r\n",
      "Requirement already satisfied: mysqlclient in /opt/conda/lib/python3.8/site-packages (from -r requirements.txt (line 3)) (2.0.1)\r\n",
      "Requirement already satisfied: pyarrow in /opt/conda/lib/python3.8/site-packages (from -r requirements.txt (line 4)) (1.0.0)\r\n",
      "Requirement already satisfied: numpy>=1.14 in /opt/conda/lib/python3.8/site-packages (from pyarrow->-r requirements.txt (line 4)) (1.19.1)\r\n"
     ]
    }
   ],
   "source": [
    "!pip install -r requirements.txt"
   ]
  },
  {
   "cell_type": "markdown",
   "metadata": {},
   "source": [
    "## 1.2 Import libraries"
   ]
  },
  {
   "cell_type": "code",
   "execution_count": 2,
   "metadata": {},
   "outputs": [
    {
     "data": {
      "text/plain": [
       "True"
      ]
     },
     "execution_count": 2,
     "metadata": {},
     "output_type": "execute_result"
    }
   ],
   "source": [
    "from dotenv import load_dotenv\n",
    "load_dotenv()"
   ]
  },
  {
   "cell_type": "code",
   "execution_count": 3,
   "metadata": {},
   "outputs": [],
   "source": [
    "import os\n",
    "import MySQLdb\n",
    "import numpy as np\n",
    "import pandas as pd\n",
    "\n",
    "from sqlalchemy import create_engine"
   ]
  },
  {
   "cell_type": "markdown",
   "metadata": {},
   "source": [
    "## 1.3 Create database connection\n",
    "Create a database connection using the driver `mysqlclient`"
   ]
  },
  {
   "cell_type": "code",
   "execution_count": 4,
   "metadata": {},
   "outputs": [],
   "source": [
    "model = 'devices'\n",
    "connection_string = 'mysql://{}:{}@{}/{}'.format(os.getenv('DB_USERNAME'), os.getenv('DB_PASSWORD'), \\\n",
    "                                                 os.getenv('DB_HOST'), os.getenv('DB_DATABASE'))\n",
    "engine = create_engine(connection_string, echo=True)"
   ]
  },
  {
   "cell_type": "markdown",
   "metadata": {},
   "source": [
    "### 1.3.1 Read the SQL query file"
   ]
  },
  {
   "cell_type": "code",
   "execution_count": 5,
   "metadata": {},
   "outputs": [],
   "source": [
    "sql_query = open('../data/sql/devices.sql').read()"
   ]
  },
  {
   "cell_type": "markdown",
   "metadata": {},
   "source": [
    "## 1.4 Fetch the remote data"
   ]
  },
  {
   "cell_type": "code",
   "execution_count": 6,
   "metadata": {},
   "outputs": [
    {
     "name": "stdout",
     "output_type": "stream",
     "text": [
      "2020-07-30 19:17:28,109 INFO sqlalchemy.engine.base.Engine SHOW VARIABLES LIKE 'sql_mode'\n",
      "2020-07-30 19:17:28,111 INFO sqlalchemy.engine.base.Engine ()\n",
      "2020-07-30 19:17:28,135 INFO sqlalchemy.engine.base.Engine SHOW VARIABLES LIKE 'lower_case_table_names'\n",
      "2020-07-30 19:17:28,135 INFO sqlalchemy.engine.base.Engine ()\n",
      "2020-07-30 19:17:28,178 INFO sqlalchemy.engine.base.Engine SELECT DATABASE()\n",
      "2020-07-30 19:17:28,179 INFO sqlalchemy.engine.base.Engine ()\n",
      "2020-07-30 19:17:28,218 INFO sqlalchemy.engine.base.Engine show collation where `Charset` = 'utf8mb4' and `Collation` = 'utf8mb4_bin'\n",
      "2020-07-30 19:17:28,219 INFO sqlalchemy.engine.base.Engine ()\n",
      "2020-07-30 19:17:28,241 INFO sqlalchemy.engine.base.Engine SELECT CAST('test plain returns' AS CHAR(60)) AS anon_1\n",
      "2020-07-30 19:17:28,242 INFO sqlalchemy.engine.base.Engine ()\n",
      "2020-07-30 19:17:28,262 INFO sqlalchemy.engine.base.Engine SELECT CAST('test unicode returns' AS CHAR(60)) AS anon_1\n",
      "2020-07-30 19:17:28,263 INFO sqlalchemy.engine.base.Engine ()\n",
      "2020-07-30 19:17:28,283 INFO sqlalchemy.engine.base.Engine SELECT CAST('test collated returns' AS CHAR CHARACTER SET utf8mb4) COLLATE utf8mb4_bin AS anon_1\n",
      "2020-07-30 19:17:28,284 INFO sqlalchemy.engine.base.Engine ()\n",
      "2020-07-30 19:17:28,341 INFO sqlalchemy.engine.base.Engine DESCRIBE `SELECT id, model, manufacturer, brand, os_version, is_root FROM devices\n",
      "ORDER BY id;`\n",
      "2020-07-30 19:17:28,343 INFO sqlalchemy.engine.base.Engine ()\n",
      "2020-07-30 19:17:28,363 INFO sqlalchemy.engine.base.Engine ROLLBACK\n",
      "2020-07-30 19:17:28,401 INFO sqlalchemy.engine.base.Engine SELECT id, model, manufacturer, brand, os_version, is_root FROM devices\n",
      "ORDER BY id;\n",
      "2020-07-30 19:17:28,402 INFO sqlalchemy.engine.base.Engine ()\n"
     ]
    }
   ],
   "source": [
    "df = pd.read_sql(sql_query, engine)"
   ]
  },
  {
   "cell_type": "code",
   "execution_count": 7,
   "metadata": {},
   "outputs": [
    {
     "name": "stdout",
     "output_type": "stream",
     "text": [
      "<class 'pandas.core.frame.DataFrame'>\n",
      "RangeIndex: 306469 entries, 0 to 306468\n",
      "Data columns (total 6 columns):\n",
      " #   Column        Non-Null Count   Dtype \n",
      "---  ------        --------------   ----- \n",
      " 0   id            306469 non-null  int64 \n",
      " 1   model         306469 non-null  object\n",
      " 2   manufacturer  306469 non-null  object\n",
      " 3   brand         306469 non-null  object\n",
      " 4   os_version    306469 non-null  object\n",
      " 5   is_root       306469 non-null  int64 \n",
      "dtypes: int64(2), object(4)\n",
      "memory usage: 14.0+ MB\n"
     ]
    }
   ],
   "source": [
    "df.info()"
   ]
  },
  {
   "cell_type": "markdown",
   "metadata": {},
   "source": [
    "## 1.5 Basic data pre-processing"
   ]
  },
  {
   "cell_type": "code",
   "execution_count": 8,
   "metadata": {},
   "outputs": [],
   "source": [
    "mappings = {'id':'uint32', 'model':'category', 'manufacturer':'category',\n",
    "            'brand':'category', 'os_version':'category', 'is_root': 'uint8'}"
   ]
  },
  {
   "cell_type": "code",
   "execution_count": 9,
   "metadata": {},
   "outputs": [
    {
     "name": "stdout",
     "output_type": "stream",
     "text": [
      "<class 'pandas.core.frame.DataFrame'>\n",
      "RangeIndex: 306469 entries, 0 to 306468\n",
      "Data columns (total 6 columns):\n",
      " #   Column        Non-Null Count   Dtype   \n",
      "---  ------        --------------   -----   \n",
      " 0   id            306469 non-null  uint32  \n",
      " 1   model         306469 non-null  category\n",
      " 2   manufacturer  306469 non-null  category\n",
      " 3   brand         306469 non-null  category\n",
      " 4   os_version    306469 non-null  category\n",
      " 5   is_root       306469 non-null  uint8   \n",
      "dtypes: category(4), uint32(1), uint8(1)\n",
      "memory usage: 4.5 MB\n"
     ]
    }
   ],
   "source": [
    "df = df.astype(mappings)\n",
    "df.info()"
   ]
  },
  {
   "cell_type": "markdown",
   "metadata": {},
   "source": [
    "## 1.6 Save output"
   ]
  },
  {
   "cell_type": "code",
   "execution_count": 10,
   "metadata": {},
   "outputs": [],
   "source": [
    "df.to_parquet('../data/{}.parquet'.format(model), compression='brotli')"
   ]
  },
  {
   "cell_type": "code",
   "execution_count": 11,
   "metadata": {},
   "outputs": [
    {
     "name": "stdout",
     "output_type": "stream",
     "text": [
      "Stored 'df' (DataFrame)\n"
     ]
    }
   ],
   "source": [
    "%store df"
   ]
  }
 ],
 "metadata": {
  "kernelspec": {
   "display_name": "Python 3",
   "language": "python",
   "name": "python3"
  },
  "language_info": {
   "codemirror_mode": {
    "name": "ipython",
    "version": 3
   },
   "file_extension": ".py",
   "mimetype": "text/x-python",
   "name": "python",
   "nbconvert_exporter": "python",
   "pygments_lexer": "ipython3",
   "version": "3.8.4"
  }
 },
 "nbformat": 4,
 "nbformat_minor": 4
}
