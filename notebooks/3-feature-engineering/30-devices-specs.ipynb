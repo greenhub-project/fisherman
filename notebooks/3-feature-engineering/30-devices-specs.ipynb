{
 "cells": [
  {
   "cell_type": "code",
   "execution_count": 1,
   "metadata": {
    "ExecuteTime": {
     "end_time": "2020-08-07T17:31:17.600600Z",
     "start_time": "2020-08-07T17:31:15.074044Z"
    }
   },
   "outputs": [],
   "source": [
    "!pip install -q beautifulsoup4"
   ]
  },
  {
   "cell_type": "code",
   "execution_count": 2,
   "metadata": {
    "ExecuteTime": {
     "end_time": "2020-08-07T17:31:17.612271Z",
     "start_time": "2020-08-07T17:31:17.606275Z"
    }
   },
   "outputs": [],
   "source": [
    "import sys\n",
    "\n",
    "sys.path.append('..')"
   ]
  },
  {
   "cell_type": "code",
   "execution_count": 3,
   "metadata": {
    "ExecuteTime": {
     "end_time": "2020-08-07T17:31:18.446350Z",
     "start_time": "2020-08-07T17:31:17.614502Z"
    }
   },
   "outputs": [],
   "source": [
    "import os\n",
    "import yaml\n",
    "import requests\n",
    "import numpy as np\n",
    "import pandas as pd\n",
    "\n",
    "from bs4 import BeautifulSoup\n",
    "from pymongo import MongoClient\n",
    "from utils import optimize_dtypes"
   ]
  },
  {
   "cell_type": "code",
   "execution_count": 4,
   "metadata": {
    "ExecuteTime": {
     "end_time": "2020-08-07T17:31:18.457792Z",
     "start_time": "2020-08-07T17:31:18.448419Z"
    }
   },
   "outputs": [],
   "source": [
    "BASE_PATH = '../../'\n",
    "\n",
    "CONFIG_DIR = os.path.join(BASE_PATH, 'config')\n",
    "STORAGE_DIR = os.path.join(BASE_PATH, 'storage')\n",
    "\n",
    "config = yaml.load(open(os.path.join(CONFIG_DIR, 'env.yml')),\n",
    "                   Loader=yaml.FullLoader)"
   ]
  },
  {
   "cell_type": "code",
   "execution_count": 5,
   "metadata": {
    "ExecuteTime": {
     "end_time": "2020-08-07T17:31:18.472608Z",
     "start_time": "2020-08-07T17:31:18.460470Z"
    }
   },
   "outputs": [],
   "source": [
    "model = 'devices'\n",
    "model_storage = os.path.join(STORAGE_DIR, model)\n",
    "\n",
    "client = MongoClient('mongodb://{}:{}@{}:{}'.format(config['MONGO_USERNAME'], config['MONGO_PASSWORD'],\n",
    "                                                    config['MONGO_HOST'], config['MONGO_PORT']))\n",
    "metadata_db = client[config['MONGO_DATABASE']]\n",
    "\n",
    "model_metadata = metadata_db[model]"
   ]
  },
  {
   "cell_type": "code",
   "execution_count": 6,
   "metadata": {
    "ExecuteTime": {
     "end_time": "2020-08-07T17:31:18.508193Z",
     "start_time": "2020-08-07T17:31:18.480211Z"
    }
   },
   "outputs": [],
   "source": [
    "mappings = model_metadata.find({}, {'mappings': 1}).next()['mappings']"
   ]
  },
  {
   "cell_type": "code",
   "execution_count": 7,
   "metadata": {
    "ExecuteTime": {
     "end_time": "2020-08-07T17:31:18.829181Z",
     "start_time": "2020-08-07T17:31:18.511096Z"
    }
   },
   "outputs": [],
   "source": [
    "df = pd.read_parquet(os.path.join(model_storage, 'devices.0.parquet'))"
   ]
  },
  {
   "cell_type": "code",
   "execution_count": 8,
   "metadata": {
    "ExecuteTime": {
     "end_time": "2020-08-07T17:31:19.129709Z",
     "start_time": "2020-08-07T17:31:18.831607Z"
    }
   },
   "outputs": [],
   "source": [
    "df = optimize_dtypes(df, mappings)"
   ]
  },
  {
   "cell_type": "code",
   "execution_count": 9,
   "metadata": {
    "ExecuteTime": {
     "end_time": "2020-08-07T17:31:19.152799Z",
     "start_time": "2020-08-07T17:31:19.132153Z"
    }
   },
   "outputs": [
    {
     "name": "stdout",
     "output_type": "stream",
     "text": [
      "<class 'pandas.core.frame.DataFrame'>\n",
      "RangeIndex: 307141 entries, 0 to 307140\n",
      "Data columns (total 7 columns):\n",
      " #   Column        Non-Null Count   Dtype         \n",
      "---  ------        --------------   -----         \n",
      " 0   id            307141 non-null  uint32        \n",
      " 1   model         307141 non-null  category      \n",
      " 2   manufacturer  307141 non-null  category      \n",
      " 3   brand         307141 non-null  category      \n",
      " 4   os_version    307141 non-null  category      \n",
      " 5   is_root       307141 non-null  bool          \n",
      " 6   created_at    307141 non-null  datetime64[ns]\n",
      "dtypes: bool(1), category(4), datetime64[ns](1), uint32(1)\n",
      "memory usage: 6.8 MB\n"
     ]
    }
   ],
   "source": [
    "df.info()"
   ]
  },
  {
   "cell_type": "code",
   "execution_count": 10,
   "metadata": {
    "ExecuteTime": {
     "end_time": "2020-08-07T17:31:19.461258Z",
     "start_time": "2020-08-07T17:31:19.155168Z"
    }
   },
   "outputs": [],
   "source": [
    "page = requests.get('https://www.gsmarena.com/res.php3?sSearch=xiaomi+redmi+5')"
   ]
  },
  {
   "cell_type": "code",
   "execution_count": 12,
   "metadata": {
    "ExecuteTime": {
     "end_time": "2020-08-07T17:31:19.623429Z",
     "start_time": "2020-08-07T17:31:19.554099Z"
    }
   },
   "outputs": [],
   "source": [
    "soup = BeautifulSoup(page.content, 'html.parser')"
   ]
  },
  {
   "cell_type": "code",
   "execution_count": null,
   "metadata": {},
   "outputs": [],
   "source": []
  }
 ],
 "metadata": {
  "kernelspec": {
   "display_name": "Python 3",
   "language": "python",
   "name": "python3"
  },
  "language_info": {
   "codemirror_mode": {
    "name": "ipython",
    "version": 3
   },
   "file_extension": ".py",
   "mimetype": "text/x-python",
   "name": "python",
   "nbconvert_exporter": "python",
   "pygments_lexer": "ipython3",
   "version": "3.8.6"
  },
  "toc": {
   "base_numbering": 1,
   "nav_menu": {},
   "number_sections": true,
   "sideBar": true,
   "skip_h1_title": false,
   "title_cell": "Table of Contents",
   "title_sidebar": "Contents",
   "toc_cell": false,
   "toc_position": {},
   "toc_section_display": true,
   "toc_window_display": false
  }
 },
 "nbformat": 4,
 "nbformat_minor": 4
}
