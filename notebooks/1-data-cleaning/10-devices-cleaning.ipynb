{
 "cells": [
  {
   "cell_type": "markdown",
   "metadata": {},
   "source": [
    "# Devices cleaning\n",
    "\n",
    "This task will fetch the devices raw data, perform data cleaning, store metadata information in mongo and store processed data in parquet files."
   ]
  },
  {
   "cell_type": "markdown",
   "metadata": {},
   "source": [
    "## Import libraries"
   ]
  },
  {
   "cell_type": "code",
   "execution_count": 1,
   "metadata": {
    "ExecuteTime": {
     "end_time": "2020-08-14T17:41:33.506043Z",
     "start_time": "2020-08-14T17:41:33.501868Z"
    }
   },
   "outputs": [],
   "source": [
    "import sys\n",
    "\n",
    "sys.path.append('..')"
   ]
  },
  {
   "cell_type": "code",
   "execution_count": 2,
   "metadata": {
    "ExecuteTime": {
     "end_time": "2020-08-14T17:41:34.447192Z",
     "start_time": "2020-08-14T17:41:33.509323Z"
    }
   },
   "outputs": [],
   "source": [
    "import os\n",
    "import yaml\n",
    "import requests\n",
    "import numpy as np\n",
    "import pandas as pd\n",
    "\n",
    "from pymongo import MongoClient\n",
    "\n",
    "from utils import get_files, memory_usage, \\\n",
    "    correct_encoding, update_page_metadata"
   ]
  },
  {
   "cell_type": "markdown",
   "metadata": {},
   "source": [
    "## Load the data"
   ]
  },
  {
   "cell_type": "code",
   "execution_count": 3,
   "metadata": {
    "ExecuteTime": {
     "end_time": "2020-08-14T17:41:34.459384Z",
     "start_time": "2020-08-14T17:41:34.450172Z"
    }
   },
   "outputs": [],
   "source": [
    "BASE_PATH = '../../'\n",
    "\n",
    "CONFIG_DIR = os.path.join(BASE_PATH, 'config')\n",
    "STORAGE_DIR = os.path.join(BASE_PATH, 'storage')\n",
    "DATA_DIR = os.path.join(BASE_PATH, 'data')\n",
    "\n",
    "config = yaml.load(open(os.path.join(CONFIG_DIR, 'env.yml')),\n",
    "                   Loader=yaml.FullLoader)"
   ]
  },
  {
   "cell_type": "code",
   "execution_count": 4,
   "metadata": {
    "ExecuteTime": {
     "end_time": "2020-08-14T17:41:34.539893Z",
     "start_time": "2020-08-14T17:41:34.461599Z"
    }
   },
   "outputs": [
    {
     "data": {
      "text/plain": [
       "<pymongo.results.InsertOneResult at 0x7fc5bd354600>"
      ]
     },
     "execution_count": 4,
     "metadata": {},
     "output_type": "execute_result"
    }
   ],
   "source": [
    "model = 'devices'\n",
    "model_storage = os.path.join(STORAGE_DIR, model)\n",
    "\n",
    "if not os.path.exists(model_storage):\n",
    "    os.makedirs(model_storage)\n",
    "\n",
    "client = MongoClient('mongodb://{}:{}@{}:{}'.format(config['MONGO_USERNAME'], config['MONGO_PASSWORD'],\n",
    "                                                    config['MONGO_HOST'], config['MONGO_PORT']))\n",
    "metadata_db = client[config['MONGO_DATABASE']]\n",
    "\n",
    "model_metadata = metadata_db[model]\n",
    "\n",
    "model_metadata.delete_many({})\n",
    "model_metadata.insert_one({'pages': []})"
   ]
  },
  {
   "cell_type": "code",
   "execution_count": 5,
   "metadata": {
    "ExecuteTime": {
     "end_time": "2020-08-14T17:41:34.550980Z",
     "start_time": "2020-08-14T17:41:34.545402Z"
    }
   },
   "outputs": [],
   "source": [
    "csv_files = get_files(os.path.join(DATA_DIR, 'raw', model, '*.csv'))"
   ]
  },
  {
   "cell_type": "code",
   "execution_count": 6,
   "metadata": {
    "ExecuteTime": {
     "end_time": "2020-08-14T17:41:34.563732Z",
     "start_time": "2020-08-14T17:41:34.558725Z"
    }
   },
   "outputs": [],
   "source": [
    "if not csv_files:\n",
    "    raise FileNotFoundError(\n",
    "        'Couldn\\'t find any csv files! Please make sure the filepath exists')"
   ]
  },
  {
   "cell_type": "code",
   "execution_count": 7,
   "metadata": {
    "ExecuteTime": {
     "end_time": "2020-08-14T17:41:34.600930Z",
     "start_time": "2020-08-14T17:41:34.568519Z"
    }
   },
   "outputs": [
    {
     "name": "stdout",
     "output_type": "stream",
     "text": [
      "<class 'pandas.core.frame.DataFrame'>\n",
      "RangeIndex: 100 entries, 0 to 99\n",
      "Data columns (total 7 columns):\n",
      " #   Column        Non-Null Count  Dtype         \n",
      "---  ------        --------------  -----         \n",
      " 0   id            100 non-null    int64         \n",
      " 1   model         100 non-null    object        \n",
      " 2   manufacturer  100 non-null    object        \n",
      " 3   brand         100 non-null    object        \n",
      " 4   os_version    100 non-null    object        \n",
      " 5   is_root       100 non-null    int64         \n",
      " 6   created_at    100 non-null    datetime64[ns]\n",
      "dtypes: datetime64[ns](1), int64(2), object(4)\n",
      "memory usage: 5.6+ KB\n"
     ]
    }
   ],
   "source": [
    "df = pd.read_csv(csv_files[0], sep=';', parse_dates=['created_at'], nrows=100)\n",
    "\n",
    "# sample rows to list columns and dtypes\n",
    "df.info()"
   ]
  },
  {
   "cell_type": "code",
   "execution_count": 8,
   "metadata": {
    "ExecuteTime": {
     "end_time": "2020-08-14T17:41:34.637376Z",
     "start_time": "2020-08-14T17:41:34.603387Z"
    }
   },
   "outputs": [
    {
     "data": {
      "text/html": [
       "<div>\n",
       "<style scoped>\n",
       "    .dataframe tbody tr th:only-of-type {\n",
       "        vertical-align: middle;\n",
       "    }\n",
       "\n",
       "    .dataframe tbody tr th {\n",
       "        vertical-align: top;\n",
       "    }\n",
       "\n",
       "    .dataframe thead th {\n",
       "        text-align: right;\n",
       "    }\n",
       "</style>\n",
       "<table border=\"1\" class=\"dataframe\">\n",
       "  <thead>\n",
       "    <tr style=\"text-align: right;\">\n",
       "      <th></th>\n",
       "      <th>id</th>\n",
       "      <th>is_root</th>\n",
       "    </tr>\n",
       "  </thead>\n",
       "  <tbody>\n",
       "    <tr>\n",
       "      <th>count</th>\n",
       "      <td>100.000000</td>\n",
       "      <td>100.000000</td>\n",
       "    </tr>\n",
       "    <tr>\n",
       "      <th>mean</th>\n",
       "      <td>50.500000</td>\n",
       "      <td>0.060000</td>\n",
       "    </tr>\n",
       "    <tr>\n",
       "      <th>std</th>\n",
       "      <td>29.011492</td>\n",
       "      <td>0.238683</td>\n",
       "    </tr>\n",
       "    <tr>\n",
       "      <th>min</th>\n",
       "      <td>1.000000</td>\n",
       "      <td>0.000000</td>\n",
       "    </tr>\n",
       "    <tr>\n",
       "      <th>25%</th>\n",
       "      <td>25.750000</td>\n",
       "      <td>0.000000</td>\n",
       "    </tr>\n",
       "    <tr>\n",
       "      <th>50%</th>\n",
       "      <td>50.500000</td>\n",
       "      <td>0.000000</td>\n",
       "    </tr>\n",
       "    <tr>\n",
       "      <th>75%</th>\n",
       "      <td>75.250000</td>\n",
       "      <td>0.000000</td>\n",
       "    </tr>\n",
       "    <tr>\n",
       "      <th>max</th>\n",
       "      <td>100.000000</td>\n",
       "      <td>1.000000</td>\n",
       "    </tr>\n",
       "  </tbody>\n",
       "</table>\n",
       "</div>"
      ],
      "text/plain": [
       "               id     is_root\n",
       "count  100.000000  100.000000\n",
       "mean    50.500000    0.060000\n",
       "std     29.011492    0.238683\n",
       "min      1.000000    0.000000\n",
       "25%     25.750000    0.000000\n",
       "50%     50.500000    0.000000\n",
       "75%     75.250000    0.000000\n",
       "max    100.000000    1.000000"
      ]
     },
     "execution_count": 8,
     "metadata": {},
     "output_type": "execute_result"
    }
   ],
   "source": [
    "df.describe(include=[np.number])"
   ]
  },
  {
   "cell_type": "code",
   "execution_count": 9,
   "metadata": {
    "ExecuteTime": {
     "end_time": "2020-08-14T17:41:34.688280Z",
     "start_time": "2020-08-14T17:41:34.642171Z"
    }
   },
   "outputs": [
    {
     "data": {
      "text/html": [
       "<div>\n",
       "<style scoped>\n",
       "    .dataframe tbody tr th:only-of-type {\n",
       "        vertical-align: middle;\n",
       "    }\n",
       "\n",
       "    .dataframe tbody tr th {\n",
       "        vertical-align: top;\n",
       "    }\n",
       "\n",
       "    .dataframe thead th {\n",
       "        text-align: right;\n",
       "    }\n",
       "</style>\n",
       "<table border=\"1\" class=\"dataframe\">\n",
       "  <thead>\n",
       "    <tr style=\"text-align: right;\">\n",
       "      <th></th>\n",
       "      <th>model</th>\n",
       "      <th>manufacturer</th>\n",
       "      <th>brand</th>\n",
       "      <th>os_version</th>\n",
       "      <th>created_at</th>\n",
       "    </tr>\n",
       "  </thead>\n",
       "  <tbody>\n",
       "    <tr>\n",
       "      <th>count</th>\n",
       "      <td>100</td>\n",
       "      <td>100</td>\n",
       "      <td>100</td>\n",
       "      <td>100</td>\n",
       "      <td>100</td>\n",
       "    </tr>\n",
       "    <tr>\n",
       "      <th>unique</th>\n",
       "      <td>72</td>\n",
       "      <td>22</td>\n",
       "      <td>27</td>\n",
       "      <td>11</td>\n",
       "      <td>NaN</td>\n",
       "    </tr>\n",
       "    <tr>\n",
       "      <th>top</th>\n",
       "      <td>ALE-L21</td>\n",
       "      <td>samsung</td>\n",
       "      <td>samsung</td>\n",
       "      <td>7.0</td>\n",
       "      <td>NaN</td>\n",
       "    </tr>\n",
       "    <tr>\n",
       "      <th>freq</th>\n",
       "      <td>8</td>\n",
       "      <td>28</td>\n",
       "      <td>28</td>\n",
       "      <td>34</td>\n",
       "      <td>NaN</td>\n",
       "    </tr>\n",
       "    <tr>\n",
       "      <th>mean</th>\n",
       "      <td>NaN</td>\n",
       "      <td>NaN</td>\n",
       "      <td>NaN</td>\n",
       "      <td>NaN</td>\n",
       "      <td>2017-10-09 10:20:04.120000256</td>\n",
       "    </tr>\n",
       "    <tr>\n",
       "      <th>min</th>\n",
       "      <td>NaN</td>\n",
       "      <td>NaN</td>\n",
       "      <td>NaN</td>\n",
       "      <td>NaN</td>\n",
       "      <td>2017-10-09 03:42:19</td>\n",
       "    </tr>\n",
       "    <tr>\n",
       "      <th>25%</th>\n",
       "      <td>NaN</td>\n",
       "      <td>NaN</td>\n",
       "      <td>NaN</td>\n",
       "      <td>NaN</td>\n",
       "      <td>2017-10-09 10:17:53.500000</td>\n",
       "    </tr>\n",
       "    <tr>\n",
       "      <th>50%</th>\n",
       "      <td>NaN</td>\n",
       "      <td>NaN</td>\n",
       "      <td>NaN</td>\n",
       "      <td>NaN</td>\n",
       "      <td>2017-10-09 10:35:56</td>\n",
       "    </tr>\n",
       "    <tr>\n",
       "      <th>75%</th>\n",
       "      <td>NaN</td>\n",
       "      <td>NaN</td>\n",
       "      <td>NaN</td>\n",
       "      <td>NaN</td>\n",
       "      <td>2017-10-09 10:56:22.750000128</td>\n",
       "    </tr>\n",
       "    <tr>\n",
       "      <th>max</th>\n",
       "      <td>NaN</td>\n",
       "      <td>NaN</td>\n",
       "      <td>NaN</td>\n",
       "      <td>NaN</td>\n",
       "      <td>2017-10-09 11:14:12</td>\n",
       "    </tr>\n",
       "  </tbody>\n",
       "</table>\n",
       "</div>"
      ],
      "text/plain": [
       "          model manufacturer    brand os_version  \\\n",
       "count       100          100      100        100   \n",
       "unique       72           22       27         11   \n",
       "top     ALE-L21      samsung  samsung        7.0   \n",
       "freq          8           28       28         34   \n",
       "mean        NaN          NaN      NaN        NaN   \n",
       "min         NaN          NaN      NaN        NaN   \n",
       "25%         NaN          NaN      NaN        NaN   \n",
       "50%         NaN          NaN      NaN        NaN   \n",
       "75%         NaN          NaN      NaN        NaN   \n",
       "max         NaN          NaN      NaN        NaN   \n",
       "\n",
       "                           created_at  \n",
       "count                             100  \n",
       "unique                            NaN  \n",
       "top                               NaN  \n",
       "freq                              NaN  \n",
       "mean    2017-10-09 10:20:04.120000256  \n",
       "min               2017-10-09 03:42:19  \n",
       "25%        2017-10-09 10:17:53.500000  \n",
       "50%               2017-10-09 10:35:56  \n",
       "75%     2017-10-09 10:56:22.750000128  \n",
       "max               2017-10-09 11:14:12  "
      ]
     },
     "execution_count": 9,
     "metadata": {},
     "output_type": "execute_result"
    }
   ],
   "source": [
    "df.describe(exclude=[np.number], datetime_is_numeric=True)"
   ]
  },
  {
   "cell_type": "code",
   "execution_count": 10,
   "metadata": {
    "ExecuteTime": {
     "end_time": "2020-08-14T17:41:34.712483Z",
     "start_time": "2020-08-14T17:41:34.690827Z"
    }
   },
   "outputs": [
    {
     "data": {
      "text/html": [
       "<div>\n",
       "<style scoped>\n",
       "    .dataframe tbody tr th:only-of-type {\n",
       "        vertical-align: middle;\n",
       "    }\n",
       "\n",
       "    .dataframe tbody tr th {\n",
       "        vertical-align: top;\n",
       "    }\n",
       "\n",
       "    .dataframe thead th {\n",
       "        text-align: right;\n",
       "    }\n",
       "</style>\n",
       "<table border=\"1\" class=\"dataframe\">\n",
       "  <thead>\n",
       "    <tr style=\"text-align: right;\">\n",
       "      <th></th>\n",
       "      <th>id</th>\n",
       "      <th>model</th>\n",
       "      <th>manufacturer</th>\n",
       "      <th>brand</th>\n",
       "      <th>os_version</th>\n",
       "      <th>is_root</th>\n",
       "      <th>created_at</th>\n",
       "    </tr>\n",
       "  </thead>\n",
       "  <tbody>\n",
       "    <tr>\n",
       "      <th>26</th>\n",
       "      <td>27</td>\n",
       "      <td>ASUS_Z017D</td>\n",
       "      <td>asus</td>\n",
       "      <td>asus</td>\n",
       "      <td>7.0</td>\n",
       "      <td>0</td>\n",
       "      <td>2017-10-09 10:19:54</td>\n",
       "    </tr>\n",
       "    <tr>\n",
       "      <th>86</th>\n",
       "      <td>87</td>\n",
       "      <td>HUAWEI MT7-L09</td>\n",
       "      <td>HUAWEI</td>\n",
       "      <td>Huawei</td>\n",
       "      <td>6.0</td>\n",
       "      <td>0</td>\n",
       "      <td>2017-10-09 11:03:44</td>\n",
       "    </tr>\n",
       "    <tr>\n",
       "      <th>2</th>\n",
       "      <td>3</td>\n",
       "      <td>ASUS_X014D</td>\n",
       "      <td>asus</td>\n",
       "      <td>asus</td>\n",
       "      <td>5.1.1</td>\n",
       "      <td>0</td>\n",
       "      <td>2017-10-09 04:48:35</td>\n",
       "    </tr>\n",
       "    <tr>\n",
       "      <th>55</th>\n",
       "      <td>56</td>\n",
       "      <td>X5</td>\n",
       "      <td>DOOGEE</td>\n",
       "      <td>DOOGEE</td>\n",
       "      <td>5.1</td>\n",
       "      <td>0</td>\n",
       "      <td>2017-10-09 10:38:40</td>\n",
       "    </tr>\n",
       "    <tr>\n",
       "      <th>75</th>\n",
       "      <td>76</td>\n",
       "      <td>ALE-L21</td>\n",
       "      <td>HUAWEI</td>\n",
       "      <td>Huawei</td>\n",
       "      <td>6.0</td>\n",
       "      <td>0</td>\n",
       "      <td>2017-10-09 10:56:37</td>\n",
       "    </tr>\n",
       "    <tr>\n",
       "      <th>93</th>\n",
       "      <td>94</td>\n",
       "      <td>SM-A310F</td>\n",
       "      <td>samsung</td>\n",
       "      <td>samsung</td>\n",
       "      <td>7.0</td>\n",
       "      <td>0</td>\n",
       "      <td>2017-10-09 11:10:09</td>\n",
       "    </tr>\n",
       "    <tr>\n",
       "      <th>16</th>\n",
       "      <td>17</td>\n",
       "      <td>ALE-L21</td>\n",
       "      <td>HUAWEI</td>\n",
       "      <td>Huawei</td>\n",
       "      <td>6.0</td>\n",
       "      <td>0</td>\n",
       "      <td>2017-10-09 09:57:22</td>\n",
       "    </tr>\n",
       "    <tr>\n",
       "      <th>73</th>\n",
       "      <td>74</td>\n",
       "      <td>ONE A2003</td>\n",
       "      <td>OnePlus</td>\n",
       "      <td>OnePlus</td>\n",
       "      <td>6.0.1</td>\n",
       "      <td>0</td>\n",
       "      <td>2017-10-09 10:56:17</td>\n",
       "    </tr>\n",
       "    <tr>\n",
       "      <th>54</th>\n",
       "      <td>55</td>\n",
       "      <td>ONE A2003</td>\n",
       "      <td>OnePlus</td>\n",
       "      <td>OnePlus</td>\n",
       "      <td>6.0.1</td>\n",
       "      <td>0</td>\n",
       "      <td>2017-10-09 10:38:18</td>\n",
       "    </tr>\n",
       "    <tr>\n",
       "      <th>95</th>\n",
       "      <td>96</td>\n",
       "      <td>SM-N950F</td>\n",
       "      <td>samsung</td>\n",
       "      <td>samsung</td>\n",
       "      <td>7.1.1</td>\n",
       "      <td>0</td>\n",
       "      <td>2017-10-09 11:12:06</td>\n",
       "    </tr>\n",
       "  </tbody>\n",
       "</table>\n",
       "</div>"
      ],
      "text/plain": [
       "    id           model manufacturer    brand os_version  is_root  \\\n",
       "26  27      ASUS_Z017D         asus     asus        7.0        0   \n",
       "86  87  HUAWEI MT7-L09       HUAWEI   Huawei        6.0        0   \n",
       "2    3      ASUS_X014D         asus     asus      5.1.1        0   \n",
       "55  56              X5       DOOGEE   DOOGEE        5.1        0   \n",
       "75  76         ALE-L21       HUAWEI   Huawei        6.0        0   \n",
       "93  94        SM-A310F      samsung  samsung        7.0        0   \n",
       "16  17         ALE-L21       HUAWEI   Huawei        6.0        0   \n",
       "73  74       ONE A2003      OnePlus  OnePlus      6.0.1        0   \n",
       "54  55       ONE A2003      OnePlus  OnePlus      6.0.1        0   \n",
       "95  96        SM-N950F      samsung  samsung      7.1.1        0   \n",
       "\n",
       "            created_at  \n",
       "26 2017-10-09 10:19:54  \n",
       "86 2017-10-09 11:03:44  \n",
       "2  2017-10-09 04:48:35  \n",
       "55 2017-10-09 10:38:40  \n",
       "75 2017-10-09 10:56:37  \n",
       "93 2017-10-09 11:10:09  \n",
       "16 2017-10-09 09:57:22  \n",
       "73 2017-10-09 10:56:17  \n",
       "54 2017-10-09 10:38:18  \n",
       "95 2017-10-09 11:12:06  "
      ]
     },
     "execution_count": 10,
     "metadata": {},
     "output_type": "execute_result"
    }
   ],
   "source": [
    "df.sample(10, random_state=0)"
   ]
  },
  {
   "cell_type": "markdown",
   "metadata": {},
   "source": [
    "## Basic data pre-processing"
   ]
  },
  {
   "cell_type": "code",
   "execution_count": 11,
   "metadata": {
    "ExecuteTime": {
     "end_time": "2020-08-14T17:41:34.721394Z",
     "start_time": "2020-08-14T17:41:34.715078Z"
    }
   },
   "outputs": [],
   "source": [
    "def save_df_page(page, chunks, collection, exclude=['id']):\n",
    "    # concatenate data chunks -> careful benchmark this\n",
    "    df = pd.concat(chunks, axis=0, ignore_index=True)\n",
    "\n",
    "    # store page metadata in mongo\n",
    "    update_page_metadata(collection, df)\n",
    "\n",
    "    # save output to a parquet file with brotli compression\n",
    "    df.to_parquet(os.path.join(model_storage, '{}.{}.parquet'.format(model, page)), compression='brotli')\n",
    "\n",
    "    return page + 1"
   ]
  },
  {
   "cell_type": "code",
   "execution_count": 12,
   "metadata": {
    "ExecuteTime": {
     "end_time": "2020-08-14T17:41:34.732590Z",
     "start_time": "2020-08-14T17:41:34.723932Z"
    }
   },
   "outputs": [
    {
     "data": {
      "text/plain": [
       "<pymongo.results.UpdateResult at 0x7fc5bd37c580>"
      ]
     },
     "execution_count": 12,
     "metadata": {},
     "output_type": "execute_result"
    }
   ],
   "source": [
    "mappings = {'id': 'uint32', 'model': 'category', 'manufacturer': 'category',\n",
    "            'brand': 'category', 'os_version': 'category', 'is_root': 'bool'}\n",
    "\n",
    "model_metadata.update_one({}, {'$set': {'mappings': mappings}})"
   ]
  },
  {
   "cell_type": "code",
   "execution_count": 13,
   "metadata": {
    "ExecuteTime": {
     "end_time": "2020-08-14T17:41:34.744045Z",
     "start_time": "2020-08-14T17:41:34.734867Z"
    }
   },
   "outputs": [],
   "source": [
    "total_rows = 0\n",
    "total_memory_usage = 0.0\n",
    "memory_usage_split = 0.0\n",
    "last_id = 0\n",
    "frequency_threshold = 0.001\n",
    "\n",
    "page = 0\n",
    "chunks = []\n",
    "models_set = set()"
   ]
  },
  {
   "cell_type": "code",
   "execution_count": 14,
   "metadata": {
    "ExecuteTime": {
     "end_time": "2020-08-14T17:41:34.753245Z",
     "start_time": "2020-08-14T17:41:34.749586Z"
    }
   },
   "outputs": [
    {
     "name": "stdout",
     "output_type": "stream",
     "text": [
      "Total csv files: 2\n"
     ]
    }
   ],
   "source": [
    "print('Total csv files: {}'.format(len(csv_files)))"
   ]
  },
  {
   "cell_type": "code",
   "execution_count": 15,
   "metadata": {
    "ExecuteTime": {
     "end_time": "2020-08-14T17:41:38.133182Z",
     "start_time": "2020-08-14T17:41:34.755379Z"
    },
    "code_folding": []
   },
   "outputs": [
    {
     "name": "stdout",
     "output_type": "stream",
     "text": [
      "../../data/raw/devices/devices.query.1.csv ✔\n",
      "../../data/raw/devices/devices.query.2.csv ✔\n"
     ]
    }
   ],
   "source": [
    "for filepath in csv_files:\n",
    "    df = pd.read_csv(filepath, sep=';', parse_dates=['created_at'])\n",
    "    \n",
    "    # brand\n",
    "    df = df.drop(df[df['brand'].str.isnumeric()].index, axis=0)\n",
    "    \n",
    "    # manufacturer\n",
    "    df = df.drop(df[df['manufacturer'].str.isnumeric()].index, axis=0)\n",
    "\n",
    "    # os_version\n",
    "    df = df.drop(df[df['os_version'].str.isalpha()].index, axis=0)\n",
    "    \n",
    "    # slice the minor os_version number e.g. 8.0.1 -> 8.0\n",
    "    df.loc[:, 'os_version'] = ['.'.join(x.split('.')[:2]) for x in df['os_version']]\n",
    "    \n",
    "    # drop low frequency values\n",
    "    value_counts = df['os_version'].value_counts(normalize=True)\n",
    "    df = df[df['os_version'].isin(value_counts[value_counts >= frequency_threshold].index)]\n",
    "    \n",
    "    df.loc[:, 'os_version'] = df['os_version'].map(float).astype(str)\n",
    "    \n",
    "    # drop missing values\n",
    "    df = df.dropna()\n",
    "    \n",
    "    string_columns = df.select_dtypes(include='object').columns.to_list()\n",
    "\n",
    "    # basic string pre-processing: convert to lowercase and strip blank chars\n",
    "    for column in string_columns:\n",
    "        df.loc[:, column] = [x.lower().strip() for x in df[column]]\n",
    "\n",
    "    df = df.astype(mappings)\n",
    "\n",
    "    total_rows += df.shape[0]\n",
    "    page_memory_usage = memory_usage(df)\n",
    "    total_memory_usage += page_memory_usage\n",
    "    memory_usage_split += page_memory_usage\n",
    "\n",
    "    last_id = max(last_id, df['id'].max())\n",
    "    models_set.update(df['model'].unique())\n",
    "\n",
    "    if memory_usage_split >= config['MEMORY_USAGE_SPLIT']:\n",
    "        print('Page {} created!'.format(page))\n",
    "        page = save_df_page(page, chunks, model_metadata)\n",
    "\n",
    "        del chunks[:]\n",
    "        del chunks\n",
    "        chunks = []\n",
    "        memory_usage_split = 0.0\n",
    "    else:\n",
    "        chunks.append(df)\n",
    "        \n",
    "    print('{} ✔'.format(filepath))"
   ]
  },
  {
   "cell_type": "code",
   "execution_count": 16,
   "metadata": {
    "ExecuteTime": {
     "end_time": "2020-08-14T17:41:39.874863Z",
     "start_time": "2020-08-14T17:41:38.135407Z"
    }
   },
   "outputs": [
    {
     "name": "stderr",
     "output_type": "stream",
     "text": [
      "../utils.py:53: FutureWarning: Treating datetime data as categorical rather than numeric in `.describe` is deprecated and will be removed in a future version of pandas. Specify `datetime_is_numeric=True` to silence this warning and adopt the future behavior now.\n",
      "  object_stats = df.describe(exclude=[np.number]).to_dict()\n"
     ]
    }
   ],
   "source": [
    "if chunks:\n",
    "    save_df_page(page, chunks, model_metadata)\n",
    "    del chunks[:]\n",
    "    del chunks"
   ]
  },
  {
   "cell_type": "code",
   "execution_count": 17,
   "metadata": {
    "ExecuteTime": {
     "end_time": "2020-08-14T17:41:39.886927Z",
     "start_time": "2020-08-14T17:41:39.877280Z"
    }
   },
   "outputs": [
    {
     "data": {
      "text/plain": [
       "<pymongo.results.UpdateResult at 0x7fc5a88d0cc0>"
      ]
     },
     "execution_count": 17,
     "metadata": {},
     "output_type": "execute_result"
    }
   ],
   "source": [
    "model_metadata.update_one({}, {'$set': {'last_id': int(last_id)}})\n",
    "model_metadata.update_one({}, {'$set': {'total': total_rows}})"
   ]
  },
  {
   "cell_type": "code",
   "execution_count": 18,
   "metadata": {
    "ExecuteTime": {
     "end_time": "2020-08-14T17:41:39.912219Z",
     "start_time": "2020-08-14T17:41:39.889539Z"
    }
   },
   "outputs": [
    {
     "data": {
      "text/plain": [
       "(307141, 11.33, 307617)"
      ]
     },
     "execution_count": 18,
     "metadata": {},
     "output_type": "execute_result"
    }
   ],
   "source": [
    "total_rows, total_memory_usage, last_id"
   ]
  }
 ],
 "metadata": {
  "kernelspec": {
   "display_name": "Python 3",
   "language": "python",
   "name": "python3"
  },
  "language_info": {
   "codemirror_mode": {
    "name": "ipython",
    "version": 3
   },
   "file_extension": ".py",
   "mimetype": "text/x-python",
   "name": "python",
   "nbconvert_exporter": "python",
   "pygments_lexer": "ipython3",
   "version": "3.8.6"
  },
  "toc": {
   "base_numbering": 1,
   "nav_menu": {},
   "number_sections": true,
   "sideBar": true,
   "skip_h1_title": false,
   "title_cell": "Table of Contents",
   "title_sidebar": "Contents",
   "toc_cell": false,
   "toc_position": {},
   "toc_section_display": true,
   "toc_window_display": false
  }
 },
 "nbformat": 4,
 "nbformat_minor": 4
}
