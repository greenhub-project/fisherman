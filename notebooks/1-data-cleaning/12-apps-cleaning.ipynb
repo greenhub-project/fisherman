{
 "cells": [
  {
   "cell_type": "markdown",
   "metadata": {},
   "source": [
    "# App processes cleaning"
   ]
  },
  {
   "cell_type": "code",
   "execution_count": null,
   "metadata": {
    "ExecuteTime": {
     "end_time": "2020-08-17T15:23:32.286847Z",
     "start_time": "2020-08-17T15:23:32.281853Z"
    }
   },
   "outputs": [],
   "source": [
    "import sys\n",
    "\n",
    "sys.path.append('..')"
   ]
  },
  {
   "cell_type": "code",
   "execution_count": 2,
   "metadata": {
    "ExecuteTime": {
     "end_time": "2020-08-17T15:23:32.882354Z",
     "start_time": "2020-08-17T15:23:32.290285Z"
    }
   },
   "outputs": [],
   "source": [
    "import os\n",
    "import gc\n",
    "import yaml\n",
    "import json\n",
    "import requests\n",
    "import numpy as np\n",
    "import pandas as pd\n",
    "import warnings\n",
    "\n",
    "from pymongo import MongoClient\n",
    "\n",
    "from utils import get_files, memory_usage, \\\n",
    "correct_encoding, update_page_metadata\n",
    "\n",
    "warnings.filterwarnings(\"ignore\")"
   ]
  },
  {
   "cell_type": "code",
   "execution_count": 3,
   "metadata": {
    "ExecuteTime": {
     "end_time": "2020-08-17T15:23:32.892734Z",
     "start_time": "2020-08-17T15:23:32.884339Z"
    }
   },
   "outputs": [],
   "source": [
    "BASE_PATH = '../../'\n",
    "\n",
    "CONFIG_DIR = os.path.join(BASE_PATH, 'config')\n",
    "STORAGE_DIR = os.path.join(BASE_PATH, 'storage')\n",
    "DATA_DIR = os.path.join(BASE_PATH, 'data')\n",
    "\n",
    "config = yaml.load(open(os.path.join(CONFIG_DIR, 'env.yml')),\n",
    "                   Loader=yaml.FullLoader)"
   ]
  },
  {
   "cell_type": "code",
   "execution_count": 4,
   "metadata": {
    "ExecuteTime": {
     "end_time": "2020-08-17T15:23:32.962750Z",
     "start_time": "2020-08-17T15:23:32.895215Z"
    }
   },
   "outputs": [
    {
     "data": {
      "text/plain": [
       "<pymongo.results.InsertOneResult at 0x7f7924fffdc0>"
      ]
     },
     "execution_count": 4,
     "metadata": {},
     "output_type": "execute_result"
    }
   ],
   "source": [
    "model = 'app_processes'\n",
    "model_storage = os.path.join(STORAGE_DIR, model)\n",
    "\n",
    "if not os.path.exists(model_storage):\n",
    "    os.makedirs(model_storage)\n",
    "    \n",
    "client = MongoClient('mongodb://{}:{}@{}:{}'.format(config['MONGO_USERNAME'], config['MONGO_PASSWORD'],\n",
    "                                                    config['MONGO_HOST'], config['MONGO_PORT']))\n",
    "metadata_db = client[config['MONGO_DATABASE']]\n",
    "\n",
    "model_metadata = metadata_db[model]\n",
    "\n",
    "model_metadata.delete_many({})\n",
    "model_metadata.insert_one({'pages': []})"
   ]
  },
  {
   "cell_type": "code",
   "execution_count": 5,
   "metadata": {
    "ExecuteTime": {
     "end_time": "2020-08-17T15:23:33.041863Z",
     "start_time": "2020-08-17T15:23:32.967843Z"
    }
   },
   "outputs": [],
   "source": [
    "csv_files = get_files(os.path.join(DATA_DIR, model, '*.csv'))"
   ]
  },
  {
   "cell_type": "code",
   "execution_count": 6,
   "metadata": {
    "ExecuteTime": {
     "end_time": "2020-08-17T15:23:33.047672Z",
     "start_time": "2020-08-17T15:23:33.044371Z"
    }
   },
   "outputs": [
    {
     "ename": "FileNotFoundError",
     "evalue": "Couldn't find any csv files! Please make sure the filepath exists",
     "output_type": "error",
     "traceback": [
      "\u001b[0;31m---------------------------------------------------------------------------\u001b[0m",
      "\u001b[0;31mFileNotFoundError\u001b[0m                         Traceback (most recent call last)",
      "\u001b[0;32m<ipython-input-6-6ece9cc3373c>\u001b[0m in \u001b[0;36m<module>\u001b[0;34m\u001b[0m\n\u001b[1;32m      1\u001b[0m \u001b[0;32mif\u001b[0m \u001b[0;32mnot\u001b[0m \u001b[0mcsv_files\u001b[0m\u001b[0;34m:\u001b[0m\u001b[0;34m\u001b[0m\u001b[0;34m\u001b[0m\u001b[0m\n\u001b[0;32m----> 2\u001b[0;31m     \u001b[0;32mraise\u001b[0m \u001b[0mFileNotFoundError\u001b[0m\u001b[0;34m(\u001b[0m\u001b[0;34m\"Couldn't find any csv files! Please make sure the filepath exists\"\u001b[0m\u001b[0;34m)\u001b[0m\u001b[0;34m\u001b[0m\u001b[0;34m\u001b[0m\u001b[0m\n\u001b[0m",
      "\u001b[0;31mFileNotFoundError\u001b[0m: Couldn't find any csv files! Please make sure the filepath exists"
     ]
    }
   ],
   "source": [
    "if not csv_files:\n",
    "    raise FileNotFoundError(\"Couldn't find any csv files! Please make sure the filepath exists\")"
   ]
  },
  {
   "cell_type": "code",
   "execution_count": null,
   "metadata": {
    "ExecuteTime": {
     "end_time": "2020-08-17T15:23:33.071859Z",
     "start_time": "2020-08-17T15:23:33.052238Z"
    }
   },
   "outputs": [],
   "source": [
    "df = pd.read_csv(csv_files[0], sep=';', nrows=100)\n",
    "df.info()"
   ]
  },
  {
   "cell_type": "code",
   "execution_count": null,
   "metadata": {
    "ExecuteTime": {
     "end_time": "2020-08-17T15:23:33.105627Z",
     "start_time": "2020-08-17T15:23:33.075539Z"
    }
   },
   "outputs": [],
   "source": [
    "df.describe(include=np.number)"
   ]
  },
  {
   "cell_type": "code",
   "execution_count": null,
   "metadata": {
    "ExecuteTime": {
     "end_time": "2020-08-17T15:23:33.139904Z",
     "start_time": "2020-08-17T15:23:33.107753Z"
    }
   },
   "outputs": [],
   "source": [
    "df.describe(exclude=np.number)"
   ]
  },
  {
   "cell_type": "code",
   "execution_count": null,
   "metadata": {
    "ExecuteTime": {
     "end_time": "2020-08-17T15:23:33.156722Z",
     "start_time": "2020-08-17T15:23:33.144195Z"
    }
   },
   "outputs": [],
   "source": [
    "def save_df_page(page, chunks, collection):\n",
    "    # concatenate data chunks -> careful benchmark this\n",
    "    df = pd.concat(chunks, axis=0, ignore_index=True)\n",
    "    \n",
    "    collection.update_one({}, {'$inc': {'nrows': df.shape[0]}})\n",
    "\n",
    "    # store page metadata in mongo\n",
    "    update_page_metadata(collection, df, exclude=[])\n",
    "\n",
    "    # save output to a parquet file with brotli compression\n",
    "    df.to_parquet(os.path.join(model_storage, '{}.{}.parquet'.format(\n",
    "        model, page)), compression='brotli', index=False)\n",
    "    \n",
    "    del df\n",
    "\n",
    "    return page + 1"
   ]
  },
  {
   "cell_type": "code",
   "execution_count": null,
   "metadata": {
    "ExecuteTime": {
     "end_time": "2020-08-17T15:23:33.170411Z",
     "start_time": "2020-08-17T15:23:33.158904Z"
    }
   },
   "outputs": [],
   "source": [
    "mappings = {'sample_id':'uint32', 'domain':'category', 'application_label':'category',\n",
    "            'is_system_app':'bool'}\n",
    "\n",
    "model_metadata.update_one({}, {'$set': {'mappings': mappings}})"
   ]
  },
  {
   "cell_type": "code",
   "execution_count": null,
   "metadata": {
    "ExecuteTime": {
     "end_time": "2020-08-17T15:23:33.186174Z",
     "start_time": "2020-08-17T15:23:33.172566Z"
    }
   },
   "outputs": [],
   "source": [
    "total_rows = 0\n",
    "total_memory_usage = 0.0\n",
    "memory_usage_split = 0.0\n",
    "last_id = 0\n",
    "\n",
    "page = 0\n",
    "chunks = []\n",
    "\n",
    "features = ['sample_id', 'name', 'application_label', 'is_system_app']\n",
    "\n",
    "string_columns = df[features].select_dtypes(include='object').columns.to_list()"
   ]
  },
  {
   "cell_type": "code",
   "execution_count": null,
   "metadata": {
    "ExecuteTime": {
     "end_time": "2020-08-17T15:23:33.192861Z",
     "start_time": "2020-08-17T15:23:33.188296Z"
    }
   },
   "outputs": [],
   "source": [
    "print('Total csv files: {}'.format(len(csv_files)))"
   ]
  },
  {
   "cell_type": "code",
   "execution_count": null,
   "metadata": {
    "ExecuteTime": {
     "end_time": "2020-08-17T17:44:58.346605Z",
     "start_time": "2020-08-17T15:23:33.194758Z"
    }
   },
   "outputs": [],
   "source": [
    "for filepath in csv_files:\n",
    "    df = pd.read_csv(filepath, sep=';', usecols=features)\n",
    "\n",
    "    # drop missing values\n",
    "    df = df.dropna()\n",
    "\n",
    "    # basic string pre-processing: convert to lowercase and strip blank chars\n",
    "    for column in string_columns:\n",
    "        df.loc[:, column] = [x.lower().strip() for x in df[column].tolist()]\n",
    "\n",
    "    df['domain'] = [x.split(':', 1)[0] for x in df['name'].values]\n",
    "    \n",
    "    df = df.drop(['name'], axis=1)\n",
    "    \n",
    "    df = df.astype(mappings)\n",
    "\n",
    "    total_rows += df.shape[0]\n",
    "    page_memory_usage = memory_usage(df)\n",
    "    total_memory_usage += page_memory_usage\n",
    "    memory_usage_split += page_memory_usage\n",
    "\n",
    "    chunks.append(df)\n",
    "\n",
    "    if memory_usage_split >= config['MEMORY_USAGE_SPLIT']:\n",
    "        print('Page {} created!'.format(page))\n",
    "        page = save_df_page(page, chunks, model_metadata)\n",
    "\n",
    "        del chunks[:]\n",
    "        del chunks\n",
    "        gc.collect()\n",
    "\n",
    "        chunks = []\n",
    "        memory_usage_split = 0.0\n",
    "\n",
    "    print('{} ✔'.format(filepath))"
   ]
  },
  {
   "cell_type": "code",
   "execution_count": null,
   "metadata": {
    "ExecuteTime": {
     "end_time": "2020-08-17T17:45:04.385781Z",
     "start_time": "2020-08-17T17:44:58.348489Z"
    }
   },
   "outputs": [],
   "source": [
    "if chunks:\n",
    "    save_df_page(page, chunks, model_metadata)\n",
    "    del chunks[:]\n",
    "    del chunks\n",
    "    gc.collect()"
   ]
  },
  {
   "cell_type": "code",
   "execution_count": null,
   "metadata": {
    "ExecuteTime": {
     "end_time": "2020-08-17T17:45:04.404132Z",
     "start_time": "2020-08-17T17:45:04.388377Z"
    }
   },
   "outputs": [],
   "source": [
    "model_metadata.update_one({}, {'$set': {'total': total_rows}})"
   ]
  },
  {
   "cell_type": "code",
   "execution_count": null,
   "metadata": {
    "ExecuteTime": {
     "end_time": "2020-08-17T17:45:04.412208Z",
     "start_time": "2020-08-17T17:45:04.406497Z"
    }
   },
   "outputs": [],
   "source": [
    "total_rows, total_memory_usage"
   ]
  },
  {
   "cell_type": "code",
   "execution_count": null,
   "metadata": {
    "ExecuteTime": {
     "end_time": "2020-08-17T17:45:04.942008Z",
     "start_time": "2020-08-17T17:45:04.414448Z"
    }
   },
   "outputs": [],
   "source": [
    "content = '**{}** | task: data pre-processing, rows: {}, memory usage: {} MB' \\\n",
    ".format(model, total_rows, total_memory_usage)\n",
    "\n",
    "requests.post(config['discord_webhook_url'], data={'content': content})"
   ]
  }
 ],
 "metadata": {
  "kernelspec": {
   "display_name": "Python 3",
   "language": "python",
   "name": "python3"
  },
  "language_info": {
   "codemirror_mode": {
    "name": "ipython",
    "version": 3
   },
   "file_extension": ".py",
   "mimetype": "text/x-python",
   "name": "python",
   "nbconvert_exporter": "python",
   "pygments_lexer": "ipython3",
   "version": "3.8.6"
  },
  "toc": {
   "base_numbering": 1,
   "nav_menu": {},
   "number_sections": true,
   "sideBar": true,
   "skip_h1_title": false,
   "title_cell": "Table of Contents",
   "title_sidebar": "Contents",
   "toc_cell": false,
   "toc_position": {},
   "toc_section_display": true,
   "toc_window_display": false
  }
 },
 "nbformat": 4,
 "nbformat_minor": 4
}
