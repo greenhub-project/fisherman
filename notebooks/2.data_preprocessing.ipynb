{
 "cells": [
  {
   "cell_type": "markdown",
   "metadata": {},
   "source": [
    "# 1. Data pre-processing\n",
    "\n",
    "This task will fetch the raw data from the remote database given a SQL query file."
   ]
  },
  {
   "cell_type": "markdown",
   "metadata": {},
   "source": [
    "## 1.1 Install dependencies"
   ]
  },
  {
   "cell_type": "code",
   "execution_count": 1,
   "metadata": {
    "scrolled": true
   },
   "outputs": [
    {
     "name": "stdout",
     "output_type": "stream",
     "text": [
      "Requirement already satisfied: python-dotenv in /opt/conda/lib/python3.8/site-packages (from -r requirements.txt (line 1)) (0.14.0)\n",
      "Requirement already satisfied: sqlalchemy in /opt/conda/lib/python3.8/site-packages (from -r requirements.txt (line 2)) (1.3.18)\n",
      "Requirement already satisfied: mysqlclient in /opt/conda/lib/python3.8/site-packages (from -r requirements.txt (line 3)) (2.0.1)\n",
      "Requirement already satisfied: pyarrow in /opt/conda/lib/python3.8/site-packages (from -r requirements.txt (line 4)) (1.0.0)\n",
      "Requirement already satisfied: numpy>=1.14 in /opt/conda/lib/python3.8/site-packages (from pyarrow->-r requirements.txt (line 4)) (1.19.1)\n"
     ]
    }
   ],
   "source": [
    "!pip install -r requirements.txt"
   ]
  },
  {
   "cell_type": "markdown",
   "metadata": {},
   "source": [
    "## 1.2 Import libraries"
   ]
  },
  {
   "cell_type": "code",
   "execution_count": 2,
   "metadata": {},
   "outputs": [],
   "source": [
    "import numpy as np\n",
    "import pandas as pd"
   ]
  },
  {
   "cell_type": "markdown",
   "metadata": {},
   "source": [
    "## 1.1 Basic data pre-processing"
   ]
  },
  {
   "cell_type": "code",
   "execution_count": 3,
   "metadata": {},
   "outputs": [],
   "source": [
    "%store -r df"
   ]
  },
  {
   "cell_type": "code",
   "execution_count": 4,
   "metadata": {},
   "outputs": [
    {
     "name": "stdout",
     "output_type": "stream",
     "text": [
      "<class 'pandas.core.frame.DataFrame'>\n",
      "RangeIndex: 306469 entries, 0 to 306468\n",
      "Data columns (total 6 columns):\n",
      " #   Column        Non-Null Count   Dtype   \n",
      "---  ------        --------------   -----   \n",
      " 0   id            306469 non-null  uint32  \n",
      " 1   model         306469 non-null  category\n",
      " 2   manufacturer  306469 non-null  category\n",
      " 3   brand         306469 non-null  category\n",
      " 4   os_version    306469 non-null  category\n",
      " 5   is_root       306469 non-null  uint8   \n",
      "dtypes: category(4), uint32(1), uint8(1)\n",
      "memory usage: 3.7 MB\n"
     ]
    }
   ],
   "source": [
    "df.info()"
   ]
  },
  {
   "cell_type": "code",
   "execution_count": 8,
   "metadata": {},
   "outputs": [],
   "source": [
    "mappings = {'id':'uint32', 'model':'category', 'manufacturer':'category',\n",
    "            'brand':'category', 'os_version':'category', 'is_root': 'uint8'}"
   ]
  }
 ],
 "metadata": {
  "kernelspec": {
   "display_name": "Python 3",
   "language": "python",
   "name": "python3"
  },
  "language_info": {
   "codemirror_mode": {
    "name": "ipython",
    "version": 3
   },
   "file_extension": ".py",
   "mimetype": "text/x-python",
   "name": "python",
   "nbconvert_exporter": "python",
   "pygments_lexer": "ipython3",
   "version": "3.8.4"
  }
 },
 "nbformat": 4,
 "nbformat_minor": 4
}
