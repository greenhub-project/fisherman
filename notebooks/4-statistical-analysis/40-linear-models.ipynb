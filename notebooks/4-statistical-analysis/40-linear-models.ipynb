{
 "cells": [
  {
   "cell_type": "code",
   "execution_count": 1,
   "metadata": {},
   "outputs": [],
   "source": [
    "import sys\n",
    "\n",
    "sys.path.append('..')\n",
    "\n",
    "!pip install -q dask-ml"
   ]
  },
  {
   "cell_type": "code",
   "execution_count": 2,
   "metadata": {},
   "outputs": [],
   "source": [
    "import os\n",
    "import gc\n",
    "import yaml\n",
    "import requests\n",
    "import numpy as np\n",
    "import pandas as pd\n",
    "import matplotlib.pyplot as plt\n",
    "import seaborn as sns\n",
    "import plotly.express as px\n",
    "import plotly.graph_objects as go\n",
    "import joblib\n",
    "\n",
    "import warnings\n",
    "warnings.filterwarnings('ignore')\n",
    "\n",
    "from sklearn.linear_model import LinearRegression\n",
    "from sklearn.linear_model import Ridge\n",
    "from sklearn.linear_model import SGDRegressor\n",
    "\n",
    "from sklearn.pipeline import make_pipeline\n",
    "from sklearn.preprocessing import StandardScaler\n",
    "from sklearn.decomposition import PCA\n",
    "from sklearn.metrics import mean_squared_error\n",
    "from sklearn.metrics import mean_absolute_error\n",
    "from sklearn.model_selection import cross_val_score\n",
    "from sklearn.model_selection import train_test_split"
   ]
  },
  {
   "cell_type": "code",
   "execution_count": 3,
   "metadata": {},
   "outputs": [],
   "source": [
    "BASE_PATH = '../../'\n",
    "\n",
    "CONFIG_DIR = os.path.join(BASE_PATH, 'config')\n",
    "STORAGE_DIR = os.path.join(BASE_PATH, 'storage')\n",
    "\n",
    "config = yaml.load(open(os.path.join(CONFIG_DIR, 'env.yml')),\n",
    "                   Loader=yaml.FullLoader)"
   ]
  },
  {
   "cell_type": "code",
   "execution_count": 4,
   "metadata": {},
   "outputs": [],
   "source": [
    "output_storage = os.path.join(STORAGE_DIR, 'output')"
   ]
  },
  {
   "cell_type": "code",
   "execution_count": 5,
   "metadata": {},
   "outputs": [],
   "source": [
    "features = ['battery_level', 'timezone',\n",
    "       'memory_active', 'memory_inactive', 'memory_free', 'memory_user',\n",
    "       'health', 'voltage', 'temperature', 'usage', 'up_time', 'sleep_time',\n",
    "       'wifi_signal_strength', 'wifi_link_speed', 'screen_on',\n",
    "       'screen_brightness', 'roaming_enabled', 'bluetooth_enabled',\n",
    "       'location_enabled', 'power_saver_enabled', 'nfc_enabled',\n",
    "       'developer_mode', 'free', 'total', 'free_system', 'total_system',\n",
    "       'wifi_enabled', 'mobile_enabled', 'wifi_active', 'mobile_active',\n",
    "       'profile', 'time_diff', 'prev_level']"
   ]
  },
  {
   "cell_type": "code",
   "execution_count": 6,
   "metadata": {},
   "outputs": [],
   "source": [
    "df = pd.read_parquet(os.path.join(output_storage, 'unplugged.parquet'), columns=features)"
   ]
  },
  {
   "cell_type": "code",
   "execution_count": 7,
   "metadata": {},
   "outputs": [],
   "source": [
    "string_columns = df[features].select_dtypes(include='object').columns.to_list()\n",
    "binary_columns = df[features].select_dtypes(include='bool').columns.to_list()"
   ]
  },
  {
   "cell_type": "code",
   "execution_count": 8,
   "metadata": {},
   "outputs": [],
   "source": [
    "df[string_columns] = df[string_columns].astype('category')\n",
    "for column in string_columns:\n",
    "    df.loc[:, column] = df[column].cat.codes"
   ]
  },
  {
   "cell_type": "code",
   "execution_count": 9,
   "metadata": {},
   "outputs": [],
   "source": [
    "df[binary_columns] = df[binary_columns].astype(np.uint8)"
   ]
  },
  {
   "cell_type": "code",
   "execution_count": 10,
   "metadata": {},
   "outputs": [
    {
     "data": {
      "text/html": [
       "<div>\n",
       "<style scoped>\n",
       "    .dataframe tbody tr th:only-of-type {\n",
       "        vertical-align: middle;\n",
       "    }\n",
       "\n",
       "    .dataframe tbody tr th {\n",
       "        vertical-align: top;\n",
       "    }\n",
       "\n",
       "    .dataframe thead th {\n",
       "        text-align: right;\n",
       "    }\n",
       "</style>\n",
       "<table border=\"1\" class=\"dataframe\">\n",
       "  <thead>\n",
       "    <tr style=\"text-align: right;\">\n",
       "      <th></th>\n",
       "      <th>battery_level</th>\n",
       "      <th>timezone</th>\n",
       "      <th>memory_active</th>\n",
       "      <th>memory_inactive</th>\n",
       "      <th>memory_free</th>\n",
       "      <th>memory_user</th>\n",
       "      <th>health</th>\n",
       "      <th>voltage</th>\n",
       "      <th>temperature</th>\n",
       "      <th>usage</th>\n",
       "      <th>...</th>\n",
       "      <th>total</th>\n",
       "      <th>free_system</th>\n",
       "      <th>total_system</th>\n",
       "      <th>wifi_enabled</th>\n",
       "      <th>mobile_enabled</th>\n",
       "      <th>wifi_active</th>\n",
       "      <th>mobile_active</th>\n",
       "      <th>profile</th>\n",
       "      <th>time_diff</th>\n",
       "      <th>prev_level</th>\n",
       "    </tr>\n",
       "  </thead>\n",
       "  <tbody>\n",
       "    <tr>\n",
       "      <th>0</th>\n",
       "      <td>61</td>\n",
       "      <td>244</td>\n",
       "      <td>1058492</td>\n",
       "      <td>1065028</td>\n",
       "      <td>2901828</td>\n",
       "      <td>58924</td>\n",
       "      <td>1</td>\n",
       "      <td>3.87</td>\n",
       "      <td>32.3</td>\n",
       "      <td>80</td>\n",
       "      <td>...</td>\n",
       "      <td>26993</td>\n",
       "      <td>24</td>\n",
       "      <td>2299</td>\n",
       "      <td>0</td>\n",
       "      <td>1</td>\n",
       "      <td>0</td>\n",
       "      <td>1</td>\n",
       "      <td>1281</td>\n",
       "      <td>122.0</td>\n",
       "      <td>62.0</td>\n",
       "    </tr>\n",
       "    <tr>\n",
       "      <th>1</th>\n",
       "      <td>60</td>\n",
       "      <td>244</td>\n",
       "      <td>1045868</td>\n",
       "      <td>1043208</td>\n",
       "      <td>2901828</td>\n",
       "      <td>56900</td>\n",
       "      <td>1</td>\n",
       "      <td>3.79</td>\n",
       "      <td>31.8</td>\n",
       "      <td>78</td>\n",
       "      <td>...</td>\n",
       "      <td>26993</td>\n",
       "      <td>24</td>\n",
       "      <td>2299</td>\n",
       "      <td>0</td>\n",
       "      <td>1</td>\n",
       "      <td>0</td>\n",
       "      <td>1</td>\n",
       "      <td>1281</td>\n",
       "      <td>367.0</td>\n",
       "      <td>61.0</td>\n",
       "    </tr>\n",
       "    <tr>\n",
       "      <th>2</th>\n",
       "      <td>59</td>\n",
       "      <td>244</td>\n",
       "      <td>1022756</td>\n",
       "      <td>1032260</td>\n",
       "      <td>2901828</td>\n",
       "      <td>91880</td>\n",
       "      <td>1</td>\n",
       "      <td>3.81</td>\n",
       "      <td>31.8</td>\n",
       "      <td>66</td>\n",
       "      <td>...</td>\n",
       "      <td>26993</td>\n",
       "      <td>24</td>\n",
       "      <td>2299</td>\n",
       "      <td>0</td>\n",
       "      <td>1</td>\n",
       "      <td>0</td>\n",
       "      <td>1</td>\n",
       "      <td>1281</td>\n",
       "      <td>92.0</td>\n",
       "      <td>60.0</td>\n",
       "    </tr>\n",
       "    <tr>\n",
       "      <th>3</th>\n",
       "      <td>58</td>\n",
       "      <td>244</td>\n",
       "      <td>1017528</td>\n",
       "      <td>1017440</td>\n",
       "      <td>2901828</td>\n",
       "      <td>57960</td>\n",
       "      <td>1</td>\n",
       "      <td>3.74</td>\n",
       "      <td>31.7</td>\n",
       "      <td>68</td>\n",
       "      <td>...</td>\n",
       "      <td>26993</td>\n",
       "      <td>24</td>\n",
       "      <td>2299</td>\n",
       "      <td>0</td>\n",
       "      <td>1</td>\n",
       "      <td>0</td>\n",
       "      <td>1</td>\n",
       "      <td>1281</td>\n",
       "      <td>150.0</td>\n",
       "      <td>59.0</td>\n",
       "    </tr>\n",
       "    <tr>\n",
       "      <th>4</th>\n",
       "      <td>57</td>\n",
       "      <td>244</td>\n",
       "      <td>994532</td>\n",
       "      <td>1001584</td>\n",
       "      <td>2901828</td>\n",
       "      <td>98360</td>\n",
       "      <td>1</td>\n",
       "      <td>3.77</td>\n",
       "      <td>31.7</td>\n",
       "      <td>94</td>\n",
       "      <td>...</td>\n",
       "      <td>26993</td>\n",
       "      <td>24</td>\n",
       "      <td>2299</td>\n",
       "      <td>0</td>\n",
       "      <td>1</td>\n",
       "      <td>0</td>\n",
       "      <td>1</td>\n",
       "      <td>1281</td>\n",
       "      <td>100.0</td>\n",
       "      <td>58.0</td>\n",
       "    </tr>\n",
       "  </tbody>\n",
       "</table>\n",
       "<p>5 rows × 33 columns</p>\n",
       "</div>"
      ],
      "text/plain": [
       "   battery_level  timezone  memory_active  memory_inactive  memory_free  \\\n",
       "0             61       244        1058492          1065028      2901828   \n",
       "1             60       244        1045868          1043208      2901828   \n",
       "2             59       244        1022756          1032260      2901828   \n",
       "3             58       244        1017528          1017440      2901828   \n",
       "4             57       244         994532          1001584      2901828   \n",
       "\n",
       "   memory_user  health  voltage  temperature  usage  ...  total  free_system  \\\n",
       "0        58924       1     3.87         32.3     80  ...  26993           24   \n",
       "1        56900       1     3.79         31.8     78  ...  26993           24   \n",
       "2        91880       1     3.81         31.8     66  ...  26993           24   \n",
       "3        57960       1     3.74         31.7     68  ...  26993           24   \n",
       "4        98360       1     3.77         31.7     94  ...  26993           24   \n",
       "\n",
       "   total_system  wifi_enabled  mobile_enabled  wifi_active  mobile_active  \\\n",
       "0          2299             0               1            0              1   \n",
       "1          2299             0               1            0              1   \n",
       "2          2299             0               1            0              1   \n",
       "3          2299             0               1            0              1   \n",
       "4          2299             0               1            0              1   \n",
       "\n",
       "   profile  time_diff  prev_level  \n",
       "0     1281      122.0        62.0  \n",
       "1     1281      367.0        61.0  \n",
       "2     1281       92.0        60.0  \n",
       "3     1281      150.0        59.0  \n",
       "4     1281      100.0        58.0  \n",
       "\n",
       "[5 rows x 33 columns]"
      ]
     },
     "execution_count": 10,
     "metadata": {},
     "output_type": "execute_result"
    }
   ],
   "source": [
    "df.head()"
   ]
  },
  {
   "cell_type": "code",
   "execution_count": 11,
   "metadata": {},
   "outputs": [
    {
     "data": {
      "text/plain": [
       "count    1.078372e+07\n",
       "mean     2.168244e+02\n",
       "std      2.517740e+02\n",
       "min      1.900000e+01\n",
       "25%      7.000000e+01\n",
       "50%      1.340000e+02\n",
       "75%      2.400000e+02\n",
       "max      1.577000e+03\n",
       "Name: time_diff, dtype: float64"
      ]
     },
     "execution_count": 11,
     "metadata": {},
     "output_type": "execute_result"
    }
   ],
   "source": [
    "df['time_diff'].describe()"
   ]
  },
  {
   "cell_type": "code",
   "execution_count": 12,
   "metadata": {},
   "outputs": [],
   "source": [
    "from scipy.stats import zscore\n",
    "\n",
    "z_scores = np.abs(df[['time_diff']].apply(zscore, raw=True))\n",
    "\n",
    "df = df[(z_scores <= 3).all(axis=1)]"
   ]
  },
  {
   "cell_type": "code",
   "execution_count": 13,
   "metadata": {},
   "outputs": [],
   "source": [
    "# df = df.head(df.shape[0] * 50 // 100)\n",
    "df = df.sample(frac=0.5, random_state=0)"
   ]
  },
  {
   "cell_type": "code",
   "execution_count": null,
   "metadata": {},
   "outputs": [],
   "source": [
    "df['time_diff'].hist()"
   ]
  },
  {
   "cell_type": "code",
   "execution_count": 14,
   "metadata": {},
   "outputs": [],
   "source": [
    "X = df.drop('time_diff', axis=1)\n",
    "y = df['time_diff']"
   ]
  },
  {
   "cell_type": "code",
   "execution_count": 15,
   "metadata": {},
   "outputs": [
    {
     "data": {
      "text/plain": [
       "66"
      ]
     },
     "execution_count": 15,
     "metadata": {},
     "output_type": "execute_result"
    }
   ],
   "source": [
    "del df\n",
    "gc.collect()"
   ]
  },
  {
   "cell_type": "code",
   "execution_count": 16,
   "metadata": {},
   "outputs": [],
   "source": [
    "X_train, X_test, y_train, y_test = train_test_split(X, y, test_size=0.2, random_state=0)"
   ]
  },
  {
   "cell_type": "code",
   "execution_count": 17,
   "metadata": {},
   "outputs": [
    {
     "data": {
      "text/plain": [
       "44"
      ]
     },
     "execution_count": 17,
     "metadata": {},
     "output_type": "execute_result"
    }
   ],
   "source": [
    "del X\n",
    "del y\n",
    "gc.collect()"
   ]
  },
  {
   "cell_type": "markdown",
   "metadata": {},
   "source": [
    "## Linear Regression"
   ]
  },
  {
   "cell_type": "code",
   "execution_count": 18,
   "metadata": {},
   "outputs": [],
   "source": [
    "model = make_pipeline(StandardScaler(), LinearRegression(n_jobs=-1))"
   ]
  },
  {
   "cell_type": "code",
   "execution_count": 19,
   "metadata": {},
   "outputs": [
    {
     "data": {
      "text/plain": [
       "Pipeline(steps=[('standardscaler', StandardScaler()),\n",
       "                ('linearregression', LinearRegression(n_jobs=-1))])"
      ]
     },
     "execution_count": 19,
     "metadata": {},
     "output_type": "execute_result"
    }
   ],
   "source": [
    "model.fit(X_train, y_train)"
   ]
  },
  {
   "cell_type": "code",
   "execution_count": 20,
   "metadata": {},
   "outputs": [
    {
     "data": {
      "text/plain": [
       "0.1558689093897222"
      ]
     },
     "execution_count": 20,
     "metadata": {},
     "output_type": "execute_result"
    }
   ],
   "source": [
    "model.score(X_test, y_test)"
   ]
  },
  {
   "cell_type": "code",
   "execution_count": 21,
   "metadata": {},
   "outputs": [],
   "source": [
    "y_pred = model.predict(X_test)"
   ]
  },
  {
   "cell_type": "code",
   "execution_count": 22,
   "metadata": {},
   "outputs": [
    {
     "data": {
      "text/plain": [
       "(109.68953772276828, 25212.432430067078)"
      ]
     },
     "execution_count": 22,
     "metadata": {},
     "output_type": "execute_result"
    }
   ],
   "source": [
    "mean_absolute_error(y_test, y_pred), mean_squared_error(y_test, y_pred)"
   ]
  },
  {
   "cell_type": "markdown",
   "metadata": {},
   "source": [
    "## Ridge regression"
   ]
  },
  {
   "cell_type": "code",
   "execution_count": 23,
   "metadata": {},
   "outputs": [],
   "source": [
    "model = make_pipeline(StandardScaler(), Ridge(random_state=0))"
   ]
  },
  {
   "cell_type": "code",
   "execution_count": 24,
   "metadata": {},
   "outputs": [
    {
     "data": {
      "text/plain": [
       "Pipeline(steps=[('standardscaler', StandardScaler()),\n",
       "                ('ridge', Ridge(random_state=0))])"
      ]
     },
     "execution_count": 24,
     "metadata": {},
     "output_type": "execute_result"
    }
   ],
   "source": [
    "model.fit(X_train, y_train)"
   ]
  },
  {
   "cell_type": "code",
   "execution_count": 25,
   "metadata": {},
   "outputs": [
    {
     "data": {
      "text/plain": [
       "0.15587036229848716"
      ]
     },
     "execution_count": 25,
     "metadata": {},
     "output_type": "execute_result"
    }
   ],
   "source": [
    "model.score(X_test, y_test)"
   ]
  },
  {
   "cell_type": "code",
   "execution_count": 26,
   "metadata": {},
   "outputs": [],
   "source": [
    "y_pred = model.predict(X_test)"
   ]
  },
  {
   "cell_type": "code",
   "execution_count": 27,
   "metadata": {},
   "outputs": [
    {
     "data": {
      "text/plain": [
       "(109.68995664781629, 25212.389034717147)"
      ]
     },
     "execution_count": 27,
     "metadata": {},
     "output_type": "execute_result"
    }
   ],
   "source": [
    "mean_absolute_error(y_test, y_pred), mean_squared_error(y_test, y_pred)"
   ]
  },
  {
   "cell_type": "code",
   "execution_count": 29,
   "metadata": {},
   "outputs": [
    {
     "data": {
      "image/png": "[encoded data removed]",
      "text/plain": [
       "<Figure size 864x576 with 1 Axes>"
      ]
     },
     "metadata": {
      "needs_background": "light"
     },
     "output_type": "display_data"
    }
   ],
   "source": [
    "plt.figure(figsize=(12,8))\n",
    "plt.scatter(range(0, 100), y_test[:100],  color='red')\n",
    "plt.plot(range(0, 100), y_pred[:100], color='blue', linewidth=2)\n",
    "\n",
    "plt.show()"
   ]
  },
  {
   "cell_type": "markdown",
   "metadata": {},
   "source": [
    "## Elastic Net"
   ]
  },
  {
   "cell_type": "code",
   "execution_count": 30,
   "metadata": {},
   "outputs": [],
   "source": [
    "from sklearn.linear_model import ElasticNet\n",
    "\n",
    "model = make_pipeline(StandardScaler(), ElasticNet(random_state=0))"
   ]
  },
  {
   "cell_type": "code",
   "execution_count": 31,
   "metadata": {},
   "outputs": [
    {
     "data": {
      "text/plain": [
       "Pipeline(steps=[('standardscaler', StandardScaler()),\n",
       "                ('elasticnet', ElasticNet(random_state=0))])"
      ]
     },
     "execution_count": 31,
     "metadata": {},
     "output_type": "execute_result"
    }
   ],
   "source": [
    "model.fit(X_train, y_train)"
   ]
  },
  {
   "cell_type": "code",
   "execution_count": 32,
   "metadata": {},
   "outputs": [
    {
     "data": {
      "text/plain": [
       "0.13419310813432195"
      ]
     },
     "execution_count": 32,
     "metadata": {},
     "output_type": "execute_result"
    }
   ],
   "source": [
    "model.score(X_test, y_test)"
   ]
  },
  {
   "cell_type": "code",
   "execution_count": 33,
   "metadata": {},
   "outputs": [],
   "source": [
    "y_pred = model.predict(X_test)"
   ]
  },
  {
   "cell_type": "code",
   "execution_count": 34,
   "metadata": {},
   "outputs": [
    {
     "data": {
      "text/plain": [
       "(111.7811389989423, 25859.84333649897)"
      ]
     },
     "execution_count": 34,
     "metadata": {},
     "output_type": "execute_result"
    }
   ],
   "source": [
    "mean_absolute_error(y_test, y_pred), mean_squared_error(y_test, y_pred)"
   ]
  },
  {
   "cell_type": "markdown",
   "metadata": {},
   "source": [
    "## Lasso Regression"
   ]
  },
  {
   "cell_type": "code",
   "execution_count": 35,
   "metadata": {},
   "outputs": [],
   "source": [
    "from sklearn.linear_model import Lasso\n",
    "\n",
    "model = make_pipeline(StandardScaler(), Lasso(random_state=0))"
   ]
  },
  {
   "cell_type": "code",
   "execution_count": 36,
   "metadata": {},
   "outputs": [
    {
     "data": {
      "text/plain": [
       "Pipeline(steps=[('standardscaler', StandardScaler()),\n",
       "                ('lasso', Lasso(random_state=0))])"
      ]
     },
     "execution_count": 36,
     "metadata": {},
     "output_type": "execute_result"
    }
   ],
   "source": [
    "model.fit(X_train, y_train)"
   ]
  },
  {
   "cell_type": "code",
   "execution_count": 37,
   "metadata": {},
   "outputs": [
    {
     "data": {
      "text/plain": [
       "0.14912767789242853"
      ]
     },
     "execution_count": 37,
     "metadata": {},
     "output_type": "execute_result"
    }
   ],
   "source": [
    "model.score(X_test, y_test)"
   ]
  },
  {
   "cell_type": "code",
   "execution_count": 38,
   "metadata": {},
   "outputs": [],
   "source": [
    "y_pred = model.predict(X_test)"
   ]
  },
  {
   "cell_type": "code",
   "execution_count": 39,
   "metadata": {},
   "outputs": [
    {
     "data": {
      "text/plain": [
       "(110.23959417240087, 25413.778933603728)"
      ]
     },
     "execution_count": 39,
     "metadata": {},
     "output_type": "execute_result"
    }
   ],
   "source": [
    "mean_absolute_error(y_test, y_pred), mean_squared_error(y_test, y_pred)"
   ]
  }
 ],
 "metadata": {
  "kernelspec": {
   "display_name": "Python 3",
   "language": "python",
   "name": "python3"
  },
  "language_info": {
   "codemirror_mode": {
    "name": "ipython",
    "version": 3
   },
   "file_extension": ".py",
   "mimetype": "text/x-python",
   "name": "python",
   "nbconvert_exporter": "python",
   "pygments_lexer": "ipython3",
   "version": "3.8.4"
  }
 },
 "nbformat": 4,
 "nbformat_minor": 4
}
