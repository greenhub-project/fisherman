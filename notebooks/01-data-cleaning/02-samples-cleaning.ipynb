{
 "cells": [
  {
   "cell_type": "markdown",
   "metadata": {},
   "source": [
    "# Samples cleaning\n",
    "\n",
    "This task will fetch the raw data from the remote database given a SQL query file."
   ]
  },
  {
   "cell_type": "markdown",
   "metadata": {},
   "source": [
    "## Import libraries"
   ]
  },
  {
   "cell_type": "code",
   "execution_count": 1,
   "metadata": {
    "ExecuteTime": {
     "end_time": "2020-08-06T21:21:04.104923Z",
     "start_time": "2020-08-06T21:21:04.101334Z"
    }
   },
   "outputs": [],
   "source": [
    "import sys\n",
    "\n",
    "sys.path.append('..')"
   ]
  },
  {
   "cell_type": "code",
   "execution_count": 2,
   "metadata": {
    "ExecuteTime": {
     "end_time": "2020-08-06T21:21:04.697706Z",
     "start_time": "2020-08-06T21:21:04.108033Z"
    }
   },
   "outputs": [],
   "source": [
    "import os\n",
    "import gc\n",
    "import yaml\n",
    "import json\n",
    "import requests\n",
    "import numpy as np\n",
    "import pandas as pd\n",
    "\n",
    "from pymongo import MongoClient\n",
    "\n",
    "from utils import get_files, memory_usage, \\\n",
    "correct_encoding, update_page_metadata"
   ]
  },
  {
   "cell_type": "markdown",
   "metadata": {},
   "source": [
    "## Load the data"
   ]
  },
  {
   "cell_type": "code",
   "execution_count": 3,
   "metadata": {
    "ExecuteTime": {
     "end_time": "2020-08-06T21:21:04.708584Z",
     "start_time": "2020-08-06T21:21:04.699862Z"
    }
   },
   "outputs": [],
   "source": [
    "BASE_PATH = '../../'\n",
    "\n",
    "CONFIG_DIR = os.path.join(BASE_PATH, 'config')\n",
    "STORAGE_DIR = os.path.join(BASE_PATH, 'storage')\n",
    "DATA_DIR = os.path.join(BASE_PATH, 'data')\n",
    "\n",
    "config = yaml.load(open(os.path.join(CONFIG_DIR, 'env.yml')),\n",
    "                   Loader=yaml.FullLoader)"
   ]
  },
  {
   "cell_type": "code",
   "execution_count": 4,
   "metadata": {
    "ExecuteTime": {
     "end_time": "2020-08-06T21:21:04.775246Z",
     "start_time": "2020-08-06T21:21:04.710893Z"
    }
   },
   "outputs": [
    {
     "data": {
      "text/plain": [
       "<pymongo.results.InsertOneResult at 0x7f77a6797400>"
      ]
     },
     "execution_count": 4,
     "metadata": {},
     "output_type": "execute_result"
    }
   ],
   "source": [
    "model = 'samples'\n",
    "model_storage = os.path.join(STORAGE_DIR, 'samples-big')\n",
    "\n",
    "if not os.path.exists(model_storage):\n",
    "    os.makedirs(model_storage)\n",
    "    \n",
    "client = MongoClient('mongodb://{}:{}@{}:{}'.format(config['MONGO_USERNAME'], config['MONGO_PASSWORD'],\n",
    "                                                    config['MONGO_HOST'], config['MONGO_PORT']))\n",
    "metadata_db = client[config['MONGO_DATABASE']]\n",
    "\n",
    "model_metadata = metadata_db[model]\n",
    "\n",
    "model_metadata.delete_many({})\n",
    "model_metadata.insert_one({'pages': []})"
   ]
  },
  {
   "cell_type": "code",
   "execution_count": 5,
   "metadata": {
    "ExecuteTime": {
     "end_time": "2020-08-06T21:21:04.784134Z",
     "start_time": "2020-08-06T21:21:04.777436Z"
    }
   },
   "outputs": [],
   "source": [
    "csv_files = get_files(os.path.join(DATA_DIR, 'raw', model, '*.csv'))"
   ]
  },
  {
   "cell_type": "code",
   "execution_count": 6,
   "metadata": {
    "ExecuteTime": {
     "end_time": "2020-08-06T21:21:04.792016Z",
     "start_time": "2020-08-06T21:21:04.788369Z"
    }
   },
   "outputs": [],
   "source": [
    "if not csv_files:\n",
    "    raise FileNotFoundError('Couldn\\'t find any csv files! Please make sure the filepath exists')"
   ]
  },
  {
   "cell_type": "code",
   "execution_count": 7,
   "metadata": {
    "ExecuteTime": {
     "end_time": "2020-08-06T21:21:04.836475Z",
     "start_time": "2020-08-06T21:21:04.795602Z"
    }
   },
   "outputs": [
    {
     "name": "stdout",
     "output_type": "stream",
     "text": [
      "<class 'pandas.core.frame.DataFrame'>\n",
      "RangeIndex: 100 entries, 0 to 99\n",
      "Data columns (total 32 columns):\n",
      " #   Column                Non-Null Count  Dtype         \n",
      "---  ------                --------------  -----         \n",
      " 0   id                    100 non-null    int64         \n",
      " 1   device_id             100 non-null    int64         \n",
      " 2   timestamp             100 non-null    datetime64[ns]\n",
      " 3   battery_state         100 non-null    object        \n",
      " 4   battery_level         100 non-null    float64       \n",
      " 5   timezone              100 non-null    object        \n",
      " 6   country_code          100 non-null    object        \n",
      " 7   charger               100 non-null    object        \n",
      " 8   health                100 non-null    object        \n",
      " 9   voltage               100 non-null    float64       \n",
      " 10  temperature           100 non-null    float64       \n",
      " 11  usage                 100 non-null    float64       \n",
      " 12  up_time               100 non-null    int64         \n",
      " 13  sleep_time            100 non-null    int64         \n",
      " 14  network_status        100 non-null    object        \n",
      " 15  mobile_data_status    100 non-null    object        \n",
      " 16  mobile_data_activity  100 non-null    object        \n",
      " 17  wifi_status           100 non-null    object        \n",
      " 18  wifi_signal_strength  100 non-null    int64         \n",
      " 19  wifi_link_speed       100 non-null    int64         \n",
      " 20  screen_on             100 non-null    int64         \n",
      " 21  screen_brightness     100 non-null    int64         \n",
      " 22  roaming_enabled       100 non-null    int64         \n",
      " 23  bluetooth_enabled     100 non-null    int64         \n",
      " 24  location_enabled      100 non-null    int64         \n",
      " 25  power_saver_enabled   100 non-null    int64         \n",
      " 26  nfc_enabled           100 non-null    int64         \n",
      " 27  developer_mode        100 non-null    int64         \n",
      " 28  free                  100 non-null    int64         \n",
      " 29  total                 100 non-null    int64         \n",
      " 30  free_system           100 non-null    int64         \n",
      " 31  total_system          100 non-null    int64         \n",
      "dtypes: datetime64[ns](1), float64(4), int64(18), object(9)\n",
      "memory usage: 25.1+ KB\n"
     ]
    }
   ],
   "source": [
    "df = pd.read_csv(csv_files[0], sep=';', parse_dates=['timestamp'], nrows=100)\n",
    "\n",
    "# sample rows to list columns and dtypes\n",
    "df.info()"
   ]
  },
  {
   "cell_type": "code",
   "execution_count": 8,
   "metadata": {
    "ExecuteTime": {
     "end_time": "2020-08-06T21:21:04.974226Z",
     "start_time": "2020-08-06T21:21:04.840760Z"
    }
   },
   "outputs": [
    {
     "data": {
      "text/html": [
       "<div>\n",
       "<style scoped>\n",
       "    .dataframe tbody tr th:only-of-type {\n",
       "        vertical-align: middle;\n",
       "    }\n",
       "\n",
       "    .dataframe tbody tr th {\n",
       "        vertical-align: top;\n",
       "    }\n",
       "\n",
       "    .dataframe thead th {\n",
       "        text-align: right;\n",
       "    }\n",
       "</style>\n",
       "<table border=\"1\" class=\"dataframe\">\n",
       "  <thead>\n",
       "    <tr style=\"text-align: right;\">\n",
       "      <th></th>\n",
       "      <th>id</th>\n",
       "      <th>device_id</th>\n",
       "      <th>battery_level</th>\n",
       "      <th>voltage</th>\n",
       "      <th>temperature</th>\n",
       "      <th>usage</th>\n",
       "      <th>up_time</th>\n",
       "      <th>sleep_time</th>\n",
       "      <th>wifi_signal_strength</th>\n",
       "      <th>wifi_link_speed</th>\n",
       "      <th>...</th>\n",
       "      <th>roaming_enabled</th>\n",
       "      <th>bluetooth_enabled</th>\n",
       "      <th>location_enabled</th>\n",
       "      <th>power_saver_enabled</th>\n",
       "      <th>nfc_enabled</th>\n",
       "      <th>developer_mode</th>\n",
       "      <th>free</th>\n",
       "      <th>total</th>\n",
       "      <th>free_system</th>\n",
       "      <th>total_system</th>\n",
       "    </tr>\n",
       "  </thead>\n",
       "  <tbody>\n",
       "    <tr>\n",
       "      <th>count</th>\n",
       "      <td>100.000000</td>\n",
       "      <td>100.000000</td>\n",
       "      <td>100.000000</td>\n",
       "      <td>100.000000</td>\n",
       "      <td>100.00000</td>\n",
       "      <td>100.000000</td>\n",
       "      <td>1.000000e+02</td>\n",
       "      <td>1.000000e+02</td>\n",
       "      <td>100.000000</td>\n",
       "      <td>100.000000</td>\n",
       "      <td>...</td>\n",
       "      <td>100.0</td>\n",
       "      <td>100.0</td>\n",
       "      <td>100.000000</td>\n",
       "      <td>100.0</td>\n",
       "      <td>100.000000</td>\n",
       "      <td>100.0</td>\n",
       "      <td>100.000000</td>\n",
       "      <td>100.000000</td>\n",
       "      <td>100.000000</td>\n",
       "      <td>100.000000</td>\n",
       "    </tr>\n",
       "    <tr>\n",
       "      <th>mean</th>\n",
       "      <td>50.500000</td>\n",
       "      <td>1.870000</td>\n",
       "      <td>71.380000</td>\n",
       "      <td>4.119500</td>\n",
       "      <td>28.77100</td>\n",
       "      <td>0.320900</td>\n",
       "      <td>6.850256e+05</td>\n",
       "      <td>4.672100e+05</td>\n",
       "      <td>-107.430000</td>\n",
       "      <td>14.610000</td>\n",
       "      <td>...</td>\n",
       "      <td>0.0</td>\n",
       "      <td>0.0</td>\n",
       "      <td>0.710000</td>\n",
       "      <td>0.0</td>\n",
       "      <td>0.290000</td>\n",
       "      <td>0.0</td>\n",
       "      <td>4098.300000</td>\n",
       "      <td>10567.510000</td>\n",
       "      <td>460.100000</td>\n",
       "      <td>2699.510000</td>\n",
       "    </tr>\n",
       "    <tr>\n",
       "      <th>std</th>\n",
       "      <td>29.011492</td>\n",
       "      <td>1.368144</td>\n",
       "      <td>31.909208</td>\n",
       "      <td>0.181578</td>\n",
       "      <td>4.09235</td>\n",
       "      <td>2.246707</td>\n",
       "      <td>4.056857e+05</td>\n",
       "      <td>5.102206e+05</td>\n",
       "      <td>27.901434</td>\n",
       "      <td>28.977837</td>\n",
       "      <td>...</td>\n",
       "      <td>0.0</td>\n",
       "      <td>0.0</td>\n",
       "      <td>0.456048</td>\n",
       "      <td>0.0</td>\n",
       "      <td>0.456048</td>\n",
       "      <td>0.0</td>\n",
       "      <td>332.706001</td>\n",
       "      <td>1468.018581</td>\n",
       "      <td>278.189293</td>\n",
       "      <td>1085.850339</td>\n",
       "    </tr>\n",
       "    <tr>\n",
       "      <th>min</th>\n",
       "      <td>1.000000</td>\n",
       "      <td>1.000000</td>\n",
       "      <td>5.000000</td>\n",
       "      <td>3.790000</td>\n",
       "      <td>21.40000</td>\n",
       "      <td>-21.430000</td>\n",
       "      <td>4.086870e+05</td>\n",
       "      <td>1.413690e+05</td>\n",
       "      <td>-127.000000</td>\n",
       "      <td>-1.000000</td>\n",
       "      <td>...</td>\n",
       "      <td>0.0</td>\n",
       "      <td>0.0</td>\n",
       "      <td>0.000000</td>\n",
       "      <td>0.0</td>\n",
       "      <td>0.000000</td>\n",
       "      <td>0.0</td>\n",
       "      <td>3789.000000</td>\n",
       "      <td>9634.000000</td>\n",
       "      <td>27.000000</td>\n",
       "      <td>1009.000000</td>\n",
       "    </tr>\n",
       "    <tr>\n",
       "      <th>25%</th>\n",
       "      <td>25.750000</td>\n",
       "      <td>1.000000</td>\n",
       "      <td>40.750000</td>\n",
       "      <td>3.930000</td>\n",
       "      <td>27.30000</td>\n",
       "      <td>0.030000</td>\n",
       "      <td>4.130460e+05</td>\n",
       "      <td>1.415370e+05</td>\n",
       "      <td>-127.000000</td>\n",
       "      <td>-1.000000</td>\n",
       "      <td>...</td>\n",
       "      <td>0.0</td>\n",
       "      <td>0.0</td>\n",
       "      <td>0.000000</td>\n",
       "      <td>0.0</td>\n",
       "      <td>0.000000</td>\n",
       "      <td>0.0</td>\n",
       "      <td>3919.000000</td>\n",
       "      <td>9634.000000</td>\n",
       "      <td>27.000000</td>\n",
       "      <td>1009.000000</td>\n",
       "    </tr>\n",
       "    <tr>\n",
       "      <th>50%</th>\n",
       "      <td>50.500000</td>\n",
       "      <td>1.000000</td>\n",
       "      <td>88.000000</td>\n",
       "      <td>4.175000</td>\n",
       "      <td>27.70000</td>\n",
       "      <td>0.695000</td>\n",
       "      <td>4.254800e+05</td>\n",
       "      <td>1.436480e+05</td>\n",
       "      <td>-127.000000</td>\n",
       "      <td>-1.000000</td>\n",
       "      <td>...</td>\n",
       "      <td>0.0</td>\n",
       "      <td>0.0</td>\n",
       "      <td>1.000000</td>\n",
       "      <td>0.0</td>\n",
       "      <td>0.000000</td>\n",
       "      <td>0.0</td>\n",
       "      <td>3921.000000</td>\n",
       "      <td>9634.000000</td>\n",
       "      <td>637.000000</td>\n",
       "      <td>3390.000000</td>\n",
       "    </tr>\n",
       "    <tr>\n",
       "      <th>75%</th>\n",
       "      <td>75.250000</td>\n",
       "      <td>4.000000</td>\n",
       "      <td>94.000000</td>\n",
       "      <td>4.290000</td>\n",
       "      <td>32.02500</td>\n",
       "      <td>0.875000</td>\n",
       "      <td>1.314802e+06</td>\n",
       "      <td>1.260494e+06</td>\n",
       "      <td>-86.750000</td>\n",
       "      <td>1.250000</td>\n",
       "      <td>...</td>\n",
       "      <td>0.0</td>\n",
       "      <td>0.0</td>\n",
       "      <td>1.000000</td>\n",
       "      <td>0.0</td>\n",
       "      <td>1.000000</td>\n",
       "      <td>0.0</td>\n",
       "      <td>4611.000000</td>\n",
       "      <td>12853.000000</td>\n",
       "      <td>637.000000</td>\n",
       "      <td>3390.000000</td>\n",
       "    </tr>\n",
       "    <tr>\n",
       "      <th>max</th>\n",
       "      <td>100.000000</td>\n",
       "      <td>4.000000</td>\n",
       "      <td>100.000000</td>\n",
       "      <td>4.320000</td>\n",
       "      <td>37.20000</td>\n",
       "      <td>2.210000</td>\n",
       "      <td>1.317836e+06</td>\n",
       "      <td>1.263017e+06</td>\n",
       "      <td>-54.000000</td>\n",
       "      <td>72.000000</td>\n",
       "      <td>...</td>\n",
       "      <td>0.0</td>\n",
       "      <td>0.0</td>\n",
       "      <td>1.000000</td>\n",
       "      <td>0.0</td>\n",
       "      <td>1.000000</td>\n",
       "      <td>0.0</td>\n",
       "      <td>4611.000000</td>\n",
       "      <td>12853.000000</td>\n",
       "      <td>637.000000</td>\n",
       "      <td>3390.000000</td>\n",
       "    </tr>\n",
       "  </tbody>\n",
       "</table>\n",
       "<p>8 rows × 22 columns</p>\n",
       "</div>"
      ],
      "text/plain": [
       "               id   device_id  battery_level     voltage  temperature  \\\n",
       "count  100.000000  100.000000     100.000000  100.000000    100.00000   \n",
       "mean    50.500000    1.870000      71.380000    4.119500     28.77100   \n",
       "std     29.011492    1.368144      31.909208    0.181578      4.09235   \n",
       "min      1.000000    1.000000       5.000000    3.790000     21.40000   \n",
       "25%     25.750000    1.000000      40.750000    3.930000     27.30000   \n",
       "50%     50.500000    1.000000      88.000000    4.175000     27.70000   \n",
       "75%     75.250000    4.000000      94.000000    4.290000     32.02500   \n",
       "max    100.000000    4.000000     100.000000    4.320000     37.20000   \n",
       "\n",
       "            usage       up_time    sleep_time  wifi_signal_strength  \\\n",
       "count  100.000000  1.000000e+02  1.000000e+02            100.000000   \n",
       "mean     0.320900  6.850256e+05  4.672100e+05           -107.430000   \n",
       "std      2.246707  4.056857e+05  5.102206e+05             27.901434   \n",
       "min    -21.430000  4.086870e+05  1.413690e+05           -127.000000   \n",
       "25%      0.030000  4.130460e+05  1.415370e+05           -127.000000   \n",
       "50%      0.695000  4.254800e+05  1.436480e+05           -127.000000   \n",
       "75%      0.875000  1.314802e+06  1.260494e+06            -86.750000   \n",
       "max      2.210000  1.317836e+06  1.263017e+06            -54.000000   \n",
       "\n",
       "       wifi_link_speed  ...  roaming_enabled  bluetooth_enabled  \\\n",
       "count       100.000000  ...            100.0              100.0   \n",
       "mean         14.610000  ...              0.0                0.0   \n",
       "std          28.977837  ...              0.0                0.0   \n",
       "min          -1.000000  ...              0.0                0.0   \n",
       "25%          -1.000000  ...              0.0                0.0   \n",
       "50%          -1.000000  ...              0.0                0.0   \n",
       "75%           1.250000  ...              0.0                0.0   \n",
       "max          72.000000  ...              0.0                0.0   \n",
       "\n",
       "       location_enabled  power_saver_enabled  nfc_enabled  developer_mode  \\\n",
       "count        100.000000                100.0   100.000000           100.0   \n",
       "mean           0.710000                  0.0     0.290000             0.0   \n",
       "std            0.456048                  0.0     0.456048             0.0   \n",
       "min            0.000000                  0.0     0.000000             0.0   \n",
       "25%            0.000000                  0.0     0.000000             0.0   \n",
       "50%            1.000000                  0.0     0.000000             0.0   \n",
       "75%            1.000000                  0.0     1.000000             0.0   \n",
       "max            1.000000                  0.0     1.000000             0.0   \n",
       "\n",
       "              free         total  free_system  total_system  \n",
       "count   100.000000    100.000000   100.000000    100.000000  \n",
       "mean   4098.300000  10567.510000   460.100000   2699.510000  \n",
       "std     332.706001   1468.018581   278.189293   1085.850339  \n",
       "min    3789.000000   9634.000000    27.000000   1009.000000  \n",
       "25%    3919.000000   9634.000000    27.000000   1009.000000  \n",
       "50%    3921.000000   9634.000000   637.000000   3390.000000  \n",
       "75%    4611.000000  12853.000000   637.000000   3390.000000  \n",
       "max    4611.000000  12853.000000   637.000000   3390.000000  \n",
       "\n",
       "[8 rows x 22 columns]"
      ]
     },
     "execution_count": 8,
     "metadata": {},
     "output_type": "execute_result"
    }
   ],
   "source": [
    "df.describe(include=[np.number])"
   ]
  },
  {
   "cell_type": "code",
   "execution_count": 9,
   "metadata": {
    "ExecuteTime": {
     "end_time": "2020-08-06T21:21:05.029462Z",
     "start_time": "2020-08-06T21:21:04.976669Z"
    }
   },
   "outputs": [
    {
     "data": {
      "text/html": [
       "<div>\n",
       "<style scoped>\n",
       "    .dataframe tbody tr th:only-of-type {\n",
       "        vertical-align: middle;\n",
       "    }\n",
       "\n",
       "    .dataframe tbody tr th {\n",
       "        vertical-align: top;\n",
       "    }\n",
       "\n",
       "    .dataframe thead th {\n",
       "        text-align: right;\n",
       "    }\n",
       "</style>\n",
       "<table border=\"1\" class=\"dataframe\">\n",
       "  <thead>\n",
       "    <tr style=\"text-align: right;\">\n",
       "      <th></th>\n",
       "      <th>timestamp</th>\n",
       "      <th>battery_state</th>\n",
       "      <th>timezone</th>\n",
       "      <th>country_code</th>\n",
       "      <th>charger</th>\n",
       "      <th>health</th>\n",
       "      <th>network_status</th>\n",
       "      <th>mobile_data_status</th>\n",
       "      <th>mobile_data_activity</th>\n",
       "      <th>wifi_status</th>\n",
       "    </tr>\n",
       "  </thead>\n",
       "  <tbody>\n",
       "    <tr>\n",
       "      <th>count</th>\n",
       "      <td>100</td>\n",
       "      <td>100</td>\n",
       "      <td>100</td>\n",
       "      <td>100</td>\n",
       "      <td>100</td>\n",
       "      <td>100</td>\n",
       "      <td>100</td>\n",
       "      <td>100</td>\n",
       "      <td>100</td>\n",
       "      <td>100</td>\n",
       "    </tr>\n",
       "    <tr>\n",
       "      <th>unique</th>\n",
       "      <td>98</td>\n",
       "      <td>3</td>\n",
       "      <td>2</td>\n",
       "      <td>2</td>\n",
       "      <td>2</td>\n",
       "      <td>1</td>\n",
       "      <td>3</td>\n",
       "      <td>2</td>\n",
       "      <td>3</td>\n",
       "      <td>1</td>\n",
       "    </tr>\n",
       "    <tr>\n",
       "      <th>top</th>\n",
       "      <td>2017-10-08 12:50:04</td>\n",
       "      <td>Charging</td>\n",
       "      <td>America/Chicago</td>\n",
       "      <td>us</td>\n",
       "      <td>ac</td>\n",
       "      <td>Good</td>\n",
       "      <td>lte</td>\n",
       "      <td>disconnected</td>\n",
       "      <td>none</td>\n",
       "      <td>enabled</td>\n",
       "    </tr>\n",
       "    <tr>\n",
       "      <th>freq</th>\n",
       "      <td>2</td>\n",
       "      <td>74</td>\n",
       "      <td>71</td>\n",
       "      <td>71</td>\n",
       "      <td>76</td>\n",
       "      <td>100</td>\n",
       "      <td>36</td>\n",
       "      <td>64</td>\n",
       "      <td>57</td>\n",
       "      <td>100</td>\n",
       "    </tr>\n",
       "    <tr>\n",
       "      <th>first</th>\n",
       "      <td>2017-10-08 12:50:04</td>\n",
       "      <td>NaN</td>\n",
       "      <td>NaN</td>\n",
       "      <td>NaN</td>\n",
       "      <td>NaN</td>\n",
       "      <td>NaN</td>\n",
       "      <td>NaN</td>\n",
       "      <td>NaN</td>\n",
       "      <td>NaN</td>\n",
       "      <td>NaN</td>\n",
       "    </tr>\n",
       "    <tr>\n",
       "      <th>last</th>\n",
       "      <td>2017-10-09 03:51:20</td>\n",
       "      <td>NaN</td>\n",
       "      <td>NaN</td>\n",
       "      <td>NaN</td>\n",
       "      <td>NaN</td>\n",
       "      <td>NaN</td>\n",
       "      <td>NaN</td>\n",
       "      <td>NaN</td>\n",
       "      <td>NaN</td>\n",
       "      <td>NaN</td>\n",
       "    </tr>\n",
       "  </tbody>\n",
       "</table>\n",
       "</div>"
      ],
      "text/plain": [
       "                  timestamp battery_state         timezone country_code  \\\n",
       "count                   100           100              100          100   \n",
       "unique                   98             3                2            2   \n",
       "top     2017-10-08 12:50:04      Charging  America/Chicago           us   \n",
       "freq                      2            74               71           71   \n",
       "first   2017-10-08 12:50:04           NaN              NaN          NaN   \n",
       "last    2017-10-09 03:51:20           NaN              NaN          NaN   \n",
       "\n",
       "       charger health network_status mobile_data_status mobile_data_activity  \\\n",
       "count      100    100            100                100                  100   \n",
       "unique       2      1              3                  2                    3   \n",
       "top         ac   Good            lte       disconnected                 none   \n",
       "freq        76    100             36                 64                   57   \n",
       "first      NaN    NaN            NaN                NaN                  NaN   \n",
       "last       NaN    NaN            NaN                NaN                  NaN   \n",
       "\n",
       "       wifi_status  \n",
       "count          100  \n",
       "unique           1  \n",
       "top        enabled  \n",
       "freq           100  \n",
       "first          NaN  \n",
       "last           NaN  "
      ]
     },
     "execution_count": 9,
     "metadata": {},
     "output_type": "execute_result"
    }
   ],
   "source": [
    "df.describe(exclude=[np.number])"
   ]
  },
  {
   "cell_type": "markdown",
   "metadata": {},
   "source": [
    "## Basic data pre-processing"
   ]
  },
  {
   "cell_type": "code",
   "execution_count": 10,
   "metadata": {
    "ExecuteTime": {
     "end_time": "2020-08-06T21:21:05.038473Z",
     "start_time": "2020-08-06T21:21:05.031678Z"
    }
   },
   "outputs": [],
   "source": [
    "def save_df_page(page, chunks, collection, exclude=['id']):\n",
    "    # concatenate data chunks -> careful benchmark this\n",
    "    df = pd.concat(chunks, axis=0, ignore_index=True)\n",
    "    \n",
    "    collection.update_one({}, {'$inc': {'nrows': df.shape[0]}})\n",
    "\n",
    "    # store page metadata in mongo\n",
    "    update_page_metadata(collection, df)\n",
    "\n",
    "    # save output to a parquet file with brotli compression\n",
    "    df.to_parquet(os.path.join(model_storage, '{}.{}.parquet'.format(\n",
    "        model, page)), compression='brotli', index=False)\n",
    "    \n",
    "    del df\n",
    "\n",
    "    return page + 1"
   ]
  },
  {
   "cell_type": "code",
   "execution_count": 11,
   "metadata": {
    "ExecuteTime": {
     "end_time": "2020-08-06T21:21:05.067738Z",
     "start_time": "2020-08-06T21:21:05.042040Z"
    }
   },
   "outputs": [
    {
     "data": {
      "text/plain": [
       "3500.0"
      ]
     },
     "execution_count": 11,
     "metadata": {},
     "output_type": "execute_result"
    }
   ],
   "source": [
    "# projected memory usage for all samples loaded\n",
    "round(memory_usage(df) * 5000000 / df.shape[0], 2)"
   ]
  },
  {
   "cell_type": "code",
   "execution_count": 12,
   "metadata": {
    "ExecuteTime": {
     "end_time": "2020-08-06T21:21:05.082381Z",
     "start_time": "2020-08-06T21:21:05.070905Z"
    }
   },
   "outputs": [
    {
     "data": {
      "text/plain": [
       "<pymongo.results.UpdateResult at 0x7f77a5f1ef40>"
      ]
     },
     "execution_count": 12,
     "metadata": {},
     "output_type": "execute_result"
    }
   ],
   "source": [
    "mappings = {'id': 'uint32', 'device_id': 'uint32', 'battery_level': 'uint8', 'usage': 'uint8',\n",
    "            'screen_on': 'bool', 'wifi_signal_strength': 'int16', 'wifi_link_speed': 'int16',\n",
    "            'screen_brightness': 'int16', 'roaming_enabled': 'bool', 'bluetooth_enabled': 'bool',\n",
    "            'location_enabled': 'bool', 'power_saver_enabled': 'bool', 'nfc_enabled': 'bool',\n",
    "            'developer_mode': 'bool', 'free': 'uint32', 'total': 'uint32', 'free_system': 'uint32',\n",
    "            'total_system': 'uint32'}\n",
    "\n",
    "model_metadata.update_one({}, {'$set': {'mappings': mappings}})"
   ]
  },
  {
   "cell_type": "code",
   "execution_count": 13,
   "metadata": {
    "ExecuteTime": {
     "end_time": "2020-08-06T21:21:05.091169Z",
     "start_time": "2020-08-06T21:21:05.084681Z"
    }
   },
   "outputs": [],
   "source": [
    "total_rows = 0\n",
    "total_memory_usage = 0.0\n",
    "memory_usage_split = 0.0\n",
    "last_id = 0\n",
    "\n",
    "page = 0\n",
    "chunks = []\n",
    "\n",
    "features = df.columns.to_list()\n",
    "features = list(filter(lambda x: x not in ['country_code'], features))"
   ]
  },
  {
   "cell_type": "code",
   "execution_count": 14,
   "metadata": {
    "ExecuteTime": {
     "end_time": "2020-08-06T21:21:05.100805Z",
     "start_time": "2020-08-06T21:21:05.093402Z"
    }
   },
   "outputs": [
    {
     "name": "stdout",
     "output_type": "stream",
     "text": [
      "Total csv files: 165\n"
     ]
    }
   ],
   "source": [
    "print('Total csv files: {}'.format(len(csv_files)))"
   ]
  },
  {
   "cell_type": "code",
   "execution_count": null,
   "metadata": {
    "ExecuteTime": {
     "start_time": "2020-08-06T21:21:04.154Z"
    }
   },
   "outputs": [
    {
     "name": "stdout",
     "output_type": "stream",
     "text": [
      "../../data/raw/samples/samples.query.1.csv ✔\n",
      "../../data/raw/samples/samples.query.2.csv ✔\n",
      "../../data/raw/samples/samples.query.3.csv ✔\n",
      "../../data/raw/samples/samples.query.4.csv ✔\n",
      "../../data/raw/samples/samples.query.5.csv ✔\n",
      "../../data/raw/samples/samples.query.6.csv ✔\n",
      "../../data/raw/samples/samples.query.7.csv ✔\n",
      "../../data/raw/samples/samples.query.8.csv ✔\n",
      "../../data/raw/samples/samples.query.9.csv ✔\n",
      "../../data/raw/samples/samples.query.10.csv ✔\n",
      "../../data/raw/samples/samples.query.11.csv ✔\n",
      "../../data/raw/samples/samples.query.12.csv ✔\n",
      "../../data/raw/samples/samples.query.13.csv ✔\n",
      "../../data/raw/samples/samples.query.14.csv ✔\n",
      "../../data/raw/samples/samples.query.15.csv ✔\n",
      "../../data/raw/samples/samples.query.16.csv ✔\n",
      "../../data/raw/samples/samples.query.17.csv ✔\n"
     ]
    }
   ],
   "source": [
    "for filepath in csv_files:\n",
    "    df = pd.read_csv(filepath, sep=';', usecols=features,\n",
    "                     parse_dates=['timestamp'])\n",
    "\n",
    "    # drop missing values\n",
    "    df = df.dropna()\n",
    "\n",
    "    # process features which can drop values first\n",
    "    df = df[df['timestamp'].between(pd.Timestamp(\n",
    "        2017, 9, 1), pd.Timestamp(2020, 8, 1))]\n",
    "\n",
    "    # battery level\n",
    "    df = df[df['battery_level'] <= 100]\n",
    "\n",
    "    # temperature\n",
    "    lower, upper = df['temperature'].quantile([0.01, 0.99])\n",
    "    df = df[df['temperature'].between(lower, upper)]\n",
    "\n",
    "    # voltage\n",
    "    df.loc[df['voltage'] > 1000, 'voltage'] = df['voltage'] / 1000\n",
    "\n",
    "    # cpu usage\n",
    "    df.loc[:, 'usage'] = abs(df['usage']) * 100\n",
    "    df.loc[df['usage'] > 100, 'usage'] = df['usage'] / 100\n",
    "    df = df.drop(df[df['usage'] > 100].index, axis=0)\n",
    "\n",
    "    string_columns = df.select_dtypes(include='object').columns.to_list()\n",
    "\n",
    "    # basic string pre-processing: convert to lowercase and strip blank chars\n",
    "    for column in string_columns:\n",
    "        df.loc[:, column] = [x.lower().strip() for x in df[column].tolist()]\n",
    "\n",
    "    df[string_columns] = df[string_columns].astype('category')\n",
    "    df = df.astype(mappings)\n",
    "\n",
    "    total_rows += df.shape[0]\n",
    "    page_memory_usage = memory_usage(df)\n",
    "    total_memory_usage += page_memory_usage\n",
    "    memory_usage_split += page_memory_usage\n",
    "\n",
    "    last_id = max(last_id, df['id'].max())\n",
    "    \n",
    "    chunks.append(df)\n",
    "\n",
    "    if memory_usage_split >= config['MEMORY_USAGE_SPLIT']:\n",
    "        print('Page {} created!'.format(page))\n",
    "        page = save_df_page(page, chunks, model_metadata)\n",
    "\n",
    "        del chunks[:]\n",
    "        del chunks\n",
    "        gc.collect()\n",
    "        \n",
    "        chunks = []\n",
    "        memory_usage_split = 0.0\n",
    "\n",
    "    print('{} ✔'.format(filepath))"
   ]
  },
  {
   "cell_type": "code",
   "execution_count": null,
   "metadata": {
    "ExecuteTime": {
     "start_time": "2020-08-06T21:21:04.158Z"
    }
   },
   "outputs": [],
   "source": [
    "if chunks:\n",
    "    save_df_page(page, chunks, model_metadata)\n",
    "    del chunks[:]\n",
    "    del chunks\n",
    "    gc.collect()"
   ]
  },
  {
   "cell_type": "code",
   "execution_count": null,
   "metadata": {
    "ExecuteTime": {
     "start_time": "2020-08-06T21:21:04.162Z"
    }
   },
   "outputs": [],
   "source": [
    "model_metadata.update_one({}, {'$set': {'last_id': int(last_id)}})\n",
    "model_metadata.update_one({}, {'$set': {'total': total_rows}})"
   ]
  },
  {
   "cell_type": "code",
   "execution_count": null,
   "metadata": {
    "ExecuteTime": {
     "start_time": "2020-08-06T21:21:04.166Z"
    }
   },
   "outputs": [],
   "source": [
    "total_rows, total_memory_usage, last_id"
   ]
  },
  {
   "cell_type": "code",
   "execution_count": null,
   "metadata": {
    "ExecuteTime": {
     "start_time": "2020-08-06T21:21:04.172Z"
    }
   },
   "outputs": [],
   "source": [
    "content = '**{}** | task: data pre-processing, rows: {}, memory usage: {} MB' \\\n",
    ".format(model, total_rows, total_memory_usage)\n",
    "\n",
    "requests.post(config['discord_webhook_url'], data={'content': content})"
   ]
  }
 ],
 "metadata": {
  "kernelspec": {
   "display_name": "Python 3",
   "language": "python",
   "name": "python3"
  },
  "language_info": {
   "codemirror_mode": {
    "name": "ipython",
    "version": 3
   },
   "file_extension": ".py",
   "mimetype": "text/x-python",
   "name": "python",
   "nbconvert_exporter": "python",
   "pygments_lexer": "ipython3",
   "version": "3.8.4"
  },
  "toc": {
   "base_numbering": 1,
   "nav_menu": {},
   "number_sections": true,
   "sideBar": true,
   "skip_h1_title": false,
   "title_cell": "Table of Contents",
   "title_sidebar": "Contents",
   "toc_cell": false,
   "toc_position": {},
   "toc_section_display": true,
   "toc_window_display": false
  }
 },
 "nbformat": 4,
 "nbformat_minor": 4
}
