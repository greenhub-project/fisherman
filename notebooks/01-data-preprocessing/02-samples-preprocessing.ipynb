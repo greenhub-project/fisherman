{
 "cells": [
  {
   "cell_type": "markdown",
   "metadata": {},
   "source": [
    "# 1. Samples pre-processing\n",
    "\n",
    "This task will fetch the raw data from the remote database given a SQL query file."
   ]
  },
  {
   "cell_type": "code",
   "execution_count": 1,
   "metadata": {},
   "outputs": [],
   "source": [
    "import sys\n",
    "sys.path.append('..')"
   ]
  },
  {
   "cell_type": "markdown",
   "metadata": {},
   "source": [
    "## 1.1 Import libraries"
   ]
  },
  {
   "cell_type": "code",
   "execution_count": 2,
   "metadata": {},
   "outputs": [
    {
     "data": {
      "text/plain": [
       "True"
      ]
     },
     "execution_count": 2,
     "metadata": {},
     "output_type": "execute_result"
    }
   ],
   "source": [
    "from dotenv import load_dotenv\n",
    "load_dotenv()"
   ]
  },
  {
   "cell_type": "code",
   "execution_count": 3,
   "metadata": {},
   "outputs": [],
   "source": [
    "import os\n",
    "import numpy as np\n",
    "import pandas as pd"
   ]
  },
  {
   "cell_type": "code",
   "execution_count": 4,
   "metadata": {},
   "outputs": [],
   "source": [
    "DATA_DIR = '../../data'\n",
    "STORAGE_DIR = os.path.join(DATA_DIR, 'storage')\n",
    "\n",
    "if not os.path.exists(STORAGE_DIR):\n",
    "    os.makedirs(STORAGE_DIR)"
   ]
  },
  {
   "cell_type": "markdown",
   "metadata": {},
   "source": [
    "## 1.3 Fetch the remote data"
   ]
  },
  {
   "cell_type": "code",
   "execution_count": 5,
   "metadata": {},
   "outputs": [],
   "source": [
    "df = pd.read_csv(os.path.join(DATA_DIR, 'samples.query.10.csv'), sep=';', parse_dates=['timestamp'])"
   ]
  },
  {
   "cell_type": "code",
   "execution_count": 6,
   "metadata": {},
   "outputs": [
    {
     "name": "stdout",
     "output_type": "stream",
     "text": [
      "<class 'pandas.core.frame.DataFrame'>\n",
      "RangeIndex: 298392 entries, 0 to 298391\n",
      "Data columns (total 32 columns):\n",
      " #   Column                Non-Null Count   Dtype         \n",
      "---  ------                --------------   -----         \n",
      " 0   id                    298392 non-null  int64         \n",
      " 1   device_id             298392 non-null  int64         \n",
      " 2   timestamp             298392 non-null  datetime64[ns]\n",
      " 3   battery_state         298392 non-null  object        \n",
      " 4   battery_level         298392 non-null  float64       \n",
      " 5   timezone              298392 non-null  object        \n",
      " 6   country_code          298392 non-null  object        \n",
      " 7   charger               298392 non-null  object        \n",
      " 8   health                298392 non-null  object        \n",
      " 9   voltage               298392 non-null  float64       \n",
      " 10  temperature           298392 non-null  float64       \n",
      " 11  usage                 298392 non-null  float64       \n",
      " 12  up_time               298392 non-null  int64         \n",
      " 13  sleep_time            298392 non-null  int64         \n",
      " 14  network_status        298392 non-null  object        \n",
      " 15  mobile_data_status    298392 non-null  object        \n",
      " 16  mobile_data_activity  298392 non-null  object        \n",
      " 17  wifi_status           298392 non-null  object        \n",
      " 18  wifi_signal_strength  298392 non-null  int64         \n",
      " 19  wifi_link_speed       298392 non-null  int64         \n",
      " 20  screen_on             298392 non-null  int64         \n",
      " 21  screen_brightness     298392 non-null  int64         \n",
      " 22  roaming_enabled       298392 non-null  int64         \n",
      " 23  bluetooth_enabled     298392 non-null  int64         \n",
      " 24  location_enabled      298392 non-null  int64         \n",
      " 25  power_saver_enabled   298392 non-null  int64         \n",
      " 26  nfc_enabled           298392 non-null  int64         \n",
      " 27  developer_mode        298392 non-null  int64         \n",
      " 28  free                  298392 non-null  int64         \n",
      " 29  total                 298392 non-null  int64         \n",
      " 30  free_system           298392 non-null  int64         \n",
      " 31  total_system          298392 non-null  int64         \n",
      "dtypes: datetime64[ns](1), float64(4), int64(18), object(9)\n",
      "memory usage: 72.8+ MB\n"
     ]
    }
   ],
   "source": [
    "df.info()"
   ]
  },
  {
   "cell_type": "markdown",
   "metadata": {},
   "source": [
    "## 1.4 Basic data pre-processing\n",
    "Benchmarking string operations"
   ]
  },
  {
   "cell_type": "code",
   "execution_count": 7,
   "metadata": {},
   "outputs": [],
   "source": [
    "string_columns = df.select_dtypes(include='object').columns.to_list()"
   ]
  },
  {
   "cell_type": "code",
   "execution_count": 8,
   "metadata": {},
   "outputs": [],
   "source": [
    "for column in string_columns:\n",
    "    df[column] = [x.lower().strip() for x in df[column].tolist()]"
   ]
  },
  {
   "cell_type": "markdown",
   "metadata": {},
   "source": [
    "## 1.5 Save output\n",
    "Storage data in parquet format with brotli compression."
   ]
  },
  {
   "cell_type": "code",
   "execution_count": 9,
   "metadata": {},
   "outputs": [],
   "source": [
    "# df.to_parquet(os.path.join(STORAGE_DIR, '{}.parquet'.format(model)), compression='brotli')"
   ]
  }
 ],
 "metadata": {
  "kernelspec": {
   "display_name": "Python 3",
   "language": "python",
   "name": "python3"
  },
  "language_info": {
   "codemirror_mode": {
    "name": "ipython",
    "version": 3
   },
   "file_extension": ".py",
   "mimetype": "text/x-python",
   "name": "python",
   "nbconvert_exporter": "python",
   "pygments_lexer": "ipython3",
   "version": "3.8.4"
  }
 },
 "nbformat": 4,
 "nbformat_minor": 4
}
