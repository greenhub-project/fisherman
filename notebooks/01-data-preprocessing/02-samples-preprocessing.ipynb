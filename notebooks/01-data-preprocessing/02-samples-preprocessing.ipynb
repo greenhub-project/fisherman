{
 "cells": [
  {
   "cell_type": "markdown",
   "metadata": {},
   "source": [
    "# 1. Samples pre-processing\n",
    "\n",
    "This task will fetch the raw data from the remote database given a SQL query file."
   ]
  },
  {
   "cell_type": "markdown",
   "metadata": {},
   "source": [
    "## 1.1 Import libraries"
   ]
  },
  {
   "cell_type": "code",
   "execution_count": 1,
   "metadata": {},
   "outputs": [],
   "source": [
    "import os\n",
    "import sys\n",
    "import numpy as np\n",
    "import pandas as pd\n",
    "\n",
    "sys.path.append('..')\n",
    "\n",
    "from utils import get_csv_files, memory_usage"
   ]
  },
  {
   "cell_type": "markdown",
   "metadata": {},
   "source": [
    "## 1.2 Load the data"
   ]
  },
  {
   "cell_type": "code",
   "execution_count": 2,
   "metadata": {},
   "outputs": [],
   "source": [
    "DATA_DIR = '../../data'\n",
    "STORAGE_DIR = '../../storage'\n",
    "\n",
    "model = 'samples'\n",
    "model_storage = os.path.join(STORAGE_DIR, model)\n",
    "\n",
    "if not os.path.exists(model_storage):\n",
    "    os.makedirs(model_storage)"
   ]
  },
  {
   "cell_type": "code",
   "execution_count": 3,
   "metadata": {},
   "outputs": [],
   "source": [
    "csv_files = get_csv_files(os.path.join(DATA_DIR, 'raw', model, '*.csv'))"
   ]
  },
  {
   "cell_type": "code",
   "execution_count": 4,
   "metadata": {},
   "outputs": [],
   "source": [
    "if not csv_files:\n",
    "    raise FileNotFoundError('Couldn\\'t find any csv files! Please make sure the filepath exists')"
   ]
  },
  {
   "cell_type": "code",
   "execution_count": 5,
   "metadata": {},
   "outputs": [
    {
     "name": "stdout",
     "output_type": "stream",
     "text": [
      "<class 'pandas.core.frame.DataFrame'>\n",
      "RangeIndex: 100 entries, 0 to 99\n",
      "Data columns (total 32 columns):\n",
      " #   Column                Non-Null Count  Dtype  \n",
      "---  ------                --------------  -----  \n",
      " 0   id                    100 non-null    int64  \n",
      " 1   device_id             100 non-null    int64  \n",
      " 2   timestamp             100 non-null    object \n",
      " 3   battery_state         100 non-null    object \n",
      " 4   battery_level         100 non-null    float64\n",
      " 5   timezone              100 non-null    object \n",
      " 6   country_code          100 non-null    object \n",
      " 7   charger               100 non-null    object \n",
      " 8   health                100 non-null    object \n",
      " 9   voltage               100 non-null    float64\n",
      " 10  temperature           100 non-null    float64\n",
      " 11  usage                 100 non-null    float64\n",
      " 12  up_time               100 non-null    int64  \n",
      " 13  sleep_time            100 non-null    int64  \n",
      " 14  network_status        100 non-null    object \n",
      " 15  mobile_data_status    100 non-null    object \n",
      " 16  mobile_data_activity  100 non-null    object \n",
      " 17  wifi_status           100 non-null    object \n",
      " 18  wifi_signal_strength  100 non-null    int64  \n",
      " 19  wifi_link_speed       100 non-null    int64  \n",
      " 20  screen_on             100 non-null    int64  \n",
      " 21  screen_brightness     100 non-null    int64  \n",
      " 22  roaming_enabled       100 non-null    int64  \n",
      " 23  bluetooth_enabled     100 non-null    int64  \n",
      " 24  location_enabled      100 non-null    int64  \n",
      " 25  power_saver_enabled   100 non-null    int64  \n",
      " 26  nfc_enabled           100 non-null    int64  \n",
      " 27  developer_mode        100 non-null    int64  \n",
      " 28  free                  100 non-null    int64  \n",
      " 29  total                 100 non-null    int64  \n",
      " 30  free_system           100 non-null    int64  \n",
      " 31  total_system          100 non-null    int64  \n",
      "dtypes: float64(4), int64(18), object(10)\n",
      "memory usage: 25.1+ KB\n"
     ]
    }
   ],
   "source": [
    "df = pd.read_csv(csv_files[0], sep=';', nrows=100)\n",
    "\n",
    "# sample rows to list columns and dtypes\n",
    "df.info()"
   ]
  },
  {
   "cell_type": "markdown",
   "metadata": {},
   "source": [
    "## 1.3 Basic data pre-processing"
   ]
  },
  {
   "cell_type": "code",
   "execution_count": 7,
   "metadata": {},
   "outputs": [
    {
     "data": {
      "text/plain": [
       "4000.0"
      ]
     },
     "execution_count": 7,
     "metadata": {},
     "output_type": "execute_result"
    }
   ],
   "source": [
    "memory_usage(df) * 5000000 / 100"
   ]
  },
  {
   "cell_type": "code",
   "execution_count": null,
   "metadata": {},
   "outputs": [],
   "source": []
  }
 ],
 "metadata": {
  "kernelspec": {
   "display_name": "Python 3",
   "language": "python",
   "name": "python3"
  },
  "language_info": {
   "codemirror_mode": {
    "name": "ipython",
    "version": 3
   },
   "file_extension": ".py",
   "mimetype": "text/x-python",
   "name": "python",
   "nbconvert_exporter": "python",
   "pygments_lexer": "ipython3",
   "version": "3.8.4"
  }
 },
 "nbformat": 4,
 "nbformat_minor": 4
}
