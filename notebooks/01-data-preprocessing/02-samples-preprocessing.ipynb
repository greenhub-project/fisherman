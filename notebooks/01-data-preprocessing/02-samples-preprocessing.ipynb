{
 "cells": [
  {
   "cell_type": "markdown",
   "metadata": {},
   "source": [
    "# 1. Samples pre-processing\n",
    "\n",
    "This task will fetch the raw data from the remote database given a SQL query file."
   ]
  },
  {
   "cell_type": "markdown",
   "metadata": {},
   "source": [
    "## 1.1 Import libraries"
   ]
  },
  {
   "cell_type": "code",
   "execution_count": 1,
   "metadata": {
    "ExecuteTime": {
     "end_time": "2020-08-01T23:20:14.115581Z",
     "start_time": "2020-08-01T23:20:14.112234Z"
    }
   },
   "outputs": [],
   "source": [
    "import sys\n",
    "\n",
    "sys.path.append('..')"
   ]
  },
  {
   "cell_type": "code",
   "execution_count": 2,
   "metadata": {
    "ExecuteTime": {
     "end_time": "2020-08-01T23:20:15.506363Z",
     "start_time": "2020-08-01T23:20:14.117885Z"
    }
   },
   "outputs": [],
   "source": [
    "import os\n",
    "import yaml\n",
    "import numpy as np\n",
    "import pandas as pd\n",
    "import matplotlib.pyplot as plt\n",
    "import seaborn as sns\n",
    "\n",
    "from pymongo import MongoClient\n",
    "\n",
    "from utils import get_csv_files, memory_usage, \\\n",
    "correct_encoding, update_metadata"
   ]
  },
  {
   "cell_type": "code",
   "execution_count": 3,
   "metadata": {
    "ExecuteTime": {
     "end_time": "2020-08-01T23:20:15.514558Z",
     "start_time": "2020-08-01T23:20:15.509197Z"
    }
   },
   "outputs": [],
   "source": [
    "def save_df_page(page, chunks, collection, exclude=['id']):\n",
    "    # concatenate data chunks -> careful benchmark this\n",
    "    df = pd.concat(chunks, axis=0)\n",
    "    \n",
    "    # store page metadata in mongo\n",
    "    update_metadata(collection, df)\n",
    "    \n",
    "    # save output to a parquet file with brotli compression\n",
    "    df.to_parquet(os.path.join(model_storage, '{}.{}.parquet'.format(model, page)), compression='brotli')\n",
    "    \n",
    "    return page + 1"
   ]
  },
  {
   "cell_type": "markdown",
   "metadata": {},
   "source": [
    "## 1.2 Load the data"
   ]
  },
  {
   "cell_type": "code",
   "execution_count": 4,
   "metadata": {
    "ExecuteTime": {
     "end_time": "2020-08-01T23:20:15.577267Z",
     "start_time": "2020-08-01T23:20:15.516914Z"
    }
   },
   "outputs": [
    {
     "data": {
      "text/plain": [
       "<pymongo.results.InsertOneResult at 0x7f13c0dc33c0>"
      ]
     },
     "execution_count": 4,
     "metadata": {},
     "output_type": "execute_result"
    }
   ],
   "source": [
    "DATA_DIR = '../../data'\n",
    "STORAGE_DIR = '../../storage'\n",
    "\n",
    "config = yaml.load(open('../config.yml'), Loader=yaml.FullLoader)\n",
    "\n",
    "model = 'samples'\n",
    "model_storage = os.path.join(STORAGE_DIR, model)\n",
    "\n",
    "if not os.path.exists(model_storage):\n",
    "    os.makedirs(model_storage)\n",
    "    \n",
    "client = MongoClient('mongodb://{}:{}@{}:{}'.format(config['MONGO_USERNAME'], config['MONGO_PASSWORD'],\n",
    "                                                    config['MONGO_HOST'], config['MONGO_PORT']))\n",
    "metadata_db = client[config['MONGO_DATABASE']]\n",
    "\n",
    "model_metadata = metadata_db[model]\n",
    "\n",
    "model_metadata.delete_many({})\n",
    "model_metadata.insert_one({'pages': []})"
   ]
  },
  {
   "cell_type": "code",
   "execution_count": 5,
   "metadata": {
    "ExecuteTime": {
     "end_time": "2020-08-01T23:20:15.588856Z",
     "start_time": "2020-08-01T23:20:15.579476Z"
    }
   },
   "outputs": [],
   "source": [
    "csv_files = get_csv_files(os.path.join(DATA_DIR, 'raw', model, '*.csv'))"
   ]
  },
  {
   "cell_type": "code",
   "execution_count": 6,
   "metadata": {
    "ExecuteTime": {
     "end_time": "2020-08-01T23:20:15.606294Z",
     "start_time": "2020-08-01T23:20:15.591936Z"
    }
   },
   "outputs": [],
   "source": [
    "if not csv_files:\n",
    "    raise FileNotFoundError('Couldn\\'t find any csv files! Please make sure the filepath exists')"
   ]
  },
  {
   "cell_type": "code",
   "execution_count": 7,
   "metadata": {
    "ExecuteTime": {
     "end_time": "2020-08-01T23:20:17.252590Z",
     "start_time": "2020-08-01T23:20:15.613154Z"
    }
   },
   "outputs": [
    {
     "name": "stdout",
     "output_type": "stream",
     "text": [
      "<class 'pandas.core.frame.DataFrame'>\n",
      "RangeIndex: 298809 entries, 0 to 298808\n",
      "Data columns (total 32 columns):\n",
      " #   Column                Non-Null Count   Dtype  \n",
      "---  ------                --------------   -----  \n",
      " 0   id                    298809 non-null  int64  \n",
      " 1   device_id             298809 non-null  int64  \n",
      " 2   timestamp             298809 non-null  object \n",
      " 3   battery_state         298809 non-null  object \n",
      " 4   battery_level         298809 non-null  float64\n",
      " 5   timezone              298809 non-null  object \n",
      " 6   country_code          298809 non-null  object \n",
      " 7   charger               298809 non-null  object \n",
      " 8   health                298809 non-null  object \n",
      " 9   voltage               298809 non-null  float64\n",
      " 10  temperature           298809 non-null  float64\n",
      " 11  usage                 298809 non-null  float64\n",
      " 12  up_time               298809 non-null  int64  \n",
      " 13  sleep_time            298809 non-null  int64  \n",
      " 14  network_status        298809 non-null  object \n",
      " 15  mobile_data_status    298809 non-null  object \n",
      " 16  mobile_data_activity  298809 non-null  object \n",
      " 17  wifi_status           298809 non-null  object \n",
      " 18  wifi_signal_strength  298809 non-null  int64  \n",
      " 19  wifi_link_speed       298809 non-null  int64  \n",
      " 20  screen_on             298809 non-null  int64  \n",
      " 21  screen_brightness     298809 non-null  int64  \n",
      " 22  roaming_enabled       298809 non-null  int64  \n",
      " 23  bluetooth_enabled     298809 non-null  int64  \n",
      " 24  location_enabled      298809 non-null  int64  \n",
      " 25  power_saver_enabled   298809 non-null  int64  \n",
      " 26  nfc_enabled           298809 non-null  int64  \n",
      " 27  developer_mode        298809 non-null  int64  \n",
      " 28  free                  298809 non-null  int64  \n",
      " 29  total                 298809 non-null  int64  \n",
      " 30  free_system           298809 non-null  int64  \n",
      " 31  total_system          298809 non-null  int64  \n",
      "dtypes: float64(4), int64(18), object(10)\n",
      "memory usage: 73.0+ MB\n"
     ]
    }
   ],
   "source": [
    "df = pd.read_csv(csv_files[0], sep=';')\n",
    "\n",
    "# sample rows to list columns and dtypes\n",
    "df.info()"
   ]
  },
  {
   "cell_type": "code",
   "execution_count": 8,
   "metadata": {
    "ExecuteTime": {
     "end_time": "2020-08-01T23:20:17.546104Z",
     "start_time": "2020-08-01T23:20:17.254471Z"
    }
   },
   "outputs": [
    {
     "data": {
      "text/html": [
       "<div>\n",
       "<style scoped>\n",
       "    .dataframe tbody tr th:only-of-type {\n",
       "        vertical-align: middle;\n",
       "    }\n",
       "\n",
       "    .dataframe tbody tr th {\n",
       "        vertical-align: top;\n",
       "    }\n",
       "\n",
       "    .dataframe thead th {\n",
       "        text-align: right;\n",
       "    }\n",
       "</style>\n",
       "<table border=\"1\" class=\"dataframe\">\n",
       "  <thead>\n",
       "    <tr style=\"text-align: right;\">\n",
       "      <th></th>\n",
       "      <th>id</th>\n",
       "      <th>device_id</th>\n",
       "      <th>battery_level</th>\n",
       "      <th>voltage</th>\n",
       "      <th>temperature</th>\n",
       "      <th>usage</th>\n",
       "      <th>up_time</th>\n",
       "      <th>sleep_time</th>\n",
       "      <th>wifi_signal_strength</th>\n",
       "      <th>wifi_link_speed</th>\n",
       "      <th>...</th>\n",
       "      <th>roaming_enabled</th>\n",
       "      <th>bluetooth_enabled</th>\n",
       "      <th>location_enabled</th>\n",
       "      <th>power_saver_enabled</th>\n",
       "      <th>nfc_enabled</th>\n",
       "      <th>developer_mode</th>\n",
       "      <th>free</th>\n",
       "      <th>total</th>\n",
       "      <th>free_system</th>\n",
       "      <th>total_system</th>\n",
       "    </tr>\n",
       "  </thead>\n",
       "  <tbody>\n",
       "    <tr>\n",
       "      <th>count</th>\n",
       "      <td>298809.000000</td>\n",
       "      <td>298809.000000</td>\n",
       "      <td>298809.000000</td>\n",
       "      <td>298809.000000</td>\n",
       "      <td>298809.000000</td>\n",
       "      <td>298809.000000</td>\n",
       "      <td>2.988090e+05</td>\n",
       "      <td>2.988090e+05</td>\n",
       "      <td>298809.000000</td>\n",
       "      <td>298809.000000</td>\n",
       "      <td>...</td>\n",
       "      <td>298809.000000</td>\n",
       "      <td>298809.000000</td>\n",
       "      <td>298809.000000</td>\n",
       "      <td>298809.000000</td>\n",
       "      <td>298809.000000</td>\n",
       "      <td>298809.000000</td>\n",
       "      <td>298809.000000</td>\n",
       "      <td>298809.000000</td>\n",
       "      <td>298809.000000</td>\n",
       "      <td>298809.000000</td>\n",
       "    </tr>\n",
       "    <tr>\n",
       "      <th>mean</th>\n",
       "      <td>150133.189358</td>\n",
       "      <td>982.856246</td>\n",
       "      <td>57.420627</td>\n",
       "      <td>10.067230</td>\n",
       "      <td>30.802061</td>\n",
       "      <td>0.480892</td>\n",
       "      <td>4.133925e+05</td>\n",
       "      <td>2.239833e+05</td>\n",
       "      <td>-103.654354</td>\n",
       "      <td>49.664783</td>\n",
       "      <td>...</td>\n",
       "      <td>0.025073</td>\n",
       "      <td>0.190961</td>\n",
       "      <td>0.487392</td>\n",
       "      <td>0.064081</td>\n",
       "      <td>0.155973</td>\n",
       "      <td>0.096567</td>\n",
       "      <td>9739.732598</td>\n",
       "      <td>22384.894243</td>\n",
       "      <td>295.728971</td>\n",
       "      <td>2696.538625</td>\n",
       "    </tr>\n",
       "    <tr>\n",
       "      <th>std</th>\n",
       "      <td>86627.615952</td>\n",
       "      <td>587.635906</td>\n",
       "      <td>25.781482</td>\n",
       "      <td>157.580041</td>\n",
       "      <td>5.004957</td>\n",
       "      <td>0.839212</td>\n",
       "      <td>6.871774e+05</td>\n",
       "      <td>4.196295e+05</td>\n",
       "      <td>375.505466</td>\n",
       "      <td>89.545422</td>\n",
       "      <td>...</td>\n",
       "      <td>0.156347</td>\n",
       "      <td>0.393059</td>\n",
       "      <td>0.499842</td>\n",
       "      <td>0.244898</td>\n",
       "      <td>0.362830</td>\n",
       "      <td>0.295367</td>\n",
       "      <td>13858.079778</td>\n",
       "      <td>18468.515310</td>\n",
       "      <td>308.322161</td>\n",
       "      <td>1057.496174</td>\n",
       "    </tr>\n",
       "    <tr>\n",
       "      <th>min</th>\n",
       "      <td>1.000000</td>\n",
       "      <td>1.000000</td>\n",
       "      <td>1.000000</td>\n",
       "      <td>0.000000</td>\n",
       "      <td>-5.800000</td>\n",
       "      <td>-107.000000</td>\n",
       "      <td>2.500000e+01</td>\n",
       "      <td>0.000000e+00</td>\n",
       "      <td>-9999.000000</td>\n",
       "      <td>-1.000000</td>\n",
       "      <td>...</td>\n",
       "      <td>0.000000</td>\n",
       "      <td>0.000000</td>\n",
       "      <td>0.000000</td>\n",
       "      <td>0.000000</td>\n",
       "      <td>0.000000</td>\n",
       "      <td>0.000000</td>\n",
       "      <td>51.000000</td>\n",
       "      <td>372.000000</td>\n",
       "      <td>0.000000</td>\n",
       "      <td>218.000000</td>\n",
       "    </tr>\n",
       "    <tr>\n",
       "      <th>25%</th>\n",
       "      <td>75153.000000</td>\n",
       "      <td>466.000000</td>\n",
       "      <td>37.000000</td>\n",
       "      <td>3.840000</td>\n",
       "      <td>27.900000</td>\n",
       "      <td>0.260000</td>\n",
       "      <td>5.731700e+04</td>\n",
       "      <td>2.210400e+04</td>\n",
       "      <td>-127.000000</td>\n",
       "      <td>-1.000000</td>\n",
       "      <td>...</td>\n",
       "      <td>0.000000</td>\n",
       "      <td>0.000000</td>\n",
       "      <td>0.000000</td>\n",
       "      <td>0.000000</td>\n",
       "      <td>0.000000</td>\n",
       "      <td>0.000000</td>\n",
       "      <td>1410.000000</td>\n",
       "      <td>10766.000000</td>\n",
       "      <td>95.000000</td>\n",
       "      <td>1891.000000</td>\n",
       "    </tr>\n",
       "    <tr>\n",
       "      <th>50%</th>\n",
       "      <td>150212.000000</td>\n",
       "      <td>970.000000</td>\n",
       "      <td>59.000000</td>\n",
       "      <td>4.020000</td>\n",
       "      <td>31.000000</td>\n",
       "      <td>0.450000</td>\n",
       "      <td>1.877630e+05</td>\n",
       "      <td>7.996200e+04</td>\n",
       "      <td>-74.000000</td>\n",
       "      <td>39.000000</td>\n",
       "      <td>...</td>\n",
       "      <td>0.000000</td>\n",
       "      <td>0.000000</td>\n",
       "      <td>0.000000</td>\n",
       "      <td>0.000000</td>\n",
       "      <td>0.000000</td>\n",
       "      <td>0.000000</td>\n",
       "      <td>4199.000000</td>\n",
       "      <td>12414.000000</td>\n",
       "      <td>182.000000</td>\n",
       "      <td>2496.000000</td>\n",
       "    </tr>\n",
       "    <tr>\n",
       "      <th>75%</th>\n",
       "      <td>225200.000000</td>\n",
       "      <td>1467.000000</td>\n",
       "      <td>79.000000</td>\n",
       "      <td>4.180000</td>\n",
       "      <td>34.000000</td>\n",
       "      <td>0.690000</td>\n",
       "      <td>4.530230e+05</td>\n",
       "      <td>2.231340e+05</td>\n",
       "      <td>-58.000000</td>\n",
       "      <td>65.000000</td>\n",
       "      <td>...</td>\n",
       "      <td>0.000000</td>\n",
       "      <td>0.000000</td>\n",
       "      <td>1.000000</td>\n",
       "      <td>0.000000</td>\n",
       "      <td>0.000000</td>\n",
       "      <td>0.000000</td>\n",
       "      <td>12554.000000</td>\n",
       "      <td>25889.000000</td>\n",
       "      <td>402.000000</td>\n",
       "      <td>3610.000000</td>\n",
       "    </tr>\n",
       "    <tr>\n",
       "      <th>max</th>\n",
       "      <td>300000.000000</td>\n",
       "      <td>2224.000000</td>\n",
       "      <td>100.000000</td>\n",
       "      <td>4404.580000</td>\n",
       "      <td>54.000000</td>\n",
       "      <td>339.430000</td>\n",
       "      <td>1.210760e+07</td>\n",
       "      <td>9.440295e+06</td>\n",
       "      <td>0.000000</td>\n",
       "      <td>2552.000000</td>\n",
       "      <td>...</td>\n",
       "      <td>1.000000</td>\n",
       "      <td>1.000000</td>\n",
       "      <td>1.000000</td>\n",
       "      <td>1.000000</td>\n",
       "      <td>1.000000</td>\n",
       "      <td>1.000000</td>\n",
       "      <td>215812.000000</td>\n",
       "      <td>235216.000000</td>\n",
       "      <td>2754.000000</td>\n",
       "      <td>7132.000000</td>\n",
       "    </tr>\n",
       "  </tbody>\n",
       "</table>\n",
       "<p>8 rows × 22 columns</p>\n",
       "</div>"
      ],
      "text/plain": [
       "                  id      device_id  battery_level        voltage  \\\n",
       "count  298809.000000  298809.000000  298809.000000  298809.000000   \n",
       "mean   150133.189358     982.856246      57.420627      10.067230   \n",
       "std     86627.615952     587.635906      25.781482     157.580041   \n",
       "min         1.000000       1.000000       1.000000       0.000000   \n",
       "25%     75153.000000     466.000000      37.000000       3.840000   \n",
       "50%    150212.000000     970.000000      59.000000       4.020000   \n",
       "75%    225200.000000    1467.000000      79.000000       4.180000   \n",
       "max    300000.000000    2224.000000     100.000000    4404.580000   \n",
       "\n",
       "         temperature          usage       up_time    sleep_time  \\\n",
       "count  298809.000000  298809.000000  2.988090e+05  2.988090e+05   \n",
       "mean       30.802061       0.480892  4.133925e+05  2.239833e+05   \n",
       "std         5.004957       0.839212  6.871774e+05  4.196295e+05   \n",
       "min        -5.800000    -107.000000  2.500000e+01  0.000000e+00   \n",
       "25%        27.900000       0.260000  5.731700e+04  2.210400e+04   \n",
       "50%        31.000000       0.450000  1.877630e+05  7.996200e+04   \n",
       "75%        34.000000       0.690000  4.530230e+05  2.231340e+05   \n",
       "max        54.000000     339.430000  1.210760e+07  9.440295e+06   \n",
       "\n",
       "       wifi_signal_strength  wifi_link_speed  ...  roaming_enabled  \\\n",
       "count         298809.000000    298809.000000  ...    298809.000000   \n",
       "mean            -103.654354        49.664783  ...         0.025073   \n",
       "std              375.505466        89.545422  ...         0.156347   \n",
       "min            -9999.000000        -1.000000  ...         0.000000   \n",
       "25%             -127.000000        -1.000000  ...         0.000000   \n",
       "50%              -74.000000        39.000000  ...         0.000000   \n",
       "75%              -58.000000        65.000000  ...         0.000000   \n",
       "max                0.000000      2552.000000  ...         1.000000   \n",
       "\n",
       "       bluetooth_enabled  location_enabled  power_saver_enabled  \\\n",
       "count      298809.000000     298809.000000        298809.000000   \n",
       "mean            0.190961          0.487392             0.064081   \n",
       "std             0.393059          0.499842             0.244898   \n",
       "min             0.000000          0.000000             0.000000   \n",
       "25%             0.000000          0.000000             0.000000   \n",
       "50%             0.000000          0.000000             0.000000   \n",
       "75%             0.000000          1.000000             0.000000   \n",
       "max             1.000000          1.000000             1.000000   \n",
       "\n",
       "         nfc_enabled  developer_mode           free          total  \\\n",
       "count  298809.000000   298809.000000  298809.000000  298809.000000   \n",
       "mean        0.155973        0.096567    9739.732598   22384.894243   \n",
       "std         0.362830        0.295367   13858.079778   18468.515310   \n",
       "min         0.000000        0.000000      51.000000     372.000000   \n",
       "25%         0.000000        0.000000    1410.000000   10766.000000   \n",
       "50%         0.000000        0.000000    4199.000000   12414.000000   \n",
       "75%         0.000000        0.000000   12554.000000   25889.000000   \n",
       "max         1.000000        1.000000  215812.000000  235216.000000   \n",
       "\n",
       "         free_system   total_system  \n",
       "count  298809.000000  298809.000000  \n",
       "mean      295.728971    2696.538625  \n",
       "std       308.322161    1057.496174  \n",
       "min         0.000000     218.000000  \n",
       "25%        95.000000    1891.000000  \n",
       "50%       182.000000    2496.000000  \n",
       "75%       402.000000    3610.000000  \n",
       "max      2754.000000    7132.000000  \n",
       "\n",
       "[8 rows x 22 columns]"
      ]
     },
     "execution_count": 8,
     "metadata": {},
     "output_type": "execute_result"
    }
   ],
   "source": [
    "df.describe(include=[np.number])"
   ]
  },
  {
   "cell_type": "code",
   "execution_count": 9,
   "metadata": {
    "ExecuteTime": {
     "end_time": "2020-08-01T23:20:18.723489Z",
     "start_time": "2020-08-01T23:20:17.548158Z"
    }
   },
   "outputs": [
    {
     "data": {
      "text/html": [
       "<div>\n",
       "<style scoped>\n",
       "    .dataframe tbody tr th:only-of-type {\n",
       "        vertical-align: middle;\n",
       "    }\n",
       "\n",
       "    .dataframe tbody tr th {\n",
       "        vertical-align: top;\n",
       "    }\n",
       "\n",
       "    .dataframe thead th {\n",
       "        text-align: right;\n",
       "    }\n",
       "</style>\n",
       "<table border=\"1\" class=\"dataframe\">\n",
       "  <thead>\n",
       "    <tr style=\"text-align: right;\">\n",
       "      <th></th>\n",
       "      <th>timestamp</th>\n",
       "      <th>battery_state</th>\n",
       "      <th>timezone</th>\n",
       "      <th>country_code</th>\n",
       "      <th>charger</th>\n",
       "      <th>health</th>\n",
       "      <th>network_status</th>\n",
       "      <th>mobile_data_status</th>\n",
       "      <th>mobile_data_activity</th>\n",
       "      <th>wifi_status</th>\n",
       "    </tr>\n",
       "  </thead>\n",
       "  <tbody>\n",
       "    <tr>\n",
       "      <th>count</th>\n",
       "      <td>298809</td>\n",
       "      <td>298809</td>\n",
       "      <td>298809</td>\n",
       "      <td>298809</td>\n",
       "      <td>298809</td>\n",
       "      <td>298809</td>\n",
       "      <td>298809</td>\n",
       "      <td>298809</td>\n",
       "      <td>298809</td>\n",
       "      <td>298809</td>\n",
       "    </tr>\n",
       "    <tr>\n",
       "      <th>unique</th>\n",
       "      <td>192899</td>\n",
       "      <td>4</td>\n",
       "      <td>49</td>\n",
       "      <td>35</td>\n",
       "      <td>3</td>\n",
       "      <td>4</td>\n",
       "      <td>18</td>\n",
       "      <td>4</td>\n",
       "      <td>4</td>\n",
       "      <td>5</td>\n",
       "    </tr>\n",
       "    <tr>\n",
       "      <th>top</th>\n",
       "      <td>2017-10-12 20:57:22</td>\n",
       "      <td>Charging</td>\n",
       "      <td>Europe/Lisbon</td>\n",
       "      <td>pt</td>\n",
       "      <td>ac</td>\n",
       "      <td>Good</td>\n",
       "      <td>WIFI</td>\n",
       "      <td>disconnected</td>\n",
       "      <td>none</td>\n",
       "      <td>enabled</td>\n",
       "    </tr>\n",
       "    <tr>\n",
       "      <th>freq</th>\n",
       "      <td>11</td>\n",
       "      <td>169760</td>\n",
       "      <td>136958</td>\n",
       "      <td>249562</td>\n",
       "      <td>156367</td>\n",
       "      <td>298615</td>\n",
       "      <td>174464</td>\n",
       "      <td>238171</td>\n",
       "      <td>233461</td>\n",
       "      <td>215603</td>\n",
       "    </tr>\n",
       "  </tbody>\n",
       "</table>\n",
       "</div>"
      ],
      "text/plain": [
       "                  timestamp battery_state       timezone country_code charger  \\\n",
       "count                298809        298809         298809       298809  298809   \n",
       "unique               192899             4             49           35       3   \n",
       "top     2017-10-12 20:57:22      Charging  Europe/Lisbon           pt      ac   \n",
       "freq                     11        169760         136958       249562  156367   \n",
       "\n",
       "        health network_status mobile_data_status mobile_data_activity  \\\n",
       "count   298809         298809             298809               298809   \n",
       "unique       4             18                  4                    4   \n",
       "top       Good           WIFI       disconnected                 none   \n",
       "freq    298615         174464             238171               233461   \n",
       "\n",
       "       wifi_status  \n",
       "count       298809  \n",
       "unique           5  \n",
       "top        enabled  \n",
       "freq        215603  "
      ]
     },
     "execution_count": 9,
     "metadata": {},
     "output_type": "execute_result"
    }
   ],
   "source": [
    "df.describe(exclude=[np.number])"
   ]
  },
  {
   "cell_type": "markdown",
   "metadata": {},
   "source": [
    "## 1.3 Basic data pre-processing"
   ]
  },
  {
   "cell_type": "code",
   "execution_count": 10,
   "metadata": {
    "ExecuteTime": {
     "end_time": "2020-08-01T23:20:19.325959Z",
     "start_time": "2020-08-01T23:20:18.725962Z"
    }
   },
   "outputs": [
    {
     "data": {
      "text/plain": [
       "11803000.0"
      ]
     },
     "execution_count": 10,
     "metadata": {},
     "output_type": "execute_result"
    }
   ],
   "source": [
    "memory_usage(df) * 5000000 / 100"
   ]
  },
  {
   "cell_type": "code",
   "execution_count": 11,
   "metadata": {
    "ExecuteTime": {
     "end_time": "2020-08-01T23:20:19.350619Z",
     "start_time": "2020-08-01T23:20:19.328850Z"
    }
   },
   "outputs": [
    {
     "data": {
      "text/plain": [
       "1506    200\n",
       "2169    129\n",
       "562     115\n",
       "808     101\n",
       "1796     91\n",
       "       ... \n",
       "1744      1\n",
       "967       1\n",
       "1050      1\n",
       "1737      1\n",
       "700       1\n",
       "Name: device_id, Length: 135, dtype: int64"
      ]
     },
     "execution_count": 11,
     "metadata": {},
     "output_type": "execute_result"
    }
   ],
   "source": [
    "df.query('usage < 0 | usage > 100')['device_id'].value_counts()"
   ]
  },
  {
   "cell_type": "code",
   "execution_count": 22,
   "metadata": {
    "ExecuteTime": {
     "end_time": "2020-08-01T23:24:07.655548Z",
     "start_time": "2020-08-01T23:24:07.649562Z"
    }
   },
   "outputs": [],
   "source": [
    "np.set_printoptions(threshold=np.inf, formatter={'float_kind':'{:f}'.format})"
   ]
  },
  {
   "cell_type": "code",
   "execution_count": 23,
   "metadata": {
    "ExecuteTime": {
     "end_time": "2020-08-01T23:24:07.910643Z",
     "start_time": "2020-08-01T23:24:07.894923Z"
    }
   },
   "outputs": [
    {
     "data": {
      "text/plain": [
       "array([[-0.010000, -0.020000, -0.030000, -0.040000, -0.050000, -0.060000,\n",
       "        -0.070000, -0.120000, -0.100000, -0.090000, -0.160000, -0.210000,\n",
       "        -0.080000, -0.110000, -0.150000, -0.140000, -0.130000, -0.170000,\n",
       "        -0.260000, -0.180000, -0.310000, -0.340000, -0.220000, -0.190000,\n",
       "        -0.370000, -0.230000, -0.250000, -0.280000, -0.760000, -0.300000,\n",
       "        -0.410000, -0.380000, -0.530000, -0.810000, -0.600000, -0.490000,\n",
       "        -0.290000, -0.200000, -0.240000, -0.430000, -0.670000, -0.450000,\n",
       "        -0.510000, -0.690000, -0.740000, -1.940000, -2.030000,\n",
       "        -12.710000, -0.700000, -0.360000, -8.000000, -0.540000,\n",
       "        -1.570000, -0.500000, -0.470000, -0.440000, -0.650000, -1.440000,\n",
       "        -0.680000, -1.270000, -0.940000, -0.990000, -1.310000,\n",
       "        -15.930000, -3.470000, -1.970000, -3.440000, -1.300000,\n",
       "        -2.650000, -1.370000, -3.230000, -0.610000, -107.000000,\n",
       "        -2.000000, -7.500000, -1.250000, -62.000000, -35.000000,\n",
       "        -1.500000, -11.500000, -2.520000, -4.500000, -2.750000,\n",
       "        -11.000000, -0.520000, -3.130000, -1.340000, -1.960000,\n",
       "        -6.320000, -4.440000, -1.160000, -0.580000, -3.420000, -0.350000,\n",
       "        -2.810000, -2.680000, -62.940000, -3.540000, -1.040000,\n",
       "        -0.710000, -23.140000, -30.080000, -0.730000, -0.660000,\n",
       "        -9.880000, -2.710000, -1.950000, -17.880000, 339.430000,\n",
       "        -1.590000, -9.560000, -14.890000, -2.550000, -3.380000,\n",
       "        -10.860000, -0.570000, -1.090000, -1.020000, -15.400000,\n",
       "        -0.980000, -3.760000, -15.830000, -2.320000, -0.320000,\n",
       "        -21.430000, -15.880000, -0.880000, -0.720000, -1.170000,\n",
       "        -1.490000, -3.190000, -0.330000, -1.210000, -5.670000, -8.760000,\n",
       "        -3.050000, -1.600000, -4.550000, -0.830000, -2.600000, -1.230000,\n",
       "        -0.790000, -1.140000, -26.750000, -0.560000, -4.240000,\n",
       "        -0.590000, -3.850000, -0.620000, -61.330000, -0.460000,\n",
       "        -2.910000, 162.000000]])"
      ]
     },
     "execution_count": 23,
     "metadata": {},
     "output_type": "execute_result"
    }
   ],
   "source": [
    "np.array([df.query('usage < 0 | usage > 100')['usage'].value_counts().index])"
   ]
  },
  {
   "cell_type": "code",
   "execution_count": null,
   "metadata": {},
   "outputs": [],
   "source": []
  }
 ],
 "metadata": {
  "kernelspec": {
   "display_name": "Python 3",
   "language": "python",
   "name": "python3"
  },
  "language_info": {
   "codemirror_mode": {
    "name": "ipython",
    "version": 3
   },
   "file_extension": ".py",
   "mimetype": "text/x-python",
   "name": "python",
   "nbconvert_exporter": "python",
   "pygments_lexer": "ipython3",
   "version": "3.8.4"
  },
  "toc": {
   "base_numbering": 1,
   "nav_menu": {},
   "number_sections": true,
   "sideBar": true,
   "skip_h1_title": false,
   "title_cell": "Table of Contents",
   "title_sidebar": "Contents",
   "toc_cell": false,
   "toc_position": {},
   "toc_section_display": true,
   "toc_window_display": false
  }
 },
 "nbformat": 4,
 "nbformat_minor": 4
}
