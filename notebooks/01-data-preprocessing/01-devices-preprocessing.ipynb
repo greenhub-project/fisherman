{
 "cells": [
  {
   "cell_type": "markdown",
   "metadata": {},
   "source": [
    "# Devices pre-processing\n",
    "\n",
    "This task will fetch the devices raw data, perform data cleaning, store metadata information in mongo and store processed data in parquet files."
   ]
  },
  {
   "cell_type": "markdown",
   "metadata": {},
   "source": [
    "## Import libraries"
   ]
  },
  {
   "cell_type": "code",
   "execution_count": 1,
   "metadata": {
    "ExecuteTime": {
     "end_time": "2020-08-03T22:28:14.270882Z",
     "start_time": "2020-08-03T22:28:14.263814Z"
    }
   },
   "outputs": [],
   "source": [
    "import sys\n",
    "\n",
    "sys.path.append('..')"
   ]
  },
  {
   "cell_type": "code",
   "execution_count": 2,
   "metadata": {
    "ExecuteTime": {
     "end_time": "2020-08-03T22:28:15.034649Z",
     "start_time": "2020-08-03T22:28:14.276424Z"
    }
   },
   "outputs": [],
   "source": [
    "import os\n",
    "import yaml\n",
    "import requests\n",
    "import numpy as np\n",
    "import pandas as pd\n",
    "\n",
    "from pymongo import MongoClient\n",
    "\n",
    "from utils import get_csv_files, memory_usage, \\\n",
    "    correct_encoding, update_page_metadata"
   ]
  },
  {
   "cell_type": "markdown",
   "metadata": {},
   "source": [
    "## Load the data"
   ]
  },
  {
   "cell_type": "code",
   "execution_count": 3,
   "metadata": {
    "ExecuteTime": {
     "end_time": "2020-08-03T22:28:15.045196Z",
     "start_time": "2020-08-03T22:28:15.036945Z"
    }
   },
   "outputs": [],
   "source": [
    "BASE_PATH = '../../'\n",
    "\n",
    "CONFIG_DIR = os.path.join(BASE_PATH, 'config')\n",
    "STORAGE_DIR = os.path.join(BASE_PATH, 'storage')\n",
    "DATA_DIR = os.path.join(BASE_PATH, 'data')\n",
    "\n",
    "config = yaml.load(open(os.path.join(CONFIG_DIR, 'env.yml')),\n",
    "                   Loader=yaml.FullLoader)"
   ]
  },
  {
   "cell_type": "code",
   "execution_count": 4,
   "metadata": {
    "ExecuteTime": {
     "end_time": "2020-08-03T22:28:15.105665Z",
     "start_time": "2020-08-03T22:28:15.047785Z"
    }
   },
   "outputs": [
    {
     "data": {
      "text/plain": [
       "<pymongo.results.InsertOneResult at 0x7fafa0245700>"
      ]
     },
     "execution_count": 4,
     "metadata": {},
     "output_type": "execute_result"
    }
   ],
   "source": [
    "model = 'devices'\n",
    "model_storage = os.path.join(STORAGE_DIR, model)\n",
    "\n",
    "if not os.path.exists(model_storage):\n",
    "    os.makedirs(model_storage)\n",
    "\n",
    "client = MongoClient('mongodb://{}:{}@{}:{}'.format(config['MONGO_USERNAME'], config['MONGO_PASSWORD'],\n",
    "                                                    config['MONGO_HOST'], config['MONGO_PORT']))\n",
    "metadata_db = client[config['MONGO_DATABASE']]\n",
    "\n",
    "model_metadata = metadata_db[model]\n",
    "\n",
    "model_metadata.delete_many({})\n",
    "model_metadata.insert_one({'pages': []})"
   ]
  },
  {
   "cell_type": "code",
   "execution_count": 5,
   "metadata": {
    "ExecuteTime": {
     "end_time": "2020-08-03T22:28:15.113495Z",
     "start_time": "2020-08-03T22:28:15.108373Z"
    }
   },
   "outputs": [],
   "source": [
    "csv_files = get_csv_files(os.path.join(DATA_DIR, 'raw', model, '*.csv'))"
   ]
  },
  {
   "cell_type": "code",
   "execution_count": 6,
   "metadata": {
    "ExecuteTime": {
     "end_time": "2020-08-03T22:28:15.122448Z",
     "start_time": "2020-08-03T22:28:15.116809Z"
    }
   },
   "outputs": [],
   "source": [
    "if not csv_files:\n",
    "    raise FileNotFoundError(\n",
    "        'Couldn\\'t find any csv files! Please make sure the filepath exists')"
   ]
  },
  {
   "cell_type": "code",
   "execution_count": 7,
   "metadata": {
    "ExecuteTime": {
     "end_time": "2020-08-03T22:28:15.606209Z",
     "start_time": "2020-08-03T22:28:15.130143Z"
    }
   },
   "outputs": [
    {
     "name": "stdout",
     "output_type": "stream",
     "text": [
      "<class 'pandas.core.frame.DataFrame'>\n",
      "RangeIndex: 300000 entries, 0 to 299999\n",
      "Data columns (total 6 columns):\n",
      " #   Column        Non-Null Count   Dtype \n",
      "---  ------        --------------   ----- \n",
      " 0   id            300000 non-null  int64 \n",
      " 1   model         299999 non-null  object\n",
      " 2   manufacturer  300000 non-null  object\n",
      " 3   brand         300000 non-null  object\n",
      " 4   os_version    300000 non-null  object\n",
      " 5   is_root       300000 non-null  int64 \n",
      "dtypes: int64(2), object(4)\n",
      "memory usage: 13.7+ MB\n"
     ]
    }
   ],
   "source": [
    "df = pd.read_csv(csv_files[0], sep=';')\n",
    "\n",
    "# sample rows to list columns and dtypes\n",
    "df.info()"
   ]
  },
  {
   "cell_type": "code",
   "execution_count": 8,
   "metadata": {
    "ExecuteTime": {
     "end_time": "2020-08-03T22:28:15.649255Z",
     "start_time": "2020-08-03T22:28:15.609835Z"
    }
   },
   "outputs": [
    {
     "data": {
      "text/html": [
       "<div>\n",
       "<style scoped>\n",
       "    .dataframe tbody tr th:only-of-type {\n",
       "        vertical-align: middle;\n",
       "    }\n",
       "\n",
       "    .dataframe tbody tr th {\n",
       "        vertical-align: top;\n",
       "    }\n",
       "\n",
       "    .dataframe thead th {\n",
       "        text-align: right;\n",
       "    }\n",
       "</style>\n",
       "<table border=\"1\" class=\"dataframe\">\n",
       "  <thead>\n",
       "    <tr style=\"text-align: right;\">\n",
       "      <th></th>\n",
       "      <th>id</th>\n",
       "      <th>is_root</th>\n",
       "    </tr>\n",
       "  </thead>\n",
       "  <tbody>\n",
       "    <tr>\n",
       "      <th>count</th>\n",
       "      <td>300000.000000</td>\n",
       "      <td>300000.000000</td>\n",
       "    </tr>\n",
       "    <tr>\n",
       "      <th>mean</th>\n",
       "      <td>150000.500000</td>\n",
       "      <td>0.044053</td>\n",
       "    </tr>\n",
       "    <tr>\n",
       "      <th>std</th>\n",
       "      <td>86602.684716</td>\n",
       "      <td>0.205214</td>\n",
       "    </tr>\n",
       "    <tr>\n",
       "      <th>min</th>\n",
       "      <td>1.000000</td>\n",
       "      <td>0.000000</td>\n",
       "    </tr>\n",
       "    <tr>\n",
       "      <th>25%</th>\n",
       "      <td>75000.750000</td>\n",
       "      <td>0.000000</td>\n",
       "    </tr>\n",
       "    <tr>\n",
       "      <th>50%</th>\n",
       "      <td>150000.500000</td>\n",
       "      <td>0.000000</td>\n",
       "    </tr>\n",
       "    <tr>\n",
       "      <th>75%</th>\n",
       "      <td>225000.250000</td>\n",
       "      <td>0.000000</td>\n",
       "    </tr>\n",
       "    <tr>\n",
       "      <th>max</th>\n",
       "      <td>300000.000000</td>\n",
       "      <td>1.000000</td>\n",
       "    </tr>\n",
       "  </tbody>\n",
       "</table>\n",
       "</div>"
      ],
      "text/plain": [
       "                  id        is_root\n",
       "count  300000.000000  300000.000000\n",
       "mean   150000.500000       0.044053\n",
       "std     86602.684716       0.205214\n",
       "min         1.000000       0.000000\n",
       "25%     75000.750000       0.000000\n",
       "50%    150000.500000       0.000000\n",
       "75%    225000.250000       0.000000\n",
       "max    300000.000000       1.000000"
      ]
     },
     "execution_count": 8,
     "metadata": {},
     "output_type": "execute_result"
    }
   ],
   "source": [
    "df.describe(include=[np.number])"
   ]
  },
  {
   "cell_type": "code",
   "execution_count": 9,
   "metadata": {
    "ExecuteTime": {
     "end_time": "2020-08-03T22:28:16.182083Z",
     "start_time": "2020-08-03T22:28:15.654207Z"
    }
   },
   "outputs": [
    {
     "data": {
      "text/html": [
       "<div>\n",
       "<style scoped>\n",
       "    .dataframe tbody tr th:only-of-type {\n",
       "        vertical-align: middle;\n",
       "    }\n",
       "\n",
       "    .dataframe tbody tr th {\n",
       "        vertical-align: top;\n",
       "    }\n",
       "\n",
       "    .dataframe thead th {\n",
       "        text-align: right;\n",
       "    }\n",
       "</style>\n",
       "<table border=\"1\" class=\"dataframe\">\n",
       "  <thead>\n",
       "    <tr style=\"text-align: right;\">\n",
       "      <th></th>\n",
       "      <th>model</th>\n",
       "      <th>manufacturer</th>\n",
       "      <th>brand</th>\n",
       "      <th>os_version</th>\n",
       "    </tr>\n",
       "  </thead>\n",
       "  <tbody>\n",
       "    <tr>\n",
       "      <th>count</th>\n",
       "      <td>299999</td>\n",
       "      <td>300000</td>\n",
       "      <td>300000</td>\n",
       "      <td>300000</td>\n",
       "    </tr>\n",
       "    <tr>\n",
       "      <th>unique</th>\n",
       "      <td>15417</td>\n",
       "      <td>2791</td>\n",
       "      <td>3083</td>\n",
       "      <td>74</td>\n",
       "    </tr>\n",
       "    <tr>\n",
       "      <th>top</th>\n",
       "      <td>Redmi 5A</td>\n",
       "      <td>samsung</td>\n",
       "      <td>samsung</td>\n",
       "      <td>8.1.0</td>\n",
       "    </tr>\n",
       "    <tr>\n",
       "      <th>freq</th>\n",
       "      <td>3217</td>\n",
       "      <td>82928</td>\n",
       "      <td>82007</td>\n",
       "      <td>44886</td>\n",
       "    </tr>\n",
       "  </tbody>\n",
       "</table>\n",
       "</div>"
      ],
      "text/plain": [
       "           model manufacturer    brand os_version\n",
       "count     299999       300000   300000     300000\n",
       "unique     15417         2791     3083         74\n",
       "top     Redmi 5A      samsung  samsung      8.1.0\n",
       "freq        3217        82928    82007      44886"
      ]
     },
     "execution_count": 9,
     "metadata": {},
     "output_type": "execute_result"
    }
   ],
   "source": [
    "df.describe(exclude=[np.number])"
   ]
  },
  {
   "cell_type": "markdown",
   "metadata": {},
   "source": [
    "## Basic data pre-processing"
   ]
  },
  {
   "cell_type": "code",
   "execution_count": 10,
   "metadata": {
    "ExecuteTime": {
     "end_time": "2020-08-03T22:28:16.191726Z",
     "start_time": "2020-08-03T22:28:16.184508Z"
    }
   },
   "outputs": [],
   "source": [
    "def save_df_page(page, chunks, collection, exclude=['id']):\n",
    "    # concatenate data chunks -> careful benchmark this\n",
    "    df = pd.concat(chunks, axis=0, ignore_index=True)\n",
    "\n",
    "    # store page metadata in mongo\n",
    "    update_page_metadata(collection, df)\n",
    "\n",
    "    # save output to a parquet file with brotli compression\n",
    "    df.to_parquet(os.path.join(model_storage, '{}.{}.parquet'.format(\n",
    "        model, page)), compression='brotli')\n",
    "\n",
    "    return page + 1"
   ]
  },
  {
   "cell_type": "code",
   "execution_count": 11,
   "metadata": {
    "ExecuteTime": {
     "end_time": "2020-08-03T22:28:16.243053Z",
     "start_time": "2020-08-03T22:28:16.197379Z"
    }
   },
   "outputs": [
    {
     "data": {
      "text/plain": [
       "<pymongo.results.UpdateResult at 0x7fafa12e2ac0>"
      ]
     },
     "execution_count": 11,
     "metadata": {},
     "output_type": "execute_result"
    }
   ],
   "source": [
    "mappings = {'id': 'uint32', 'model': 'category', 'manufacturer': 'category',\n",
    "            'brand': 'category', 'os_version': 'category', 'is_root': 'bool'}\n",
    "\n",
    "model_metadata.update_one({}, {'$set': {'dtypes': mappings}})"
   ]
  },
  {
   "cell_type": "code",
   "execution_count": 12,
   "metadata": {
    "ExecuteTime": {
     "end_time": "2020-08-03T22:28:16.253787Z",
     "start_time": "2020-08-03T22:28:16.246701Z"
    }
   },
   "outputs": [],
   "source": [
    "total_rows = 0\n",
    "total_memory_usage = 0.0\n",
    "memory_usage_split = 0.0\n",
    "last_id = 0\n",
    "\n",
    "page = 0\n",
    "chunks = []\n",
    "models_set = set()"
   ]
  },
  {
   "cell_type": "code",
   "execution_count": 13,
   "metadata": {
    "ExecuteTime": {
     "end_time": "2020-08-03T22:28:16.261887Z",
     "start_time": "2020-08-03T22:28:16.256623Z"
    }
   },
   "outputs": [
    {
     "name": "stdout",
     "output_type": "stream",
     "text": [
      "Total csv files: 2\n"
     ]
    }
   ],
   "source": [
    "print('Total csv files: {}'.format(len(csv_files)))"
   ]
  },
  {
   "cell_type": "code",
   "execution_count": 14,
   "metadata": {
    "ExecuteTime": {
     "end_time": "2020-08-03T22:28:18.730250Z",
     "start_time": "2020-08-03T22:28:16.265420Z"
    },
    "code_folding": []
   },
   "outputs": [
    {
     "name": "stdout",
     "output_type": "stream",
     "text": [
      "../../data/raw/devices/devices.query.1.csv ✔\n",
      "../../data/raw/devices/devices.query.2.csv ✔\n"
     ]
    }
   ],
   "source": [
    "for filepath in csv_files:\n",
    "    df = pd.read_csv(filepath, sep=';')\n",
    "\n",
    "    # drop missing values\n",
    "    df = df.dropna()\n",
    "\n",
    "    string_columns = df.select_dtypes(include='object').columns.to_list()\n",
    "\n",
    "    # basic string pre-processing: convert to lowercase and strip blank chars\n",
    "    for column in string_columns:\n",
    "        df.loc[:, column] = [x.lower().strip() for x in df[column]]\n",
    "    \n",
    "    # os_version\n",
    "    df = df.drop(df[df['os_version'].str.isalpha()].index, axis=0)\n",
    "    \n",
    "    # slice the minor os_version number e.g. 8.0.1 -> 8.0\n",
    "    df.loc[:, 'os_version'] = ['.'.join(x.split('.')[:2]) for x in df['os_version']]\n",
    "\n",
    "    df = df.astype(mappings)\n",
    "\n",
    "    total_rows += df.shape[0]\n",
    "    page_memory_usage = memory_usage(df)\n",
    "    total_memory_usage += page_memory_usage\n",
    "    memory_usage_split += page_memory_usage\n",
    "\n",
    "    last_id = max(last_id, df['id'].max())\n",
    "    models_set.update(df['model'].unique().to_list())\n",
    "\n",
    "    if memory_usage_split >= config['MEMORY_USAGE_SPLIT']:\n",
    "        print('Page {} created!'.format(page))\n",
    "        page = save_df_page(page, chunks, model_metadata)\n",
    "\n",
    "        del chunks[:]\n",
    "        del chunks\n",
    "        chunks = []\n",
    "        memory_usage_split = 0.0\n",
    "    else:\n",
    "        chunks.append(df)\n",
    "        \n",
    "    print('{} ✔'.format(filepath))"
   ]
  },
  {
   "cell_type": "code",
   "execution_count": 15,
   "metadata": {
    "ExecuteTime": {
     "end_time": "2020-08-03T22:28:20.173299Z",
     "start_time": "2020-08-03T22:28:18.732304Z"
    }
   },
   "outputs": [],
   "source": [
    "if chunks:\n",
    "    save_df_page(page, chunks, model_metadata)\n",
    "    del chunks[:]\n",
    "    del chunks"
   ]
  },
  {
   "cell_type": "code",
   "execution_count": 16,
   "metadata": {
    "ExecuteTime": {
     "end_time": "2020-08-03T22:28:20.189585Z",
     "start_time": "2020-08-03T22:28:20.175253Z"
    }
   },
   "outputs": [
    {
     "data": {
      "text/plain": [
       "<pymongo.results.UpdateResult at 0x7faf989c2200>"
      ]
     },
     "execution_count": 16,
     "metadata": {},
     "output_type": "execute_result"
    }
   ],
   "source": [
    "model_metadata.update_one({}, {'$set': {'last_id': int(last_id)}})"
   ]
  },
  {
   "cell_type": "code",
   "execution_count": 17,
   "metadata": {
    "ExecuteTime": {
     "end_time": "2020-08-03T22:28:20.200130Z",
     "start_time": "2020-08-03T22:28:20.192265Z"
    }
   },
   "outputs": [
    {
     "data": {
      "text/plain": [
       "(306789, 8.17, 306795)"
      ]
     },
     "execution_count": 17,
     "metadata": {},
     "output_type": "execute_result"
    }
   ],
   "source": [
    "total_rows, total_memory_usage, last_id"
   ]
  },
  {
   "cell_type": "code",
   "execution_count": 18,
   "metadata": {
    "ExecuteTime": {
     "end_time": "2020-08-03T22:28:20.209255Z",
     "start_time": "2020-08-03T22:28:20.203382Z"
    }
   },
   "outputs": [],
   "source": [
    "# content = '**{}** | task: data pre-processing, rows: {}, memory usage: {} MB' \\\n",
    "# .format(model,total_rows, total_memory_usage)\n",
    "\n",
    "# requests.post(config['discord_webhook_url'], data={'content': content})"
   ]
  }
 ],
 "metadata": {
  "kernelspec": {
   "display_name": "Python 3",
   "language": "python",
   "name": "python3"
  },
  "language_info": {
   "codemirror_mode": {
    "name": "ipython",
    "version": 3
   },
   "file_extension": ".py",
   "mimetype": "text/x-python",
   "name": "python",
   "nbconvert_exporter": "python",
   "pygments_lexer": "ipython3",
   "version": "3.8.4"
  },
  "toc": {
   "base_numbering": 1,
   "nav_menu": {},
   "number_sections": true,
   "sideBar": true,
   "skip_h1_title": false,
   "title_cell": "Table of Contents",
   "title_sidebar": "Contents",
   "toc_cell": false,
   "toc_position": {},
   "toc_section_display": true,
   "toc_window_display": false
  }
 },
 "nbformat": 4,
 "nbformat_minor": 4
}
