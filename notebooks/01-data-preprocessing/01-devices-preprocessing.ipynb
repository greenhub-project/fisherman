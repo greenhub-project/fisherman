{
 "cells": [
  {
   "cell_type": "markdown",
   "metadata": {},
   "source": [
    "# 1. Devices pre-processing\n",
    "\n",
    "This task will fetch the raw data from the remote database given a SQL query file."
   ]
  },
  {
   "cell_type": "code",
   "execution_count": 1,
   "metadata": {},
   "outputs": [],
   "source": [
    "import sys\n",
    "sys.path.append('..')"
   ]
  },
  {
   "cell_type": "markdown",
   "metadata": {},
   "source": [
    "## 1.1 Import libraries"
   ]
  },
  {
   "cell_type": "code",
   "execution_count": 2,
   "metadata": {},
   "outputs": [
    {
     "data": {
      "text/plain": [
       "True"
      ]
     },
     "execution_count": 2,
     "metadata": {},
     "output_type": "execute_result"
    }
   ],
   "source": [
    "from dotenv import load_dotenv\n",
    "load_dotenv()"
   ]
  },
  {
   "cell_type": "code",
   "execution_count": 3,
   "metadata": {},
   "outputs": [],
   "source": [
    "import os\n",
    "import MySQLdb\n",
    "import numpy as np\n",
    "import pandas as pd\n",
    "\n",
    "from sqlalchemy import create_engine"
   ]
  },
  {
   "cell_type": "code",
   "execution_count": 4,
   "metadata": {},
   "outputs": [],
   "source": [
    "DATA_DIR = '../../data'\n",
    "STORAGE_DIR = os.path.join(DATA_DIR, 'storage')\n",
    "\n",
    "if not os.path.exists(STORAGE_DIR):\n",
    "    os.makedirs(STORAGE_DIR)"
   ]
  },
  {
   "cell_type": "markdown",
   "metadata": {},
   "source": [
    "## 1.2 Create database connection\n",
    "Create a database connection using the driver `mysqlclient`"
   ]
  },
  {
   "cell_type": "code",
   "execution_count": 5,
   "metadata": {},
   "outputs": [],
   "source": [
    "model = 'devices'\n",
    "connection_string = 'mysql://{}:{}@{}/{}'.format(os.getenv('DB_USERNAME'), os.getenv('DB_PASSWORD'), \\\n",
    "                                                 os.getenv('DB_HOST'), os.getenv('DB_DATABASE'))\n",
    "engine = create_engine(connection_string, echo=True)"
   ]
  },
  {
   "cell_type": "markdown",
   "metadata": {},
   "source": [
    "### 1.2.1 Read the SQL query file"
   ]
  },
  {
   "cell_type": "code",
   "execution_count": 6,
   "metadata": {},
   "outputs": [],
   "source": [
    "sql_query = open(os.path.join(DATA_DIR, 'sql/devices.sql')).read()"
   ]
  },
  {
   "cell_type": "markdown",
   "metadata": {},
   "source": [
    "## 1.3 Fetch the remote data"
   ]
  },
  {
   "cell_type": "code",
   "execution_count": 7,
   "metadata": {},
   "outputs": [
    {
     "name": "stdout",
     "output_type": "stream",
     "text": [
      "2020-07-31 00:15:34,824 INFO sqlalchemy.engine.base.Engine SHOW VARIABLES LIKE 'sql_mode'\n",
      "2020-07-31 00:15:34,825 INFO sqlalchemy.engine.base.Engine ()\n",
      "2020-07-31 00:15:34,849 INFO sqlalchemy.engine.base.Engine SHOW VARIABLES LIKE 'lower_case_table_names'\n",
      "2020-07-31 00:15:34,850 INFO sqlalchemy.engine.base.Engine ()\n",
      "2020-07-31 00:15:34,891 INFO sqlalchemy.engine.base.Engine SELECT DATABASE()\n",
      "2020-07-31 00:15:34,892 INFO sqlalchemy.engine.base.Engine ()\n",
      "2020-07-31 00:15:34,931 INFO sqlalchemy.engine.base.Engine show collation where `Charset` = 'utf8mb4' and `Collation` = 'utf8mb4_bin'\n",
      "2020-07-31 00:15:34,932 INFO sqlalchemy.engine.base.Engine ()\n",
      "2020-07-31 00:15:34,955 INFO sqlalchemy.engine.base.Engine SELECT CAST('test plain returns' AS CHAR(60)) AS anon_1\n",
      "2020-07-31 00:15:34,956 INFO sqlalchemy.engine.base.Engine ()\n",
      "2020-07-31 00:15:34,981 INFO sqlalchemy.engine.base.Engine SELECT CAST('test unicode returns' AS CHAR(60)) AS anon_1\n",
      "2020-07-31 00:15:34,982 INFO sqlalchemy.engine.base.Engine ()\n",
      "2020-07-31 00:15:35,003 INFO sqlalchemy.engine.base.Engine SELECT CAST('test collated returns' AS CHAR CHARACTER SET utf8mb4) COLLATE utf8mb4_bin AS anon_1\n",
      "2020-07-31 00:15:35,005 INFO sqlalchemy.engine.base.Engine ()\n",
      "2020-07-31 00:15:35,065 INFO sqlalchemy.engine.base.Engine DESCRIBE `SELECT id, model, manufacturer, brand, os_version, is_root FROM devices\n",
      "ORDER BY id;`\n",
      "2020-07-31 00:15:35,066 INFO sqlalchemy.engine.base.Engine ()\n",
      "2020-07-31 00:15:35,086 INFO sqlalchemy.engine.base.Engine ROLLBACK\n",
      "2020-07-31 00:15:35,126 INFO sqlalchemy.engine.base.Engine SELECT id, model, manufacturer, brand, os_version, is_root FROM devices\n",
      "ORDER BY id;\n",
      "2020-07-31 00:15:35,127 INFO sqlalchemy.engine.base.Engine ()\n"
     ]
    }
   ],
   "source": [
    "df = pd.read_sql(sql_query, engine)"
   ]
  },
  {
   "cell_type": "code",
   "execution_count": 8,
   "metadata": {},
   "outputs": [
    {
     "name": "stdout",
     "output_type": "stream",
     "text": [
      "<class 'pandas.core.frame.DataFrame'>\n",
      "RangeIndex: 306469 entries, 0 to 306468\n",
      "Data columns (total 6 columns):\n",
      " #   Column        Non-Null Count   Dtype \n",
      "---  ------        --------------   ----- \n",
      " 0   id            306469 non-null  int64 \n",
      " 1   model         306469 non-null  object\n",
      " 2   manufacturer  306469 non-null  object\n",
      " 3   brand         306469 non-null  object\n",
      " 4   os_version    306469 non-null  object\n",
      " 5   is_root       306469 non-null  int64 \n",
      "dtypes: int64(2), object(4)\n",
      "memory usage: 14.0+ MB\n"
     ]
    }
   ],
   "source": [
    "df.info()"
   ]
  },
  {
   "cell_type": "markdown",
   "metadata": {},
   "source": [
    "## 1.4 Basic data pre-processing\n",
    "Benchmarking string operations"
   ]
  },
  {
   "cell_type": "code",
   "execution_count": 9,
   "metadata": {},
   "outputs": [],
   "source": [
    "string_columns = df.select_dtypes(include='object').columns.to_list()"
   ]
  },
  {
   "cell_type": "code",
   "execution_count": 10,
   "metadata": {},
   "outputs": [],
   "source": [
    "for column in string_columns:\n",
    "    df[column] = [x.lower().strip() for x in df[column].tolist()]"
   ]
  },
  {
   "cell_type": "code",
   "execution_count": 11,
   "metadata": {},
   "outputs": [],
   "source": [
    "mappings = {'id':'uint32', 'model':'category', 'manufacturer':'category',\n",
    "            'brand':'category', 'os_version':'category', 'is_root': 'uint8'}"
   ]
  },
  {
   "cell_type": "code",
   "execution_count": 12,
   "metadata": {},
   "outputs": [
    {
     "name": "stdout",
     "output_type": "stream",
     "text": [
      "<class 'pandas.core.frame.DataFrame'>\n",
      "RangeIndex: 306469 entries, 0 to 306468\n",
      "Data columns (total 6 columns):\n",
      " #   Column        Non-Null Count   Dtype   \n",
      "---  ------        --------------   -----   \n",
      " 0   id            306469 non-null  uint32  \n",
      " 1   model         306469 non-null  category\n",
      " 2   manufacturer  306469 non-null  category\n",
      " 3   brand         306469 non-null  category\n",
      " 4   os_version    306469 non-null  category\n",
      " 5   is_root       306469 non-null  uint8   \n",
      "dtypes: category(4), uint32(1), uint8(1)\n",
      "memory usage: 4.4 MB\n"
     ]
    }
   ],
   "source": [
    "df = df.astype(mappings)\n",
    "df.info()"
   ]
  },
  {
   "cell_type": "markdown",
   "metadata": {},
   "source": [
    "## 1.5 Save output\n",
    "Storage data in parquet format with brotli compression."
   ]
  },
  {
   "cell_type": "code",
   "execution_count": 13,
   "metadata": {},
   "outputs": [],
   "source": [
    "df.to_parquet(os.path.join(STORAGE_DIR, '{}.parquet'.format(model)), compression='brotli')"
   ]
  }
 ],
 "metadata": {
  "kernelspec": {
   "display_name": "Python 3",
   "language": "python",
   "name": "python3"
  },
  "language_info": {
   "codemirror_mode": {
    "name": "ipython",
    "version": 3
   },
   "file_extension": ".py",
   "mimetype": "text/x-python",
   "name": "python",
   "nbconvert_exporter": "python",
   "pygments_lexer": "ipython3",
   "version": "3.8.4"
  }
 },
 "nbformat": 4,
 "nbformat_minor": 4
}
