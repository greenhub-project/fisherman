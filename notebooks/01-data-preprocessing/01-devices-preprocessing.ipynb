{
 "cells": [
  {
   "cell_type": "markdown",
   "metadata": {},
   "source": [
    "# Devices pre-processing\n",
    "\n",
    "This task will fetch the devices raw data, perform data cleaning, store metadata information in mongo and store processed data in parquet files."
   ]
  },
  {
   "cell_type": "markdown",
   "metadata": {},
   "source": [
    "## Import libraries"
   ]
  },
  {
   "cell_type": "code",
   "execution_count": 1,
   "metadata": {
    "ExecuteTime": {
     "end_time": "2020-08-03T16:25:41.313296Z",
     "start_time": "2020-08-03T16:25:41.308982Z"
    }
   },
   "outputs": [],
   "source": [
    "import sys\n",
    "\n",
    "sys.path.append('..')"
   ]
  },
  {
   "cell_type": "code",
   "execution_count": 2,
   "metadata": {
    "ExecuteTime": {
     "end_time": "2020-08-03T16:25:42.307150Z",
     "start_time": "2020-08-03T16:25:41.316504Z"
    }
   },
   "outputs": [],
   "source": [
    "import os\n",
    "import yaml\n",
    "import requests\n",
    "import numpy as np\n",
    "import pandas as pd\n",
    "\n",
    "from pymongo import MongoClient\n",
    "\n",
    "from utils import get_csv_files, memory_usage, \\\n",
    "    correct_encoding, update_page_metadata"
   ]
  },
  {
   "cell_type": "markdown",
   "metadata": {},
   "source": [
    "## Load the data"
   ]
  },
  {
   "cell_type": "code",
   "execution_count": 3,
   "metadata": {
    "ExecuteTime": {
     "end_time": "2020-08-03T16:25:42.319529Z",
     "start_time": "2020-08-03T16:25:42.309833Z"
    }
   },
   "outputs": [],
   "source": [
    "BASE_PATH = '../../'\n",
    "\n",
    "CONFIG_DIR = os.path.join(BASE_PATH, 'config')\n",
    "STORAGE_DIR = os.path.join(BASE_PATH, 'storage')\n",
    "DATA_DIR = os.path.join(BASE_PATH, 'data')\n",
    "\n",
    "config = yaml.load(open(os.path.join(CONFIG_DIR, 'env.yml')),\n",
    "                   Loader=yaml.FullLoader)"
   ]
  },
  {
   "cell_type": "code",
   "execution_count": 4,
   "metadata": {
    "ExecuteTime": {
     "end_time": "2020-08-03T16:25:42.387339Z",
     "start_time": "2020-08-03T16:25:42.322291Z"
    }
   },
   "outputs": [
    {
     "data": {
      "text/plain": [
       "<pymongo.results.InsertOneResult at 0x7f524648bf40>"
      ]
     },
     "execution_count": 4,
     "metadata": {},
     "output_type": "execute_result"
    }
   ],
   "source": [
    "model = 'devices'\n",
    "model_storage = os.path.join(STORAGE_DIR, model)\n",
    "\n",
    "if not os.path.exists(model_storage):\n",
    "    os.makedirs(model_storage)\n",
    "\n",
    "client = MongoClient('mongodb://{}:{}@{}:{}'.format(config['MONGO_USERNAME'], config['MONGO_PASSWORD'],\n",
    "                                                    config['MONGO_HOST'], config['MONGO_PORT']))\n",
    "metadata_db = client[config['MONGO_DATABASE']]\n",
    "\n",
    "model_metadata = metadata_db[model]\n",
    "\n",
    "model_metadata.delete_many({})\n",
    "model_metadata.insert_one({'pages': []})"
   ]
  },
  {
   "cell_type": "code",
   "execution_count": 5,
   "metadata": {
    "ExecuteTime": {
     "end_time": "2020-08-03T16:25:42.394614Z",
     "start_time": "2020-08-03T16:25:42.390085Z"
    }
   },
   "outputs": [],
   "source": [
    "csv_files = get_csv_files(os.path.join(DATA_DIR, 'raw', model, '*.csv'))"
   ]
  },
  {
   "cell_type": "code",
   "execution_count": 6,
   "metadata": {
    "ExecuteTime": {
     "end_time": "2020-08-03T16:25:42.400335Z",
     "start_time": "2020-08-03T16:25:42.396565Z"
    }
   },
   "outputs": [],
   "source": [
    "if not csv_files:\n",
    "    raise FileNotFoundError(\n",
    "        'Couldn\\'t find any csv files! Please make sure the filepath exists')"
   ]
  },
  {
   "cell_type": "code",
   "execution_count": 7,
   "metadata": {
    "ExecuteTime": {
     "end_time": "2020-08-03T16:25:42.427051Z",
     "start_time": "2020-08-03T16:25:42.404329Z"
    }
   },
   "outputs": [
    {
     "name": "stdout",
     "output_type": "stream",
     "text": [
      "<class 'pandas.core.frame.DataFrame'>\n",
      "RangeIndex: 100 entries, 0 to 99\n",
      "Data columns (total 6 columns):\n",
      " #   Column        Non-Null Count  Dtype \n",
      "---  ------        --------------  ----- \n",
      " 0   id            100 non-null    int64 \n",
      " 1   model         100 non-null    object\n",
      " 2   manufacturer  100 non-null    object\n",
      " 3   brand         100 non-null    object\n",
      " 4   os_version    100 non-null    object\n",
      " 5   is_root       100 non-null    int64 \n",
      "dtypes: int64(2), object(4)\n",
      "memory usage: 4.8+ KB\n"
     ]
    }
   ],
   "source": [
    "df = pd.read_csv(csv_files[0], sep=';', nrows=100)\n",
    "\n",
    "# sample rows to list columns and dtypes\n",
    "df.info()"
   ]
  },
  {
   "cell_type": "code",
   "execution_count": 8,
   "metadata": {
    "ExecuteTime": {
     "end_time": "2020-08-03T16:25:42.462466Z",
     "start_time": "2020-08-03T16:25:42.430072Z"
    }
   },
   "outputs": [
    {
     "data": {
      "text/html": [
       "<div>\n",
       "<style scoped>\n",
       "    .dataframe tbody tr th:only-of-type {\n",
       "        vertical-align: middle;\n",
       "    }\n",
       "\n",
       "    .dataframe tbody tr th {\n",
       "        vertical-align: top;\n",
       "    }\n",
       "\n",
       "    .dataframe thead th {\n",
       "        text-align: right;\n",
       "    }\n",
       "</style>\n",
       "<table border=\"1\" class=\"dataframe\">\n",
       "  <thead>\n",
       "    <tr style=\"text-align: right;\">\n",
       "      <th></th>\n",
       "      <th>id</th>\n",
       "      <th>is_root</th>\n",
       "    </tr>\n",
       "  </thead>\n",
       "  <tbody>\n",
       "    <tr>\n",
       "      <th>count</th>\n",
       "      <td>100.000000</td>\n",
       "      <td>100.000000</td>\n",
       "    </tr>\n",
       "    <tr>\n",
       "      <th>mean</th>\n",
       "      <td>50.500000</td>\n",
       "      <td>0.060000</td>\n",
       "    </tr>\n",
       "    <tr>\n",
       "      <th>std</th>\n",
       "      <td>29.011492</td>\n",
       "      <td>0.238683</td>\n",
       "    </tr>\n",
       "    <tr>\n",
       "      <th>min</th>\n",
       "      <td>1.000000</td>\n",
       "      <td>0.000000</td>\n",
       "    </tr>\n",
       "    <tr>\n",
       "      <th>25%</th>\n",
       "      <td>25.750000</td>\n",
       "      <td>0.000000</td>\n",
       "    </tr>\n",
       "    <tr>\n",
       "      <th>50%</th>\n",
       "      <td>50.500000</td>\n",
       "      <td>0.000000</td>\n",
       "    </tr>\n",
       "    <tr>\n",
       "      <th>75%</th>\n",
       "      <td>75.250000</td>\n",
       "      <td>0.000000</td>\n",
       "    </tr>\n",
       "    <tr>\n",
       "      <th>max</th>\n",
       "      <td>100.000000</td>\n",
       "      <td>1.000000</td>\n",
       "    </tr>\n",
       "  </tbody>\n",
       "</table>\n",
       "</div>"
      ],
      "text/plain": [
       "               id     is_root\n",
       "count  100.000000  100.000000\n",
       "mean    50.500000    0.060000\n",
       "std     29.011492    0.238683\n",
       "min      1.000000    0.000000\n",
       "25%     25.750000    0.000000\n",
       "50%     50.500000    0.000000\n",
       "75%     75.250000    0.000000\n",
       "max    100.000000    1.000000"
      ]
     },
     "execution_count": 8,
     "metadata": {},
     "output_type": "execute_result"
    }
   ],
   "source": [
    "df.describe(include=[np.number])"
   ]
  },
  {
   "cell_type": "code",
   "execution_count": 9,
   "metadata": {
    "ExecuteTime": {
     "end_time": "2020-08-03T16:25:42.505294Z",
     "start_time": "2020-08-03T16:25:42.469573Z"
    }
   },
   "outputs": [
    {
     "data": {
      "text/html": [
       "<div>\n",
       "<style scoped>\n",
       "    .dataframe tbody tr th:only-of-type {\n",
       "        vertical-align: middle;\n",
       "    }\n",
       "\n",
       "    .dataframe tbody tr th {\n",
       "        vertical-align: top;\n",
       "    }\n",
       "\n",
       "    .dataframe thead th {\n",
       "        text-align: right;\n",
       "    }\n",
       "</style>\n",
       "<table border=\"1\" class=\"dataframe\">\n",
       "  <thead>\n",
       "    <tr style=\"text-align: right;\">\n",
       "      <th></th>\n",
       "      <th>model</th>\n",
       "      <th>manufacturer</th>\n",
       "      <th>brand</th>\n",
       "      <th>os_version</th>\n",
       "    </tr>\n",
       "  </thead>\n",
       "  <tbody>\n",
       "    <tr>\n",
       "      <th>count</th>\n",
       "      <td>100</td>\n",
       "      <td>100</td>\n",
       "      <td>100</td>\n",
       "      <td>100</td>\n",
       "    </tr>\n",
       "    <tr>\n",
       "      <th>unique</th>\n",
       "      <td>72</td>\n",
       "      <td>22</td>\n",
       "      <td>27</td>\n",
       "      <td>11</td>\n",
       "    </tr>\n",
       "    <tr>\n",
       "      <th>top</th>\n",
       "      <td>ALE-L21</td>\n",
       "      <td>samsung</td>\n",
       "      <td>samsung</td>\n",
       "      <td>7.0</td>\n",
       "    </tr>\n",
       "    <tr>\n",
       "      <th>freq</th>\n",
       "      <td>8</td>\n",
       "      <td>28</td>\n",
       "      <td>28</td>\n",
       "      <td>34</td>\n",
       "    </tr>\n",
       "  </tbody>\n",
       "</table>\n",
       "</div>"
      ],
      "text/plain": [
       "          model manufacturer    brand os_version\n",
       "count       100          100      100        100\n",
       "unique       72           22       27         11\n",
       "top     ALE-L21      samsung  samsung        7.0\n",
       "freq          8           28       28         34"
      ]
     },
     "execution_count": 9,
     "metadata": {},
     "output_type": "execute_result"
    }
   ],
   "source": [
    "df.describe(exclude=[np.number])"
   ]
  },
  {
   "cell_type": "markdown",
   "metadata": {},
   "source": [
    "## Basic data pre-processing"
   ]
  },
  {
   "cell_type": "code",
   "execution_count": 10,
   "metadata": {
    "ExecuteTime": {
     "end_time": "2020-08-03T16:25:42.514731Z",
     "start_time": "2020-08-03T16:25:42.507669Z"
    }
   },
   "outputs": [],
   "source": [
    "def save_df_page(page, chunks, collection, exclude=['id']):\n",
    "    # concatenate data chunks -> careful benchmark this\n",
    "    df = pd.concat(chunks, axis=0, ignore_index=True)\n",
    "\n",
    "    # store page metadata in mongo\n",
    "    update_page_metadata(collection, df)\n",
    "\n",
    "    # save output to a parquet file with brotli compression\n",
    "    df.to_parquet(os.path.join(model_storage, '{}.{}.parquet'.format(\n",
    "        model, page)), compression='brotli')\n",
    "\n",
    "    return page + 1"
   ]
  },
  {
   "cell_type": "code",
   "execution_count": 11,
   "metadata": {
    "ExecuteTime": {
     "end_time": "2020-08-03T16:25:42.521979Z",
     "start_time": "2020-08-03T16:25:42.517595Z"
    }
   },
   "outputs": [],
   "source": [
    "mappings = {'id': 'uint32', 'model': 'category', 'manufacturer': 'category',\n",
    "            'brand': 'category', 'os_version': 'category', 'is_root': 'bool'}"
   ]
  },
  {
   "cell_type": "code",
   "execution_count": 12,
   "metadata": {
    "ExecuteTime": {
     "end_time": "2020-08-03T16:25:42.528245Z",
     "start_time": "2020-08-03T16:25:42.524161Z"
    }
   },
   "outputs": [],
   "source": [
    "total_rows = 0\n",
    "total_memory_usage = 0.0\n",
    "memory_usage_split = 0.0\n",
    "last_id = 0\n",
    "\n",
    "page = 0\n",
    "chunks = []\n",
    "models_set = set()"
   ]
  },
  {
   "cell_type": "code",
   "execution_count": 13,
   "metadata": {
    "ExecuteTime": {
     "end_time": "2020-08-03T16:25:42.535681Z",
     "start_time": "2020-08-03T16:25:42.530507Z"
    }
   },
   "outputs": [
    {
     "name": "stdout",
     "output_type": "stream",
     "text": [
      "Total csv files: 2\n"
     ]
    }
   ],
   "source": [
    "print('Total csv files: {}'.format(len(csv_files)))"
   ]
  },
  {
   "cell_type": "code",
   "execution_count": 14,
   "metadata": {
    "ExecuteTime": {
     "end_time": "2020-08-03T16:25:44.246426Z",
     "start_time": "2020-08-03T16:25:42.537944Z"
    },
    "code_folding": []
   },
   "outputs": [
    {
     "name": "stdout",
     "output_type": "stream",
     "text": [
      "../../data/raw/devices/devices.query.1.csv ✔\n",
      "../../data/raw/devices/devices.query.2.csv ✔\n"
     ]
    }
   ],
   "source": [
    "for filepath in csv_files:\n",
    "    df = pd.read_csv(filepath, sep=';')\n",
    "\n",
    "    # drop missing values\n",
    "    df = df.dropna()\n",
    "\n",
    "    string_columns = df.select_dtypes(include='object').columns.to_list()\n",
    "\n",
    "    # basic string pre-processing: convert to lowercase and strip blank chars\n",
    "    for column in string_columns:\n",
    "        df.loc[:, column] = [x.lower().strip() for x in df[column].tolist()]\n",
    "\n",
    "    # slice the minor os_version number e.g. 8.0.1 -> 8.0\n",
    "    df.loc[:, 'os_version'] = df['os_version'].str.slice(0, 3)\n",
    "\n",
    "    df = df.astype(mappings)\n",
    "\n",
    "    total_rows += df.shape[0]\n",
    "    page_memory_usage = memory_usage(df)\n",
    "    total_memory_usage += page_memory_usage\n",
    "    memory_usage_split += page_memory_usage\n",
    "\n",
    "    last_id = max(last_id, df['id'].max())\n",
    "    models_set.update(df['model'].unique().to_list())\n",
    "\n",
    "    if memory_usage_split >= config['MEMORY_USAGE_SPLIT']:\n",
    "        print('Page {} created!'.format(page))\n",
    "        page = save_df_page(page, chunks, model_metadata)\n",
    "\n",
    "        del chunks[:]\n",
    "        del chunks\n",
    "        chunks = []\n",
    "        memory_usage_split = 0.0\n",
    "    else:\n",
    "        chunks.append(df)\n",
    "        \n",
    "    print('{} ✔'.format(filepath))"
   ]
  },
  {
   "cell_type": "code",
   "execution_count": 15,
   "metadata": {
    "ExecuteTime": {
     "end_time": "2020-08-03T16:25:45.590851Z",
     "start_time": "2020-08-03T16:25:44.248365Z"
    }
   },
   "outputs": [],
   "source": [
    "if chunks:\n",
    "    save_df_page(page, chunks, model_metadata)\n",
    "    del chunks[:]\n",
    "    del chunks"
   ]
  },
  {
   "cell_type": "code",
   "execution_count": 16,
   "metadata": {
    "ExecuteTime": {
     "end_time": "2020-08-03T16:25:45.599771Z",
     "start_time": "2020-08-03T16:25:45.593303Z"
    }
   },
   "outputs": [
    {
     "data": {
      "text/plain": [
       "<pymongo.results.UpdateResult at 0x7f52465d46c0>"
      ]
     },
     "execution_count": 16,
     "metadata": {},
     "output_type": "execute_result"
    }
   ],
   "source": [
    "model_metadata.update_one({}, {'$set': {'last_id': int(last_id)}})"
   ]
  },
  {
   "cell_type": "code",
   "execution_count": 17,
   "metadata": {
    "ExecuteTime": {
     "end_time": "2020-08-03T16:25:45.607014Z",
     "start_time": "2020-08-03T16:25:45.601730Z"
    }
   },
   "outputs": [
    {
     "data": {
      "text/plain": [
       "(306794, 8.17, 306795)"
      ]
     },
     "execution_count": 17,
     "metadata": {},
     "output_type": "execute_result"
    }
   ],
   "source": [
    "total_rows, total_memory_usage, last_id"
   ]
  },
  {
   "cell_type": "code",
   "execution_count": 18,
   "metadata": {
    "ExecuteTime": {
     "end_time": "2020-08-03T16:25:45.615293Z",
     "start_time": "2020-08-03T16:25:45.612837Z"
    }
   },
   "outputs": [],
   "source": [
    "# content = '**{}** | task: data pre-processing, rows: {}, memory usage: {} MB' \\\n",
    "# .format(model,total_rows, total_memory_usage)\n",
    "\n",
    "# requests.post(config['discord_webhook_url'], data={'content': content})"
   ]
  }
 ],
 "metadata": {
  "kernelspec": {
   "display_name": "Python 3",
   "language": "python",
   "name": "python3"
  },
  "language_info": {
   "codemirror_mode": {
    "name": "ipython",
    "version": 3
   },
   "file_extension": ".py",
   "mimetype": "text/x-python",
   "name": "python",
   "nbconvert_exporter": "python",
   "pygments_lexer": "ipython3",
   "version": "3.8.4"
  },
  "toc": {
   "base_numbering": 1,
   "nav_menu": {},
   "number_sections": true,
   "sideBar": true,
   "skip_h1_title": false,
   "title_cell": "Table of Contents",
   "title_sidebar": "Contents",
   "toc_cell": false,
   "toc_position": {},
   "toc_section_display": true,
   "toc_window_display": false
  }
 },
 "nbformat": 4,
 "nbformat_minor": 4
}
